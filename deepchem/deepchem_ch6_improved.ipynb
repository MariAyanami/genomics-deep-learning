{
  "nbformat": 4,
  "nbformat_minor": 0,
  "metadata": {
    "colab": {
      "name": "deepchem_ch6_improved.ipynb",
      "version": "0.3.2",
      "provenance": [],
      "collapsed_sections": [],
      "include_colab_link": true
    },
    "kernelspec": {
      "name": "python3",
      "display_name": "Python 3"
    },
    "accelerator": "GPU"
  },
  "cells": [
    {
      "cell_type": "markdown",
      "metadata": {
        "id": "view-in-github",
        "colab_type": "text"
      },
      "source": [
        "<a href=\"https://colab.research.google.com/github/charlesreid1/dib-deep-chem/blob/master/deepchem_ch6_improved.ipynb\" target=\"_parent\"><img src=\"https://colab.research.google.com/assets/colab-badge.svg\" alt=\"Open In Colab\"/></a>"
      ]
    },
    {
      "cell_type": "markdown",
      "metadata": {
        "id": "ojiEwxAcx0nb",
        "colab_type": "text"
      },
      "source": [
        "# Notebook Setup\n",
        "\n",
        "Start by importing tensorflow and seeing if there is a GPU device available."
      ]
    },
    {
      "cell_type": "code",
      "metadata": {
        "id": "T_5jEDRfxz9X",
        "colab_type": "code",
        "colab": {}
      },
      "source": [
        "import tensorflow as tf\n",
        "#device_name = tf.test.gpu_device_name()\n",
        "#if device_name != '/device:GPU:0':\n",
        "#    raise SystemError('GPU device not found')"
      ],
      "execution_count": 0,
      "outputs": []
    },
    {
      "cell_type": "markdown",
      "metadata": {
        "id": "EcyKCVjlj8YW",
        "colab_type": "text"
      },
      "source": [
        "Install miniconda, then install prerequisites for deepchem:"
      ]
    },
    {
      "cell_type": "code",
      "metadata": {
        "id": "VYbD1-xCj-4M",
        "colab_type": "code",
        "outputId": "b69c766b-2f42-46fb-b7d4-dd49740511b2",
        "colab": {
          "base_uri": "https://localhost:8080/",
          "height": 121
        }
      },
      "source": [
        "%%bash\n",
        "if [ -f /usr/local/bin/conda ]; then\n",
        "  echo 'conda installed already!'\n",
        "else\n",
        "  echo 'conda not installed; going for it!'\n",
        "  curl -O -L https://repo.continuum.io/miniconda/Miniconda3-latest-Linux-x86_64.sh\n",
        "  bash Miniconda3-latest-Linux-x86_64.sh -b -f -p /usr/local\n",
        "fi\n",
        "\n",
        "# install important things\n",
        "conda install -y --prefix /usr/local -c conda-forge rdkit joblib simdna"
      ],
      "execution_count": 0,
      "outputs": [
        {
          "output_type": "stream",
          "text": [
            "conda installed already!\n",
            "Collecting package metadata: ...working... done\n",
            "Solving environment: ...working... done\n",
            "\n",
            "# All requested packages already installed.\n",
            "\n"
          ],
          "name": "stdout"
        }
      ]
    },
    {
      "cell_type": "markdown",
      "metadata": {
        "id": "c7jzZshUz40m",
        "colab_type": "text"
      },
      "source": [
        "Now set the `$PYTHONPATH` variable so that the notebook can access all the packages we installed above:"
      ]
    },
    {
      "cell_type": "code",
      "metadata": {
        "id": "0d-BQiLJxwdb",
        "colab_type": "code",
        "colab": {}
      },
      "source": [
        "import os\n",
        "os.environ['PYTHONPATH'] = os.environ['PYTHONPATH'] + ':/usr/local/lib/python3.6/site-packages:/usr/local/lib/python3.7/site-packages'"
      ],
      "execution_count": 0,
      "outputs": []
    },
    {
      "cell_type": "markdown",
      "metadata": {
        "id": "unpC067Rz9_c",
        "colab_type": "text"
      },
      "source": [
        "Install [PBR (python build reasonableness)](https://launchpad.net/pbr):"
      ]
    },
    {
      "cell_type": "code",
      "metadata": {
        "id": "K6qy6vnaxiB_",
        "colab_type": "code",
        "outputId": "b81bd409-d173-40bc-e364-7d207a74ef03",
        "colab": {
          "base_uri": "https://localhost:8080/",
          "height": 34
        }
      },
      "source": [
        "!pip install pbr"
      ],
      "execution_count": 0,
      "outputs": [
        {
          "output_type": "stream",
          "text": [
            "Requirement already satisfied: pbr in /usr/local/lib/python3.7/site-packages (5.2.0)\n"
          ],
          "name": "stdout"
        }
      ]
    },
    {
      "cell_type": "markdown",
      "metadata": {
        "id": "H5bcMtWU0GvI",
        "colab_type": "text"
      },
      "source": [
        "Install deepchem from source:"
      ]
    },
    {
      "cell_type": "code",
      "metadata": {
        "id": "xpShjTJ8xtXI",
        "colab_type": "code",
        "outputId": "48da11fa-a6ac-4119-e365-1d76a2d18562",
        "colab": {
          "base_uri": "https://localhost:8080/",
          "height": 469
        }
      },
      "source": [
        "%%bash\n",
        "# now install deepchem from source\n",
        "\n",
        "if [ \\! -d deepchem-repo ]; then\n",
        "  git clone https://github.com/deepchem/deepchem.git deepchem-repo\n",
        "fi\n",
        "cd deepchem-repo && python setup.py install"
      ],
      "execution_count": 0,
      "outputs": [
        {
          "output_type": "stream",
          "text": [
            "running install\n",
            "[pbr] Writing ChangeLog\n",
            "[pbr] Generating ChangeLog\n",
            "[pbr] ChangeLog complete (0.1s)\n",
            "[pbr] Generating AUTHORS\n",
            "[pbr] AUTHORS complete (0.1s)\n",
            "running build\n",
            "running build_py\n",
            "running egg_info\n",
            "writing deepchem.egg-info/PKG-INFO\n",
            "writing dependency_links to deepchem.egg-info/dependency_links.txt\n",
            "writing top-level names to deepchem.egg-info/top_level.txt\n",
            "writing pbr to deepchem.egg-info/pbr.json\n",
            "[pbr] Processing SOURCES.txt\n",
            "[pbr] In git context, generating filelist from git\n",
            "reading manifest template 'MANIFEST.in'\n",
            "writing manifest file 'deepchem.egg-info/SOURCES.txt'\n",
            "running install_lib\n",
            "running install_egg_info\n",
            "removing '/usr/local/lib/python3.7/site-packages/deepchem-2.2.1.dev49-py3.7.egg-info' (and everything under it)\n",
            "Copying deepchem.egg-info to /usr/local/lib/python3.7/site-packages/deepchem-2.2.1.dev49-py3.7.egg-info\n",
            "running install_scripts\n"
          ],
          "name": "stdout"
        },
        {
          "output_type": "stream",
          "text": [
            "warning: no previously-included files found matching '.gitreview'\n",
            "warning: no previously-included files matching '*.pyc' found anywhere in distribution\n",
            "/usr/local/lib/python3.7/site-packages/pbr/packaging.py:410: EasyInstallDeprecationWarning: Use get_header\n",
            "  header = easy_install.get_script_header(\"\", executable, is_wininst)\n"
          ],
          "name": "stderr"
        }
      ]
    },
    {
      "cell_type": "markdown",
      "metadata": {
        "id": "Ox5z05eC0L_W",
        "colab_type": "text"
      },
      "source": [
        "Add the site packages location to the system path:"
      ]
    },
    {
      "cell_type": "code",
      "metadata": {
        "id": "12pAz7__ygCa",
        "colab_type": "code",
        "colab": {}
      },
      "source": [
        "import sys\n",
        "sys.path.append('/usr/local/lib/python3.7/site-packages')\n",
        "sys.path.append('/usr/local/lib/python3.6/site-packages')"
      ],
      "execution_count": 0,
      "outputs": []
    },
    {
      "cell_type": "markdown",
      "metadata": {
        "id": "X0XckrRAyzMJ",
        "colab_type": "text"
      },
      "source": [
        "## Import Stuff"
      ]
    },
    {
      "cell_type": "code",
      "metadata": {
        "id": "pBRbEj1TyxDv",
        "colab_type": "code",
        "colab": {}
      },
      "source": [
        "# also import cool stuff\n",
        "import numpy as np\n",
        "import matplotlib.pyplot as plt\n",
        "import seaborn as sns"
      ],
      "execution_count": 0,
      "outputs": []
    },
    {
      "cell_type": "markdown",
      "metadata": {
        "id": "X_ZmE1pq0Rdf",
        "colab_type": "text"
      },
      "source": [
        "# Transcription Factor Example\n"
      ]
    },
    {
      "cell_type": "markdown",
      "metadata": {
        "id": "BtASXPfod9BK",
        "colab_type": "text"
      },
      "source": [
        "\n",
        "## Overview\n",
        "\n",
        "This example will use a data set about a transcription factor called JUND. The data set used in this example comes from the human chromosome 22 (the smallest human chromosome). It is 50 Mbp.\n",
        "\n",
        "The chromosome is broken into short segments of 101 base pairs.\n",
        "\n",
        "One hot encoding is used to represent the sequences (i.e., each base pair is turned into a vector of 0s and 1s)."
      ]
    },
    {
      "cell_type": "code",
      "metadata": {
        "id": "jXfwn_SgkVVs",
        "colab_type": "code",
        "outputId": "a7facae1-74fd-4605-9a49-c91f51f48855",
        "colab": {
          "base_uri": "https://localhost:8080/",
          "height": 34
        }
      },
      "source": [
        "!git clone https://github.com/deepchem/DeepLearningLifeSciences.git"
      ],
      "execution_count": 0,
      "outputs": [
        {
          "output_type": "stream",
          "text": [
            "fatal: destination path 'DeepLearningLifeSciences' already exists and is not an empty directory.\n"
          ],
          "name": "stdout"
        }
      ]
    },
    {
      "cell_type": "code",
      "metadata": {
        "id": "4RVPiF3TkYw7",
        "colab_type": "code",
        "colab": {}
      },
      "source": [
        "!ln -fs DeepLearningLifeSciences/Chapter06/{test*,train*,valid*} ."
      ],
      "execution_count": 0,
      "outputs": []
    },
    {
      "cell_type": "markdown",
      "metadata": {
        "id": "lhKIRcW2kSp-",
        "colab_type": "text"
      },
      "source": [
        "## Neural Network Architecture\n",
        "\n",
        "Beacuse we are dealing with a 1D sequence of data, we use a convolutional neural network that performs the convolution in 1 dimension (rather than 2 dimensions usually used with image data)."
      ]
    },
    {
      "cell_type": "markdown",
      "metadata": {
        "id": "94eV7omOeD3K",
        "colab_type": "text"
      },
      "source": [
        "Import necessary modules to build our neural network model:"
      ]
    },
    {
      "cell_type": "code",
      "metadata": {
        "id": "9UsUFkONyq9F",
        "colab_type": "code",
        "colab": {}
      },
      "source": [
        "import deepchem as dc\n",
        "import tensorflow as tf\n",
        "import numpy as np\n",
        "import deepchem.models.tensorgraph.layers as layers"
      ],
      "execution_count": 0,
      "outputs": []
    },
    {
      "cell_type": "markdown",
      "metadata": {
        "id": "3u-DUVny1Nxr",
        "colab_type": "text"
      },
      "source": [
        "Now we create the ingredients required by our model.\n",
        "\n",
        "The model is a TensorGraph model. We assemble the model layer by layer.\n",
        "\n",
        "The model must have labels (names for columns of data) and weights (for the input data)."
      ]
    },
    {
      "cell_type": "code",
      "metadata": {
        "id": "u6pzAAjmkH0l",
        "colab_type": "code",
        "colab": {}
      },
      "source": [
        "# Create model:\n",
        "model = dc.models.TensorGraph(batch_size=1000)\n",
        "features = layers.Feature(shape=(None, 101, 4))\n",
        "labels = layers.Label(shape=(None, 1))\n",
        "weights = layers.Weights(shape=(None, 1))"
      ],
      "execution_count": 0,
      "outputs": []
    },
    {
      "cell_type": "markdown",
      "metadata": {
        "id": "6ZHPLEFu1fGF",
        "colab_type": "text"
      },
      "source": [
        "Convolution neural networks usually follow a scheme that includes the following layers in order:\n",
        "\n",
        "The following neural network layer combo composes a single convolution layer:\n",
        "\n",
        "* Convolution (multiple convolution layers to deal with different portions of the data, e.g., 2 convolution layers each handing half the image)\n",
        "* Pool (combine convolutions)\n",
        "* Dropout (filter information - optional)\n",
        "\n",
        "These layers are repeated one or more times. Once the convolution layers have been implemented, the following layers are added to the end to convert the neural network's output into a usable classification/prediction:\n",
        "\n",
        "* Flatten (change dimensionality)\n",
        "* Dense\n",
        "* Dropout (filter information - optional)\n",
        "* Dense"
      ]
    },
    {
      "cell_type": "code",
      "metadata": {
        "id": "TVRRBzJwk8Mf",
        "colab_type": "code",
        "colab": {}
      },
      "source": [
        "# Set model architecture:\n",
        "\n",
        "# Three convolutional layers with identical parameters\n",
        "prev = features\n",
        "convolution_window = 10\n",
        "for i in range(3):\n",
        "    prev = layers.Conv1D(filters=15, \n",
        "                         kernel_size=convolution_window,\n",
        "                         activation=tf.nn.relu,\n",
        "                         padding='same',\n",
        "                         in_layers=prev)\n",
        "    prev = layers.Dropout(dropout_prob=0.5, in_layers=prev)"
      ],
      "execution_count": 0,
      "outputs": []
    },
    {
      "cell_type": "code",
      "metadata": {
        "id": "ttP7Y2IElqHD",
        "colab_type": "code",
        "colab": {}
      },
      "source": [
        "# Create a Flatten-Dense layer combination to compute output\n",
        "flat = layers.Flatten(prev)\n",
        "logits = layers.Dense(out_channels=1, in_layers=flat)\n",
        "\n",
        "# Final prediction\n",
        "output = layers.Sigmoid(logits)\n",
        "model.add_output(output)\n",
        "\n",
        "# Compute cross entropy for each sample and multiply by weights to get loss\n",
        "loss = layers.SigmoidCrossEntropy(in_layers=[labels, logits])\n",
        "weighted_loss = layers.WeightedError(in_layers=[loss, weights])\n",
        "model.set_loss(weighted_loss)"
      ],
      "execution_count": 0,
      "outputs": []
    },
    {
      "cell_type": "code",
      "metadata": {
        "id": "ZRrO0EFu7dG2",
        "colab_type": "code",
        "outputId": "c90fe60c-1635-4b6c-f6a2-9e908a70b20a",
        "colab": {
          "base_uri": "https://localhost:8080/",
          "height": 69
        }
      },
      "source": [
        "train = dc.data.DiskDataset('train_dataset')\n",
        "valid = dc.data.DiskDataset('valid_dataset')\n",
        "test = dc.data.DiskDataset('test_dataset')"
      ],
      "execution_count": 0,
      "outputs": [
        {
          "output_type": "stream",
          "text": [
            "Loading dataset from disk.\n",
            "Loading dataset from disk.\n",
            "Loading dataset from disk.\n"
          ],
          "name": "stdout"
        }
      ]
    },
    {
      "cell_type": "code",
      "metadata": {
        "id": "UMURbdejx5vd",
        "colab_type": "code",
        "outputId": "5486e171-34f5-402c-b074-0cc4ea8fb619",
        "colab": {
          "base_uri": "https://localhost:8080/",
          "height": 69
        }
      },
      "source": [
        "print(type(train))\n",
        "print(len(train.y))\n",
        "print(len(valid.y))"
      ],
      "execution_count": 0,
      "outputs": [
        {
          "output_type": "stream",
          "text": [
            "<class 'deepchem.data.datasets.DiskDataset'>\n",
            "276216\n",
            "34527\n"
          ],
          "name": "stdout"
        }
      ]
    },
    {
      "cell_type": "code",
      "metadata": {
        "id": "9KMmH4Xqx6LS",
        "colab_type": "code",
        "colab": {}
      },
      "source": [
        "# Define the ROC AUC metric like the book does in Ch 6\n",
        "roc_auc_metric = dc.metrics.Metric(dc.metrics.roc_auc_score)"
      ],
      "execution_count": 0,
      "outputs": []
    },
    {
      "cell_type": "markdown",
      "metadata": {
        "id": "8_TrW42THRgo",
        "colab_type": "text"
      },
      "source": [
        "In addition to the ROC AUC metric used in the book we want to look at precision, recall, and F-value as metrics during training to compare to the keras-only notebook.\n",
        "\n",
        "Scikit-learn has several of the metrics we are interested in built-in, so we import those below:"
      ]
    },
    {
      "cell_type": "code",
      "metadata": {
        "id": "x5P3zNPlt2cY",
        "colab_type": "code",
        "colab": {}
      },
      "source": [
        "# from https://github.com/deepchem/deepchem/blob/master/deepchem/metrics/__init__.py\n",
        "\n",
        "# https://scikit-learn.org/stable/modules/generated/sklearn.metrics.precision_score.html#sklearn.metrics.precision_score\n",
        "from sklearn.metrics import precision_score\n",
        "\n",
        "# https://scikit-learn.org/stable/modules/generated/sklearn.metrics.recall_score.html#sklearn.metrics.recall_score\n",
        "from sklearn.metrics import recall_score\n",
        "\n",
        "# https://scikit-learn.org/stable/modules/generated/sklearn.metrics.accuracy_score.html#sklearn.metrics.accuracy_score\n",
        "from sklearn.metrics import accuracy_score"
      ],
      "execution_count": 0,
      "outputs": []
    },
    {
      "cell_type": "markdown",
      "metadata": {
        "id": "WKW8h7EBHbat",
        "colab_type": "text"
      },
      "source": [
        "Now we run into problems... \n",
        "\n",
        "We can't create a DeepChem metric using sklearn's precision/recall/accuracy functions directly..."
      ]
    },
    {
      "cell_type": "code",
      "metadata": {
        "id": "MInGG36FebNR",
        "colab_type": "code",
        "colab": {}
      },
      "source": [
        "## ------------8<-----------\n",
        "## This does not work\n",
        "#\n",
        "#precision_metric = dc.metrics.Metric(precision_score, mode=\"classification\")\n",
        "#recall_metric    = dc.metrics.Metric(recall_score,    mode=\"classification\")\n",
        "#accuracy_metric  = dc.metrics.Metric(accuracy_score,  mode=\"classification\")\n",
        "## ------------8<-----------"
      ],
      "execution_count": 0,
      "outputs": []
    },
    {
      "cell_type": "markdown",
      "metadata": {
        "id": "GGVcfd39H1Rm",
        "colab_type": "text"
      },
      "source": [
        "Deepchem has an accuracy metric built-in, so we can try that. But we'll run into problems later, as we'll see...\n",
        "\n",
        "Note that unlike Keras, DeepChem does not print the values of the metrics as it goes through the model fit/training process."
      ]
    },
    {
      "cell_type": "code",
      "metadata": {
        "id": "3OsuaHxRH0Pe",
        "colab_type": "code",
        "colab": {}
      },
      "source": [
        "accuracy_metric = dc.metrics.Metric(dc.metrics.accuracy_score)\n",
        "precision_metric = dc.metrics.Metric(dc.metrics.precision_score)\n",
        "recall_metric = dc.metrics.Metric(dc.metrics.recall_score)"
      ],
      "execution_count": 0,
      "outputs": []
    },
    {
      "cell_type": "markdown",
      "metadata": {
        "id": "nz8PPeSpIHX7",
        "colab_type": "text"
      },
      "source": [
        "Fit the model. This prints out a number, but... I have no clue what this number means, and the DeepChem documentation doesn't say what this function returns.\n",
        "\n",
        "If we dive into the source code, it looks like it is returning a prediction. But then, shouldn't it be lots of numbers? No idea."
      ]
    },
    {
      "cell_type": "code",
      "metadata": {
        "id": "lC6X36lbnx8N",
        "colab_type": "code",
        "outputId": "8adc08fc-41a1-4f94-f7b4-441eaa97c52a",
        "colab": {
          "base_uri": "https://localhost:8080/",
          "height": 34
        }
      },
      "source": [
        "model.fit(train, nb_epoch=1)"
      ],
      "execution_count": 0,
      "outputs": [
        {
          "output_type": "execute_result",
          "data": {
            "text/plain": [
              "696.0246010239804"
            ]
          },
          "metadata": {
            "tags": []
          },
          "execution_count": 70
        }
      ]
    },
    {
      "cell_type": "markdown",
      "metadata": {
        "id": "4zibg0XhfQNn",
        "colab_type": "text"
      },
      "source": [
        "For some reason none of the DeepChem metrics work with DeepChem, except for the one they use in the example (ROC AUC)"
      ]
    },
    {
      "cell_type": "code",
      "metadata": {
        "id": "t02TeBm2vm4_",
        "colab_type": "code",
        "outputId": "cdbf248c-b9d3-49f9-c751-4779879ad120",
        "colab": {
          "base_uri": "https://localhost:8080/",
          "height": 52
        }
      },
      "source": [
        "try:\n",
        "    print(\"For training data:\")\n",
        "    training_scores   = model.evaluate(train, [accuracy_metric, precision_metric, recall_metric], per_task_metrics=True)\n",
        "except IndexError as e:\n",
        "    print(\"Failed to evaluate model, problem with metric\")"
      ],
      "execution_count": 0,
      "outputs": [
        {
          "output_type": "stream",
          "text": [
            "For training data:\n",
            "Failed to evaluate model, problem with metric\n"
          ],
          "name": "stdout"
        }
      ]
    },
    {
      "cell_type": "code",
      "metadata": {
        "id": "4tUdJZSnJsQ9",
        "colab_type": "code",
        "outputId": "d92026fd-ec64-4735-9372-dfa15de366b4",
        "colab": {
          "base_uri": "https://localhost:8080/",
          "height": 34
        }
      },
      "source": [
        "training_scores = model.evaluate(train, [roc_auc_metric])"
      ],
      "execution_count": 0,
      "outputs": [
        {
          "output_type": "stream",
          "text": [
            "computed_metrics: [0.5089696361342458]\n"
          ],
          "name": "stdout"
        }
      ]
    },
    {
      "cell_type": "code",
      "metadata": {
        "id": "eQWdorEeI-Wg",
        "colab_type": "code",
        "outputId": "afa62714-d929-4f2e-bb93-0d79ef8ddfd3",
        "colab": {
          "base_uri": "https://localhost:8080/",
          "height": 52
        }
      },
      "source": [
        "print(\"For validation data:\")\n",
        "try:\n",
        "    validation_scores = model.evaluate(valid, [accuracy_metric, precision_metric, recall_metric])\n",
        "except IndexError:\n",
        "    print(\"Failed to evaluate model, problem with metric\")"
      ],
      "execution_count": 0,
      "outputs": [
        {
          "output_type": "stream",
          "text": [
            "For validation data:\n",
            "Failed to evaluate model, problem with metric\n"
          ],
          "name": "stdout"
        }
      ]
    },
    {
      "cell_type": "code",
      "metadata": {
        "id": "jntiPqZVJvr8",
        "colab_type": "code",
        "outputId": "46a63119-6cef-43ce-fe0a-9c8438750da8",
        "colab": {
          "base_uri": "https://localhost:8080/",
          "height": 34
        }
      },
      "source": [
        "validation_scores = model.evaluate(valid, [roc_auc_metric])"
      ],
      "execution_count": 0,
      "outputs": [
        {
          "output_type": "stream",
          "text": [
            "computed_metrics: [0.481777228024558]\n"
          ],
          "name": "stdout"
        }
      ]
    },
    {
      "cell_type": "markdown",
      "metadata": {
        "id": "r6QY3Z8GJzmz",
        "colab_type": "text"
      },
      "source": [
        "## Assessing the Model\n",
        "\n",
        "We tried to implement several metrics above, but DeepChem is too difficult to get these working.\n",
        "\n",
        "Back to using sklearn directly..."
      ]
    },
    {
      "cell_type": "code",
      "metadata": {
        "id": "5d6czAj4TL3s",
        "colab_type": "code",
        "colab": {}
      },
      "source": [
        "import matplotlib.pyplot as plt\n",
        "\n",
        "from sklearn.metrics import roc_curve\n",
        "from sklearn.metrics import confusion_matrix"
      ],
      "execution_count": 0,
      "outputs": []
    },
    {
      "cell_type": "code",
      "metadata": {
        "id": "g-jdDEENz8Sd",
        "colab_type": "code",
        "colab": {}
      },
      "source": [
        "y_model = model.predict(test).ravel()\n",
        "fpr, tpr, _ = roc_curve(test.y, y_model)"
      ],
      "execution_count": 0,
      "outputs": []
    },
    {
      "cell_type": "code",
      "metadata": {
        "id": "epp_gIkWp3OH",
        "colab_type": "code",
        "outputId": "c469a172-5282-4407-d764-e0d9855d95a4",
        "colab": {
          "base_uri": "https://localhost:8080/",
          "height": 530
        }
      },
      "source": [
        "plt.figure(figsize=(12,8))\n",
        "plt.plot(fpr, tpr)\n",
        "plt.xlabel('False positive rate')\n",
        "plt.ylabel('True positive rate')\n",
        "plt.plot([0, 1], [0, 1], 'k--')\n",
        "plt.plot(fpr, tpr)\n",
        "plt.title('ROC curve')\n",
        "plt.legend(loc='best')\n",
        "plt.show()"
      ],
      "execution_count": 0,
      "outputs": [
        {
          "output_type": "stream",
          "text": [
            "WARNING:matplotlib.legend:No handles with labels found to put in legend.\n"
          ],
          "name": "stderr"
        },
        {
          "output_type": "display_data",
          "data": {
            "image/png": "iVBORw0KGgoAAAANSUhEUgAAAtQAAAHwCAYAAACG+PhNAAAABHNCSVQICAgIfAhkiAAAAAlwSFlz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\nxQhq1aqFMYYjYW2JjIwsFjdTvVmolwLjjTHvAR2Bk5o/