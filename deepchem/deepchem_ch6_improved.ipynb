{
  "nbformat": 4,
  "nbformat_minor": 0,
  "metadata": {
    "colab": {
      "name": "deepchem_ch6_improved.ipynb",
      "version": "0.3.2",
      "provenance": [],
      "collapsed_sections": [],
      "include_colab_link": true
    },
    "kernelspec": {
      "name": "python3",
      "display_name": "Python 3"
    },
    "accelerator": "GPU"
  },
  "cells": [
    {
      "cell_type": "markdown",
      "metadata": {
        "id": "view-in-github",
        "colab_type": "text"
      },
      "source": [
        "<a href=\"https://colab.research.google.com/github/charlesreid1/dib-deep-chem/blob/master/deepchem_ch6_improved.ipynb\" target=\"_parent\"><img src=\"https://colab.research.google.com/assets/colab-badge.svg\" alt=\"Open In Colab\"/></a>"
      ]
    },
    {
      "cell_type": "markdown",
      "metadata": {
        "id": "ojiEwxAcx0nb",
        "colab_type": "text"
      },
      "source": [
        "# Notebook Setup\n",
        "\n",
        "Start by importing tensorflow and seeing if there is a GPU device available."
      ]
    },
    {
      "cell_type": "code",
      "metadata": {
        "id": "T_5jEDRfxz9X",
        "colab_type": "code",
        "colab": {}
      },
      "source": [
        "import tensorflow as tf\n",
        "#device_name = tf.test.gpu_device_name()\n",
        "#if device_name != '/device:GPU:0':\n",
        "#    raise SystemError('GPU device not found')"
      ],
      "execution_count": 0,
      "outputs": []
    },
    {
      "cell_type": "markdown",
      "metadata": {
        "id": "EcyKCVjlj8YW",
        "colab_type": "text"
      },
      "source": [
        "Install miniconda, then install prerequisites for deepchem:"
      ]
    },
    {
      "cell_type": "code",
      "metadata": {
        "id": "VYbD1-xCj-4M",
        "colab_type": "code",
        "outputId": "b69c766b-2f42-46fb-b7d4-dd49740511b2",
        "colab": {
          "base_uri": "https://localhost:8080/",
          "height": 121
        }
      },
      "source": [
        "%%bash\n",
        "if [ -f /usr/local/bin/conda ]; then\n",
        "  echo 'conda installed already!'\n",
        "else\n",
        "  echo 'conda not installed; going for it!'\n",
        "  curl -O -L https://repo.continuum.io/miniconda/Miniconda3-latest-Linux-x86_64.sh\n",
        "  bash Miniconda3-latest-Linux-x86_64.sh -b -f -p /usr/local\n",
        "fi\n",
        "\n",
        "# install important things\n",
        "conda install -y --prefix /usr/local -c conda-forge rdkit joblib simdna"
      ],
      "execution_count": 0,
      "outputs": [
        {
          "output_type": "stream",
          "text": [
            "conda installed already!\n",
            "Collecting package metadata: ...working... done\n",
            "Solving environment: ...working... done\n",
            "\n",
            "# All requested packages already installed.\n",
            "\n"
          ],
          "name": "stdout"
        }
      ]
    },
    {
      "cell_type": "markdown",
      "metadata": {
        "id": "c7jzZshUz40m",
        "colab_type": "text"
      },
      "source": [
        "Now set the `$PYTHONPATH` variable so that the notebook can access all the packages we installed above:"
      ]
    },
    {
      "cell_type": "code",
      "metadata": {
        "id": "0d-BQiLJxwdb",
        "colab_type": "code",
        "colab": {}
      },
      "source": [
        "import os\n",
        "os.environ['PYTHONPATH'] = os.environ['PYTHONPATH'] + ':/usr/local/lib/python3.6/site-packages:/usr/local/lib/python3.7/site-packages'"
      ],
      "execution_count": 0,
      "outputs": []
    },
    {
      "cell_type": "markdown",
      "metadata": {
        "id": "unpC067Rz9_c",
        "colab_type": "text"
      },
      "source": [
        "Install [PBR (python build reasonableness)](https://launchpad.net/pbr):"
      ]
    },
    {
      "cell_type": "code",
      "metadata": {
        "id": "K6qy6vnaxiB_",
        "colab_type": "code",
        "outputId": "b81bd409-d173-40bc-e364-7d207a74ef03",
        "colab": {
          "base_uri": "https://localhost:8080/",
          "height": 34
        }
      },
      "source": [
        "!pip install pbr"
      ],
      "execution_count": 0,
      "outputs": [
        {
          "output_type": "stream",
          "text": [
            "Requirement already satisfied: pbr in /usr/local/lib/python3.7/site-packages (5.2.0)\n"
          ],
          "name": "stdout"
        }
      ]
    },
    {
      "cell_type": "markdown",
      "metadata": {
        "id": "H5bcMtWU0GvI",
        "colab_type": "text"
      },
      "source": [
        "Install deepchem from source:"
      ]
    },
    {
      "cell_type": "code",
      "metadata": {
        "id": "xpShjTJ8xtXI",
        "colab_type": "code",
        "outputId": "48da11fa-a6ac-4119-e365-1d76a2d18562",
        "colab": {
          "base_uri": "https://localhost:8080/",
          "height": 469
        }
      },
      "source": [
        "%%bash\n",
        "# now install deepchem from source\n",
        "\n",
        "if [ \\! -d deepchem-repo ]; then\n",
        "  git clone https://github.com/deepchem/deepchem.git deepchem-repo\n",
        "fi\n",
        "cd deepchem-repo && python setup.py install"
      ],
      "execution_count": 0,
      "outputs": [
        {
          "output_type": "stream",
          "text": [
            "running install\n",
            "[pbr] Writing ChangeLog\n",
            "[pbr] Generating ChangeLog\n",
            "[pbr] ChangeLog complete (0.1s)\n",
            "[pbr] Generating AUTHORS\n",
            "[pbr] AUTHORS complete (0.1s)\n",
            "running build\n",
            "running build_py\n",
            "running egg_info\n",
            "writing deepchem.egg-info/PKG-INFO\n",
            "writing dependency_links to deepchem.egg-info/dependency_links.txt\n",
            "writing top-level names to deepchem.egg-info/top_level.txt\n",
            "writing pbr to deepchem.egg-info/pbr.json\n",
            "[pbr] Processing SOURCES.txt\n",
            "[pbr] In git context, generating filelist from git\n",
            "reading manifest template 'MANIFEST.in'\n",
            "writing manifest file 'deepchem.egg-info/SOURCES.txt'\n",
            "running install_lib\n",
            "running install_egg_info\n",
            "removing '/usr/local/lib/python3.7/site-packages/deepchem-2.2.1.dev49-py3.7.egg-info' (and everything under it)\n",
            "Copying deepchem.egg-info to /usr/local/lib/python3.7/site-packages/deepchem-2.2.1.dev49-py3.7.egg-info\n",
            "running install_scripts\n"
          ],
          "name": "stdout"
        },
        {
          "output_type": "stream",
          "text": [
            "warning: no previously-included files found matching '.gitreview'\n",
            "warning: no previously-included files matching '*.pyc' found anywhere in distribution\n",
            "/usr/local/lib/python3.7/site-packages/pbr/packaging.py:410: EasyInstallDeprecationWarning: Use get_header\n",
            "  header = easy_install.get_script_header(\"\", executable, is_wininst)\n"
          ],
          "name": "stderr"
        }
      ]
    },
    {
      "cell_type": "markdown",
      "metadata": {
        "id": "Ox5z05eC0L_W",
        "colab_type": "text"
      },
      "source": [
        "Add the site packages location to the system path:"
      ]
    },
    {
      "cell_type": "code",
      "metadata": {
        "id": "12pAz7__ygCa",
        "colab_type": "code",
        "colab": {}
      },
      "source": [
        "import sys\n",
        "sys.path.append('/usr/local/lib/python3.7/site-packages')\n",
        "sys.path.append('/usr/local/lib/python3.6/site-packages')"
      ],
      "execution_count": 0,
      "outputs": []
    },
    {
      "cell_type": "markdown",
      "metadata": {
        "id": "X0XckrRAyzMJ",
        "colab_type": "text"
      },
      "source": [
        "## Import Stuff"
      ]
    },
    {
      "cell_type": "code",
      "metadata": {
        "id": "pBRbEj1TyxDv",
        "colab_type": "code",
        "colab": {}
      },
      "source": [
        "# also import cool stuff\n",
        "import numpy as np\n",
        "import matplotlib.pyplot as plt\n",
        "import seaborn as sns"
      ],
      "execution_count": 0,
      "outputs": []
    },
    {
      "cell_type": "markdown",
      "metadata": {
        "id": "X_ZmE1pq0Rdf",
        "colab_type": "text"
      },
      "source": [
        "# Transcription Factor Example\n"
      ]
    },
    {
      "cell_type": "markdown",
      "metadata": {
        "id": "BtASXPfod9BK",
        "colab_type": "text"
      },
      "source": [
        "\n",
        "## Overview\n",
        "\n",
        "This example will use a data set about a transcription factor called JUND. The data set used in this example comes from the human chromosome 22 (the smallest human chromosome). It is 50 Mbp.\n",
        "\n",
        "The chromosome is broken into short segments of 101 base pairs.\n",
        "\n",
        "One hot encoding is used to represent the sequences (i.e., each base pair is turned into a vector of 0s and 1s)."
      ]
    },
    {
      "cell_type": "code",
      "metadata": {
        "id": "jXfwn_SgkVVs",
        "colab_type": "code",
        "outputId": "a7facae1-74fd-4605-9a49-c91f51f48855",
        "colab": {
          "base_uri": "https://localhost:8080/",
          "height": 34
        }
      },
      "source": [
        "!git clone https://github.com/deepchem/DeepLearningLifeSciences.git"
      ],
      "execution_count": 0,
      "outputs": [
        {
          "output_type": "stream",
          "text": [
            "fatal: destination path 'DeepLearningLifeSciences' already exists and is not an empty directory.\n"
          ],
          "name": "stdout"
        }
      ]
    },
    {
      "cell_type": "code",
      "metadata": {
        "id": "4RVPiF3TkYw7",
        "colab_type": "code",
        "colab": {}
      },
      "source": [
        "!ln -fs DeepLearningLifeSciences/Chapter06/{test*,train*,valid*} ."
      ],
      "execution_count": 0,
      "outputs": []
    },
    {
      "cell_type": "markdown",
      "metadata": {
        "id": "lhKIRcW2kSp-",
        "colab_type": "text"
      },
      "source": [
        "## Neural Network Architecture\n",
        "\n",
        "Beacuse we are dealing with a 1D sequence of data, we use a convolutional neural network that performs the convolution in 1 dimension (rather than 2 dimensions usually used with image data)."
      ]
    },
    {
      "cell_type": "markdown",
      "metadata": {
        "id": "94eV7omOeD3K",
        "colab_type": "text"
      },
      "source": [
        "Import necessary modules to build our neural network model:"
      ]
    },
    {
      "cell_type": "code",
      "metadata": {
        "id": "9UsUFkONyq9F",
        "colab_type": "code",
        "colab": {}
      },
      "source": [
        "import deepchem as dc\n",
        "import tensorflow as tf\n",
        "import numpy as np\n",
        "import deepchem.models.tensorgraph.layers as layers"
      ],
      "execution_count": 0,
      "outputs": []
    },
    {
      "cell_type": "markdown",
      "metadata": {
        "id": "3u-DUVny1Nxr",
        "colab_type": "text"
      },
      "source": [
        "Now we create the ingredients required by our model.\n",
        "\n",
        "The model is a TensorGraph model. We assemble the model layer by layer.\n",
        "\n",
        "The model must have labels (names for columns of data) and weights (for the input data)."
      ]
    },
    {
      "cell_type": "code",
      "metadata": {
        "id": "u6pzAAjmkH0l",
        "colab_type": "code",
        "colab": {}
      },
      "source": [
        "# Create model:\n",
        "model = dc.models.TensorGraph(batch_size=1000)\n",
        "features = layers.Feature(shape=(None, 101, 4))\n",
        "labels = layers.Label(shape=(None, 1))\n",
        "weights = layers.Weights(shape=(None, 1))"
      ],
      "execution_count": 0,
      "outputs": []
    },
    {
      "cell_type": "markdown",
      "metadata": {
        "id": "6ZHPLEFu1fGF",
        "colab_type": "text"
      },
      "source": [
        "Convolution neural networks usually follow a scheme that includes the following layers in order:\n",
        "\n",
        "The following neural network layer combo composes a single convolution layer:\n",
        "\n",
        "* Convolution (multiple convolution layers to deal with different portions of the data, e.g., 2 convolution layers each handing half the image)\n",
        "* Pool (combine convolutions)\n",
        "* Dropout (filter information - optional)\n",
        "\n",
        "These layers are repeated one or more times. Once the convolution layers have been implemented, the following layers are added to the end to convert the neural network's output into a usable classification/prediction:\n",
        "\n",
        "* Flatten (change dimensionality)\n",
        "* Dense\n",
        "* Dropout (filter information - optional)\n",
        "* Dense"
      ]
    },
    {
      "cell_type": "code",
      "metadata": {
        "id": "TVRRBzJwk8Mf",
        "colab_type": "code",
        "colab": {}
      },
      "source": [
        "# Set model architecture:\n",
        "\n",
        "# Three convolutional layers with identical parameters\n",
        "prev = features\n",
        "convolution_window = 10\n",
        "for i in range(3):\n",
        "    prev = layers.Conv1D(filters=15, \n",
        "                         kernel_size=convolution_window,\n",
        "                         activation=tf.nn.relu,\n",
        "                         padding='same',\n",
        "                         in_layers=prev)\n",
        "    prev = layers.Dropout(dropout_prob=0.5, in_layers=prev)"
      ],
      "execution_count": 0,
      "outputs": []
    },
    {
      "cell_type": "code",
      "metadata": {
        "id": "ttP7Y2IElqHD",
        "colab_type": "code",
        "colab": {}
      },
      "source": [
        "# Create a Flatten-Dense layer combination to compute output\n",
        "flat = layers.Flatten(prev)\n",
        "logits = layers.Dense(out_channels=1, in_layers=flat)\n",
        "\n",
        "# Final prediction\n",
        "output = layers.Sigmoid(logits)\n",
        "model.add_output(output)\n",
        "\n",
        "# Compute cross entropy for each sample and multiply by weights to get loss\n",
        "loss = layers.SigmoidCrossEntropy(in_layers=[labels, logits])\n",
        "weighted_loss = layers.WeightedError(in_layers=[loss, weights])\n",
        "model.set_loss(weighted_loss)"
      ],
      "execution_count": 0,
      "outputs": []
    },
    {
      "cell_type": "code",
      "metadata": {
        "id": "ZRrO0EFu7dG2",
        "colab_type": "code",
        "outputId": "c90fe60c-1635-4b6c-f6a2-9e908a70b20a",
        "colab": {
          "base_uri": "https://localhost:8080/",
          "height": 69
        }
      },
      "source": [
        "train = dc.data.DiskDataset('train_dataset')\n",
        "valid = dc.data.DiskDataset('valid_dataset')\n",
        "test = dc.data.DiskDataset('test_dataset')"
      ],
      "execution_count": 0,
      "outputs": [
        {
          "output_type": "stream",
          "text": [
            "Loading dataset from disk.\n",
            "Loading dataset from disk.\n",
            "Loading dataset from disk.\n"
          ],
          "name": "stdout"
        }
      ]
    },
    {
      "cell_type": "code",
      "metadata": {
        "id": "UMURbdejx5vd",
        "colab_type": "code",
        "outputId": "5486e171-34f5-402c-b074-0cc4ea8fb619",
        "colab": {
          "base_uri": "https://localhost:8080/",
          "height": 69
        }
      },
      "source": [
        "print(type(train))\n",
        "print(len(train.y))\n",
        "print(len(valid.y))"
      ],
      "execution_count": 0,
      "outputs": [
        {
          "output_type": "stream",
          "text": [
            "<class 'deepchem.data.datasets.DiskDataset'>\n",
            "276216\n",
            "34527\n"
          ],
          "name": "stdout"
        }
      ]
    },
    {
      "cell_type": "code",
      "metadata": {
        "id": "9KMmH4Xqx6LS",
        "colab_type": "code",
        "colab": {}
      },
      "source": [
        "# Define the ROC AUC metric like the book does in Ch 6\n",
        "roc_auc_metric = dc.metrics.Metric(dc.metrics.roc_auc_score)"
      ],
      "execution_count": 0,
      "outputs": []
    },
    {
      "cell_type": "markdown",
      "metadata": {
        "id": "8_TrW42THRgo",
        "colab_type": "text"
      },
      "source": [
        "In addition to the ROC AUC metric used in the book we want to look at precision, recall, and F-value as metrics during training to compare to the keras-only notebook.\n",
        "\n",
        "Scikit-learn has several of the metrics we are interested in built-in, so we import those below:"
      ]
    },
    {
      "cell_type": "code",
      "metadata": {
        "id": "x5P3zNPlt2cY",
        "colab_type": "code",
        "colab": {}
      },
      "source": [
        "# from https://github.com/deepchem/deepchem/blob/master/deepchem/metrics/__init__.py\n",
        "\n",
        "# https://scikit-learn.org/stable/modules/generated/sklearn.metrics.precision_score.html#sklearn.metrics.precision_score\n",
        "from sklearn.metrics import precision_score\n",
        "\n",
        "# https://scikit-learn.org/stable/modules/generated/sklearn.metrics.recall_score.html#sklearn.metrics.recall_score\n",
        "from sklearn.metrics import recall_score\n",
        "\n",
        "# https://scikit-learn.org/stable/modules/generated/sklearn.metrics.accuracy_score.html#sklearn.metrics.accuracy_score\n",
        "from sklearn.metrics import accuracy_score"
      ],
      "execution_count": 0,
      "outputs": []
    },
    {
      "cell_type": "markdown",
      "metadata": {
        "id": "WKW8h7EBHbat",
        "colab_type": "text"
      },
      "source": [
        "Now we run into problems... \n",
        "\n",
        "We can't create a DeepChem metric using sklearn's precision/recall/accuracy functions directly..."
      ]
    },
    {
      "cell_type": "code",
      "metadata": {
        "id": "MInGG36FebNR",
        "colab_type": "code",
        "colab": {}
      },
      "source": [
        "## ------------8<-----------\n",
        "## This does not work\n",
        "#\n",
        "#precision_metric = dc.metrics.Metric(precision_score, mode=\"classification\")\n",
        "#recall_metric    = dc.metrics.Metric(recall_score,    mode=\"classification\")\n",
        "#accuracy_metric  = dc.metrics.Metric(accuracy_score,  mode=\"classification\")\n",
        "## ------------8<-----------"
      ],
      "execution_count": 0,
      "outputs": []
    },
    {
      "cell_type": "markdown",
      "metadata": {
        "id": "GGVcfd39H1Rm",
        "colab_type": "text"
      },
      "source": [
        "Deepchem has an accuracy metric built-in, so we can try that. But we'll run into problems later, as we'll see...\n",
        "\n",
        "Note that unlike Keras, DeepChem does not print the values of the metrics as it goes through the model fit/training process."
      ]
    },
    {
      "cell_type": "code",
      "metadata": {
        "id": "3OsuaHxRH0Pe",
        "colab_type": "code",
        "colab": {}
      },
      "source": [
        "accuracy_metric = dc.metrics.Metric(dc.metrics.accuracy_score)\n",
        "precision_metric = dc.metrics.Metric(dc.metrics.precision_score)\n",
        "recall_metric = dc.metrics.Metric(dc.metrics.recall_score)"
      ],
      "execution_count": 0,
      "outputs": []
    },
    {
      "cell_type": "markdown",
      "metadata": {
        "id": "nz8PPeSpIHX7",
        "colab_type": "text"
      },
      "source": [
        "Fit the model. This prints out a number, but... I have no clue what this number means, and the DeepChem documentation doesn't say what this function returns.\n",
        "\n",
        "If we dive into the source code, it looks like it is returning a prediction. But then, shouldn't it be lots of numbers? No idea."
      ]
    },
    {
      "cell_type": "code",
      "metadata": {
        "id": "lC6X36lbnx8N",
        "colab_type": "code",
        "outputId": "8adc08fc-41a1-4f94-f7b4-441eaa97c52a",
        "colab": {
          "base_uri": "https://localhost:8080/",
          "height": 34
        }
      },
      "source": [
        "model.fit(train, nb_epoch=1)"
      ],
      "execution_count": 0,
      "outputs": [
        {
          "output_type": "execute_result",
          "data": {
            "text/plain": [
              "696.0246010239804"
            ]
          },
          "metadata": {
            "tags": []
          },
          "execution_count": 70
        }
      ]
    },
    {
      "cell_type": "markdown",
      "metadata": {
        "id": "4zibg0XhfQNn",
        "colab_type": "text"
      },
      "source": [
        "For some reason none of the DeepChem metrics work with DeepChem, except for the one they use in the example (ROC AUC)"
      ]
    },
    {
      "cell_type": "code",
      "metadata": {
        "id": "t02TeBm2vm4_",
        "colab_type": "code",
        "outputId": "cdbf248c-b9d3-49f9-c751-4779879ad120",
        "colab": {
          "base_uri": "https://localhost:8080/",
          "height": 52
        }
      },
      "source": [
        "try:\n",
        "    print(\"For training data:\")\n",
        "    training_scores   = model.evaluate(train, [accuracy_metric, precision_metric, recall_metric], per_task_metrics=True)\n",
        "except IndexError as e:\n",
        "    print(\"Failed to evaluate model, problem with metric\")"
      ],
      "execution_count": 0,
      "outputs": [
        {
          "output_type": "stream",
          "text": [
            "For training data:\n",
            "Failed to evaluate model, problem with metric\n"
          ],
          "name": "stdout"
        }
      ]
    },
    {
      "cell_type": "code",
      "metadata": {
        "id": "4tUdJZSnJsQ9",
        "colab_type": "code",
        "outputId": "d92026fd-ec64-4735-9372-dfa15de366b4",
        "colab": {
          "base_uri": "https://localhost:8080/",
          "height": 34
        }
      },
      "source": [
        "training_scores = model.evaluate(train, [roc_auc_metric])"
      ],
      "execution_count": 0,
      "outputs": [
        {
          "output_type": "stream",
          "text": [
            "computed_metrics: [0.5089696361342458]\n"
          ],
          "name": "stdout"
        }
      ]
    },
    {
      "cell_type": "code",
      "metadata": {
        "id": "eQWdorEeI-Wg",
        "colab_type": "code",
        "outputId": "afa62714-d929-4f2e-bb93-0d79ef8ddfd3",
        "colab": {
          "base_uri": "https://localhost:8080/",
          "height": 52
        }
      },
      "source": [
        "print(\"For validation data:\")\n",
        "try:\n",
        "    validation_scores = model.evaluate(valid, [accuracy_metric, precision_metric, recall_metric])\n",
        "except IndexError:\n",
        "    print(\"Failed to evaluate model, problem with metric\")"
      ],
      "execution_count": 0,
      "outputs": [
        {
          "output_type": "stream",
          "text": [
            "For validation data:\n",
            "Failed to evaluate model, problem with metric\n"
          ],
          "name": "stdout"
        }
      ]
    },
    {
      "cell_type": "code",
      "metadata": {
        "id": "jntiPqZVJvr8",
        "colab_type": "code",
        "outputId": "46a63119-6cef-43ce-fe0a-9c8438750da8",
        "colab": {
          "base_uri": "https://localhost:8080/",
          "height": 34
        }
      },
      "source": [
        "validation_scores = model.evaluate(valid, [roc_auc_metric])"
      ],
      "execution_count": 0,
      "outputs": [
        {
          "output_type": "stream",
          "text": [
            "computed_metrics: [0.481777228024558]\n"
          ],
          "name": "stdout"
        }
      ]
    },
    {
      "cell_type": "markdown",
      "metadata": {
        "id": "r6QY3Z8GJzmz",
        "colab_type": "text"
      },
      "source": [
        "## Assessing the Model\n",
        "\n",
        "We tried to implement several metrics above, but DeepChem is too difficult to get these working.\n",
        "\n",
        "Back to using sklearn directly..."
      ]
    },
    {
      "cell_type": "code",
      "metadata": {
        "id": "5d6czAj4TL3s",
        "colab_type": "code",
        "colab": {}
      },
      "source": [
        "import matplotlib.pyplot as plt\n",
        "\n",
        "from sklearn.metrics import roc_curve\n",
        "from sklearn.metrics import confusion_matrix"
      ],
      "execution_count": 0,
      "outputs": []
    },
    {
      "cell_type": "code",
      "metadata": {
        "id": "g-jdDEENz8Sd",
        "colab_type": "code",
        "colab": {}
      },
      "source": [
        "y_model = model.predict(test).ravel()\n",
        "fpr, tpr, _ = roc_curve(test.y, y_model)"
      ],
      "execution_count": 0,
      "outputs": []
    },
    {
      "cell_type": "code",
      "metadata": {
        "id": "epp_gIkWp3OH",
        "colab_type": "code",
        "outputId": "c469a172-5282-4407-d764-e0d9855d95a4",
        "colab": {
          "base_uri": "https://localhost:8080/",
          "height": 530
        }
      },
      "source": [
        "plt.figure(figsize=(12,8))\n",
        "plt.plot(fpr, tpr)\n",
        "plt.xlabel('False positive rate')\n",
        "plt.ylabel('True positive rate')\n",
        "plt.plot([0, 1], [0, 1], 'k--')\n",
        "plt.plot(fpr, tpr)\n",
        "plt.title('ROC curve')\n",
        "plt.legend(loc='best')\n",
        "plt.show()"
      ],
      "execution_count": 0,
      "outputs": [
        {
          "output_type": "stream",
          "text": [
            "WARNING:matplotlib.legend:No handles with labels found to put in legend.\n"
          ],
          "name": "stderr"
        },
        {
          "output_type": "display_data",
          "data": {
            "image/png": "iVBORw0KGgoAAAANSUhEUgAAAtQAAAHwCAYAAACG+PhNAAAABHNCSVQICAgIfAhkiAAAAAlwSFlz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\njTHPAVhrJ7oxn4iI1+394xcOrv/0vH0+Cb8