{
  "nbformat": 4,
  "nbformat_minor": 0,
  "metadata": {
    "colab": {
      "name": "deepchem_ch6_improved.ipynb",
      "version": "0.3.2",
      "provenance": [],
      "collapsed_sections": [],
      "include_colab_link": true
    },
    "kernelspec": {
      "name": "python3",
      "display_name": "Python 3"
    },
    "accelerator": "GPU"
  },
  "cells": [
    {
      "cell_type": "markdown",
      "metadata": {
        "id": "view-in-github",
        "colab_type": "text"
      },
      "source": [
        "<a href=\"https://colab.research.google.com/github/charlesreid1/dib-deep-chem/blob/master/deepchem_ch6_improved.ipynb\" target=\"_parent\"><img src=\"https://colab.research.google.com/assets/colab-badge.svg\" alt=\"Open In Colab\"/></a>"
      ]
    },
    {
      "cell_type": "markdown",
      "metadata": {
        "id": "ojiEwxAcx0nb",
        "colab_type": "text"
      },
      "source": [
        "# Notebook Setup\n",
        "\n",
        "Start by importing tensorflow and seeing if there is a GPU device available."
      ]
    },
    {
      "cell_type": "code",
      "metadata": {
        "id": "T_5jEDRfxz9X",
        "colab_type": "code",
        "colab": {}
      },
      "source": [
        "import tensorflow as tf\n",
        "#device_name = tf.test.gpu_device_name()\n",
        "#if device_name != '/device:GPU:0':\n",
        "#    raise SystemError('GPU device not found')"
      ],
      "execution_count": 0,
      "outputs": []
    },
    {
      "cell_type": "markdown",
      "metadata": {
        "id": "EcyKCVjlj8YW",
        "colab_type": "text"
      },
      "source": [
        "Install miniconda, then install prerequisites for deepchem:"
      ]
    },
    {
      "cell_type": "code",
      "metadata": {
        "id": "VYbD1-xCj-4M",
        "colab_type": "code",
        "outputId": "b69c766b-2f42-46fb-b7d4-dd49740511b2",
        "colab": {
          "base_uri": "https://localhost:8080/",
          "height": 121
        }
      },
      "source": [
        "%%bash\n",
        "if [ -f /usr/local/bin/conda ]; then\n",
        "  echo 'conda installed already!'\n",
        "else\n",
        "  echo 'conda not installed; going for it!'\n",
        "  curl -O -L https://repo.continuum.io/miniconda/Miniconda3-latest-Linux-x86_64.sh\n",
        "  bash Miniconda3-latest-Linux-x86_64.sh -b -f -p /usr/local\n",
        "fi\n",
        "\n",
        "# install important things\n",
        "conda install -y --prefix /usr/local -c conda-forge rdkit joblib simdna"
      ],
      "execution_count": 0,
      "outputs": [
        {
          "output_type": "stream",
          "text": [
            "conda installed already!\n",
            "Collecting package metadata: ...working... done\n",
            "Solving environment: ...working... done\n",
            "\n",
            "# All requested packages already installed.\n",
            "\n"
          ],
          "name": "stdout"
        }
      ]
    },
    {
      "cell_type": "markdown",
      "metadata": {
        "id": "c7jzZshUz40m",
        "colab_type": "text"
      },
      "source": [
        "Now set the `$PYTHONPATH` variable so that the notebook can access all the packages we installed above:"
      ]
    },
    {
      "cell_type": "code",
      "metadata": {
        "id": "0d-BQiLJxwdb",
        "colab_type": "code",
        "colab": {}
      },
      "source": [
        "import os\n",
        "os.environ['PYTHONPATH'] = os.environ['PYTHONPATH'] + ':/usr/local/lib/python3.6/site-packages:/usr/local/lib/python3.7/site-packages'"
      ],
      "execution_count": 0,
      "outputs": []
    },
    {
      "cell_type": "markdown",
      "metadata": {
        "id": "unpC067Rz9_c",
        "colab_type": "text"
      },
      "source": [
        "Install [PBR (python build reasonableness)](https://launchpad.net/pbr):"
      ]
    },
    {
      "cell_type": "code",
      "metadata": {
        "id": "K6qy6vnaxiB_",
        "colab_type": "code",
        "outputId": "b81bd409-d173-40bc-e364-7d207a74ef03",
        "colab": {
          "base_uri": "https://localhost:8080/",
          "height": 34
        }
      },
      "source": [
        "!pip install pbr"
      ],
      "execution_count": 0,
      "outputs": [
        {
          "output_type": "stream",
          "text": [
            "Requirement already satisfied: pbr in /usr/local/lib/python3.7/site-packages (5.2.0)\n"
          ],
          "name": "stdout"
        }
      ]
    },
    {
      "cell_type": "markdown",
      "metadata": {
        "id": "H5bcMtWU0GvI",
        "colab_type": "text"
      },
      "source": [
        "Install deepchem from source:"
      ]
    },
    {
      "cell_type": "code",
      "metadata": {
        "id": "xpShjTJ8xtXI",
        "colab_type": "code",
        "outputId": "48da11fa-a6ac-4119-e365-1d76a2d18562",
        "colab": {
          "base_uri": "https://localhost:8080/",
          "height": 469
        }
      },
      "source": [
        "%%bash\n",
        "# now install deepchem from source\n",
        "\n",
        "if [ \\! -d deepchem-repo ]; then\n",
        "  git clone https://github.com/deepchem/deepchem.git deepchem-repo\n",
        "fi\n",
        "cd deepchem-repo && python setup.py install"
      ],
      "execution_count": 0,
      "outputs": [
        {
          "output_type": "stream",
          "text": [
            "running install\n",
            "[pbr] Writing ChangeLog\n",
            "[pbr] Generating ChangeLog\n",
            "[pbr] ChangeLog complete (0.1s)\n",
            "[pbr] Generating AUTHORS\n",
            "[pbr] AUTHORS complete (0.1s)\n",
            "running build\n",
            "running build_py\n",
            "running egg_info\n",
            "writing deepchem.egg-info/PKG-INFO\n",
            "writing dependency_links to deepchem.egg-info/dependency_links.txt\n",
            "writing top-level names to deepchem.egg-info/top_level.txt\n",
            "writing pbr to deepchem.egg-info/pbr.json\n",
            "[pbr] Processing SOURCES.txt\n",
            "[pbr] In git context, generating filelist from git\n",
            "reading manifest template 'MANIFEST.in'\n",
            "writing manifest file 'deepchem.egg-info/SOURCES.txt'\n",
            "running install_lib\n",
            "running install_egg_info\n",
            "removing '/usr/local/lib/python3.7/site-packages/deepchem-2.2.1.dev49-py3.7.egg-info' (and everything under it)\n",
            "Copying deepchem.egg-info to /usr/local/lib/python3.7/site-packages/deepchem-2.2.1.dev49-py3.7.egg-info\n",
            "running install_scripts\n"
          ],
          "name": "stdout"
        },
        {
          "output_type": "stream",
          "text": [
            "warning: no previously-included files found matching '.gitreview'\n",
            "warning: no previously-included files matching '*.pyc' found anywhere in distribution\n",
            "/usr/local/lib/python3.7/site-packages/pbr/packaging.py:410: EasyInstallDeprecationWarning: Use get_header\n",
            "  header = easy_install.get_script_header(\"\", executable, is_wininst)\n"
          ],
          "name": "stderr"
        }
      ]
    },
    {
      "cell_type": "markdown",
      "metadata": {
        "id": "Ox5z05eC0L_W",
        "colab_type": "text"
      },
      "source": [
        "Add the site packages location to the system path:"
      ]
    },
    {
      "cell_type": "code",
      "metadata": {
        "id": "12pAz7__ygCa",
        "colab_type": "code",
        "colab": {}
      },
      "source": [
        "import sys\n",
        "sys.path.append('/usr/local/lib/python3.7/site-packages')\n",
        "sys.path.append('/usr/local/lib/python3.6/site-packages')"
      ],
      "execution_count": 0,
      "outputs": []
    },
    {
      "cell_type": "markdown",
      "metadata": {
        "id": "X0XckrRAyzMJ",
        "colab_type": "text"
      },
      "source": [
        "## Import Stuff"
      ]
    },
    {
      "cell_type": "code",
      "metadata": {
        "id": "pBRbEj1TyxDv",
        "colab_type": "code",
        "colab": {}
      },
      "source": [
        "# also import cool stuff\n",
        "import numpy as np\n",
        "import matplotlib.pyplot as plt\n",
        "import seaborn as sns"
      ],
      "execution_count": 0,
      "outputs": []
    },
    {
      "cell_type": "markdown",
      "metadata": {
        "id": "X_ZmE1pq0Rdf",
        "colab_type": "text"
      },
      "source": [
        "# Transcription Factor Example\n"
      ]
    },
    {
      "cell_type": "markdown",
      "metadata": {
        "id": "BtASXPfod9BK",
        "colab_type": "text"
      },
      "source": [
        "\n",
        "## Overview\n",
        "\n",
        "This example will use a data set about a transcription factor called JUND. The data set used in this example comes from the human chromosome 22 (the smallest human chromosome). It is 50 Mbp.\n",
        "\n",
        "The chromosome is broken into short segments of 101 base pairs.\n",
        "\n",
        "One hot encoding is used to represent the sequences (i.e., each base pair is turned into a vector of 0s and 1s)."
      ]
    },
    {
      "cell_type": "code",
      "metadata": {
        "id": "jXfwn_SgkVVs",
        "colab_type": "code",
        "outputId": "a7facae1-74fd-4605-9a49-c91f51f48855",
        "colab": {
          "base_uri": "https://localhost:8080/",
          "height": 34
        }
      },
      "source": [
        "!git clone https://github.com/deepchem/DeepLearningLifeSciences.git"
      ],
      "execution_count": 0,
      "outputs": [
        {
          "output_type": "stream",
          "text": [
            "fatal: destination path 'DeepLearningLifeSciences' already exists and is not an empty directory.\n"
          ],
          "name": "stdout"
        }
      ]
    },
    {
      "cell_type": "code",
      "metadata": {
        "id": "4RVPiF3TkYw7",
        "colab_type": "code",
        "colab": {}
      },
      "source": [
        "!ln -fs DeepLearningLifeSciences/Chapter06/{test*,train*,valid*} ."
      ],
      "execution_count": 0,
      "outputs": []
    },
    {
      "cell_type": "markdown",
      "metadata": {
        "id": "lhKIRcW2kSp-",
        "colab_type": "text"
      },
      "source": [
        "## Neural Network Architecture\n",
        "\n",
        "Beacuse we are dealing with a 1D sequence of data, we use a convolutional neural network that performs the convolution in 1 dimension (rather than 2 dimensions usually used with image data)."
      ]
    },
    {
      "cell_type": "markdown",
      "metadata": {
        "id": "94eV7omOeD3K",
        "colab_type": "text"
      },
      "source": [
        "Import necessary modules to build our neural network model:"
      ]
    },
    {
      "cell_type": "code",
      "metadata": {
        "id": "9UsUFkONyq9F",
        "colab_type": "code",
        "colab": {}
      },
      "source": [
        "import deepchem as dc\n",
        "import tensorflow as tf\n",
        "import numpy as np\n",
        "import deepchem.models.tensorgraph.layers as layers"
      ],
      "execution_count": 0,
      "outputs": []
    },
    {
      "cell_type": "markdown",
      "metadata": {
        "id": "3u-DUVny1Nxr",
        "colab_type": "text"
      },
      "source": [
        "Now we create the ingredients required by our model.\n",
        "\n",
        "The model is a TensorGraph model. We assemble the model layer by layer.\n",
        "\n",
        "The model must have labels (names for columns of data) and weights (for the input data)."
      ]
    },
    {
      "cell_type": "code",
      "metadata": {
        "id": "u6pzAAjmkH0l",
        "colab_type": "code",
        "colab": {}
      },
      "source": [
        "# Create model:\n",
        "model = dc.models.TensorGraph(batch_size=1000)\n",
        "features = layers.Feature(shape=(None, 101, 4))\n",
        "labels = layers.Label(shape=(None, 1))\n",
        "weights = layers.Weights(shape=(None, 1))"
      ],
      "execution_count": 0,
      "outputs": []
    },
    {
      "cell_type": "markdown",
      "metadata": {
        "id": "6ZHPLEFu1fGF",
        "colab_type": "text"
      },
      "source": [
        "Convolution neural networks usually follow a scheme that includes the following layers in order:\n",
        "\n",
        "The following neural network layer combo composes a single convolution layer:\n",
        "\n",
        "* Convolution (multiple convolution layers to deal with different portions of the data, e.g., 2 convolution layers each handing half the image)\n",
        "* Pool (combine convolutions)\n",
        "* Dropout (filter information - optional)\n",
        "\n",
        "These layers are repeated one or more times. Once the convolution layers have been implemented, the following layers are added to the end to convert the neural network's output into a usable classification/prediction:\n",
        "\n",
        "* Flatten (change dimensionality)\n",
        "* Dense\n",
        "* Dropout (filter information - optional)\n",
        "* Dense"
      ]
    },
    {
      "cell_type": "code",
      "metadata": {
        "id": "TVRRBzJwk8Mf",
        "colab_type": "code",
        "colab": {}
      },
      "source": [
        "# Set model architecture:\n",
        "\n",
        "# Three convolutional layers with identical parameters\n",
        "prev = features\n",
        "convolution_window = 10\n",
        "for i in range(3):\n",
        "    prev = layers.Conv1D(filters=15, \n",
        "                         kernel_size=convolution_window,\n",
        "                         activation=tf.nn.relu,\n",
        "                         padding='same',\n",
        "                         in_layers=prev)\n",
        "    prev = layers.Dropout(dropout_prob=0.5, in_layers=prev)"
      ],
      "execution_count": 0,
      "outputs": []
    },
    {
      "cell_type": "code",
      "metadata": {
        "id": "ttP7Y2IElqHD",
        "colab_type": "code",
        "colab": {}
      },
      "source": [
        "# Create a Flatten-Dense layer combination to compute output\n",
        "flat = layers.Flatten(prev)\n",
        "logits = layers.Dense(out_channels=1, in_layers=flat)\n",
        "\n",
        "# Final prediction\n",
        "output = layers.Sigmoid(logits)\n",
        "model.add_output(output)\n",
        "\n",
        "# Compute cross entropy for each sample and multiply by weights to get loss\n",
        "loss = layers.SigmoidCrossEntropy(in_layers=[labels, logits])\n",
        "weighted_loss = layers.WeightedError(in_layers=[loss, weights])\n",
        "model.set_loss(weighted_loss)"
      ],
      "execution_count": 0,
      "outputs": []
    },
    {
      "cell_type": "code",
      "metadata": {
        "id": "ZRrO0EFu7dG2",
        "colab_type": "code",
        "outputId": "c90fe60c-1635-4b6c-f6a2-9e908a70b20a",
        "colab": {
          "base_uri": "https://localhost:8080/",
          "height": 69
        }
      },
      "source": [
        "train = dc.data.DiskDataset('train_dataset')\n",
        "valid = dc.data.DiskDataset('valid_dataset')\n",
        "test = dc.data.DiskDataset('test_dataset')"
      ],
      "execution_count": 0,
      "outputs": [
        {
          "output_type": "stream",
          "text": [
            "Loading dataset from disk.\n",
            "Loading dataset from disk.\n",
            "Loading dataset from disk.\n"
          ],
          "name": "stdout"
        }
      ]
    },
    {
      "cell_type": "code",
      "metadata": {
        "id": "UMURbdejx5vd",
        "colab_type": "code",
        "outputId": "5486e171-34f5-402c-b074-0cc4ea8fb619",
        "colab": {
          "base_uri": "https://localhost:8080/",
          "height": 69
        }
      },
      "source": [
        "print(type(train))\n",
        "print(len(train.y))\n",
        "print(len(valid.y))"
      ],
      "execution_count": 0,
      "outputs": [
        {
          "output_type": "stream",
          "text": [
            "<class 'deepchem.data.datasets.DiskDataset'>\n",
            "276216\n",
            "34527\n"
          ],
          "name": "stdout"
        }
      ]
    },
    {
      "cell_type": "code",
      "metadata": {
        "id": "9KMmH4Xqx6LS",
        "colab_type": "code",
        "colab": {}
      },
      "source": [
        "# Define the ROC AUC metric like the book does in Ch 6\n",
        "roc_auc_metric = dc.metrics.Metric(dc.metrics.roc_auc_score)"
      ],
      "execution_count": 0,
      "outputs": []
    },
    {
      "cell_type": "markdown",
      "metadata": {
        "id": "8_TrW42THRgo",
        "colab_type": "text"
      },
      "source": [
        "In addition to the ROC AUC metric used in the book we want to look at precision, recall, and F-value as metrics during training to compare to the keras-only notebook.\n",
        "\n",
        "Scikit-learn has several of the metrics we are interested in built-in, so we import those below:"
      ]
    },
    {
      "cell_type": "code",
      "metadata": {
        "id": "x5P3zNPlt2cY",
        "colab_type": "code",
        "colab": {}
      },
      "source": [
        "# from https://github.com/deepchem/deepchem/blob/master/deepchem/metrics/__init__.py\n",
        "\n",
        "# https://scikit-learn.org/stable/modules/generated/sklearn.metrics.precision_score.html#sklearn.metrics.precision_score\n",
        "from sklearn.metrics import precision_score\n",
        "\n",
        "# https://scikit-learn.org/stable/modules/generated/sklearn.metrics.recall_score.html#sklearn.metrics.recall_score\n",
        "from sklearn.metrics import recall_score\n",
        "\n",
        "# https://scikit-learn.org/stable/modules/generated/sklearn.metrics.accuracy_score.html#sklearn.metrics.accuracy_score\n",
        "from sklearn.metrics import accuracy_score"
      ],
      "execution_count": 0,
      "outputs": []
    },
    {
      "cell_type": "markdown",
      "metadata": {
        "id": "WKW8h7EBHbat",
        "colab_type": "text"
      },
      "source": [
        "Now we run into problems... \n",
        "\n",
        "We can't create a DeepChem metric using sklearn's precision/recall/accuracy functions directly..."
      ]
    },
    {
      "cell_type": "code",
      "metadata": {
        "id": "MInGG36FebNR",
        "colab_type": "code",
        "colab": {}
      },
      "source": [
        "## ------------8<-----------\n",
        "## This does not work\n",
        "#\n",
        "#precision_metric = dc.metrics.Metric(precision_score, mode=\"classification\")\n",
        "#recall_metric    = dc.metrics.Metric(recall_score,    mode=\"classification\")\n",
        "#accuracy_metric  = dc.metrics.Metric(accuracy_score,  mode=\"classification\")\n",
        "## ------------8<-----------"
      ],
      "execution_count": 0,
      "outputs": []
    },
    {
      "cell_type": "markdown",
      "metadata": {
        "id": "GGVcfd39H1Rm",
        "colab_type": "text"
      },
      "source": [
        "Deepchem has an accuracy metric built-in, so we can try that. But we'll run into problems later, as we'll see...\n",
        "\n",
        "Note that unlike Keras, DeepChem does not print the values of the metrics as it goes through the model fit/training process."
      ]
    },
    {
      "cell_type": "code",
      "metadata": {
        "id": "3OsuaHxRH0Pe",
        "colab_type": "code",
        "colab": {}
      },
      "source": [
        "accuracy_metric = dc.metrics.Metric(dc.metrics.accuracy_score)\n",
        "precision_metric = dc.metrics.Metric(dc.metrics.precision_score)\n",
        "recall_metric = dc.metrics.Metric(dc.metrics.recall_score)"
      ],
      "execution_count": 0,
      "outputs": []
    },
    {
      "cell_type": "markdown",
      "metadata": {
        "id": "nz8PPeSpIHX7",
        "colab_type": "text"
      },
      "source": [
        "Fit the model. This prints out a number, but... I have no clue what this number means, and the DeepChem documentation doesn't say what this function returns.\n",
        "\n",
        "If we dive into the source code, it looks like it is returning a prediction. But then, shouldn't it be lots of numbers? No idea."
      ]
    },
    {
      "cell_type": "code",
      "metadata": {
        "id": "lC6X36lbnx8N",
        "colab_type": "code",
        "outputId": "8adc08fc-41a1-4f94-f7b4-441eaa97c52a",
        "colab": {
          "base_uri": "https://localhost:8080/",
          "height": 34
        }
      },
      "source": [
        "model.fit(train, nb_epoch=1)"
      ],
      "execution_count": 0,
      "outputs": [
        {
          "output_type": "execute_result",
          "data": {
            "text/plain": [
              "696.0246010239804"
            ]
          },
          "metadata": {
            "tags": []
          },
          "execution_count": 70
        }
      ]
    },
    {
      "cell_type": "markdown",
      "metadata": {
        "id": "4zibg0XhfQNn",
        "colab_type": "text"
      },
      "source": [
        "For some reason none of the DeepChem metrics work with DeepChem, except for the one they use in the example (ROC AUC)"
      ]
    },
    {
      "cell_type": "code",
      "metadata": {
        "id": "t02TeBm2vm4_",
        "colab_type": "code",
        "outputId": "cdbf248c-b9d3-49f9-c751-4779879ad120",
        "colab": {
          "base_uri": "https://localhost:8080/",
          "height": 52
        }
      },
      "source": [
        "try:\n",
        "    print(\"For training data:\")\n",
        "    training_scores   = model.evaluate(train, [accuracy_metric, precision_metric, recall_metric], per_task_metrics=True)\n",
        "except IndexError as e:\n",
        "    print(\"Failed to evaluate model, problem with metric\")"
      ],
      "execution_count": 0,
      "outputs": [
        {
          "output_type": "stream",
          "text": [
            "For training data:\n",
            "Failed to evaluate model, problem with metric\n"
          ],
          "name": "stdout"
        }
      ]
    },
    {
      "cell_type": "code",
      "metadata": {
        "id": "4tUdJZSnJsQ9",
        "colab_type": "code",
        "outputId": "d92026fd-ec64-4735-9372-dfa15de366b4",
        "colab": {
          "base_uri": "https://localhost:8080/",
          "height": 34
        }
      },
      "source": [
        "training_scores = model.evaluate(train, [roc_auc_metric])"
      ],
      "execution_count": 0,
      "outputs": [
        {
          "output_type": "stream",
          "text": [
            "computed_metrics: [0.5089696361342458]\n"
          ],
          "name": "stdout"
        }
      ]
    },
    {
      "cell_type": "code",
      "metadata": {
        "id": "eQWdorEeI-Wg",
        "colab_type": "code",
        "outputId": "afa62714-d929-4f2e-bb93-0d79ef8ddfd3",
        "colab": {
          "base_uri": "https://localhost:8080/",
          "height": 52
        }
      },
      "source": [
        "print(\"For validation data:\")\n",
        "try:\n",
        "    validation_scores = model.evaluate(valid, [accuracy_metric, precision_metric, recall_metric])\n",
        "except IndexError:\n",
        "    print(\"Failed to evaluate model, problem with metric\")"
      ],
      "execution_count": 0,
      "outputs": [
        {
          "output_type": "stream",
          "text": [
            "For validation data:\n",
            "Failed to evaluate model, problem with metric\n"
          ],
          "name": "stdout"
        }
      ]
    },
    {
      "cell_type": "code",
      "metadata": {
        "id": "jntiPqZVJvr8",
        "colab_type": "code",
        "outputId": "46a63119-6cef-43ce-fe0a-9c8438750da8",
        "colab": {
          "base_uri": "https://localhost:8080/",
          "height": 34
        }
      },
      "source": [
        "validation_scores = model.evaluate(valid, [roc_auc_metric])"
      ],
      "execution_count": 0,
      "outputs": [
        {
          "output_type": "stream",
          "text": [
            "computed_metrics: [0.481777228024558]\n"
          ],
          "name": "stdout"
        }
      ]
    },
    {
      "cell_type": "markdown",
      "metadata": {
        "id": "r6QY3Z8GJzmz",
        "colab_type": "text"
      },
      "source": [
        "## Assessing the Model\n",
        "\n",
        "We tried to implement several metrics above, but DeepChem is too difficult to get these working.\n",
        "\n",
        "Back to using sklearn directly..."
      ]
    },
    {
      "cell_type": "code",
      "metadata": {
        "id": "5d6czAj4TL3s",
        "colab_type": "code",
        "colab": {}
      },
      "source": [
        "import matplotlib.pyplot as plt\n",
        "\n",
        "from sklearn.metrics import roc_curve\n",
        "from sklearn.metrics import confusion_matrix"
      ],
      "execution_count": 0,
      "outputs": []
    },
    {
      "cell_type": "code",
      "metadata": {
        "id": "g-jdDEENz8Sd",
        "colab_type": "code",
        "colab": {}
      },
      "source": [
        "y_model = model.predict(test).ravel()\n",
        "fpr, tpr, _ = roc_curve(test.y, y_model)"
      ],
      "execution_count": 0,
      "outputs": []
    },
    {
      "cell_type": "code",
      "metadata": {
        "id": "epp_gIkWp3OH",
        "colab_type": "code",
        "outputId": "c469a172-5282-4407-d764-e0d9855d95a4",
        "colab": {
          "base_uri": "https://localhost:8080/",
          "height": 530
        }
      },
      "source": [
        "plt.figure(figsize=(12,8))\n",
        "plt.plot(fpr, tpr)\n",
        "plt.xlabel('False positive rate')\n",
        "plt.ylabel('True positive rate')\n",
        "plt.plot([0, 1], [0, 1], 'k--')\n",
        "plt.plot(fpr, tpr)\n",
        "plt.title('ROC curve')\n",
        "plt.legend(loc='best')\n",
        "plt.show()"
      ],
      "execution_count": 0,
      "outputs": [
        {
          "output_type": "stream",
          "text": [
            "WARNING:matplotlib.legend:No handles with labels found to put in legend.\n"
          ],
          "name": "stderr"
        },
        {
          "output_type": "display_data",
          "data": {
            "image/png": "iVBORw0KGgoAAAANSUhEUgAAAtQAAAHwCAYAAACG+PhNAAAABHNCSVQICAgIfAhkiAAAAAlwSFlz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\n",
            "text/plain": [
              "<Figure size 864x576 with 1 Axes>"
            ]
          },
          "metadata": {
            "tags": []
          }
        }
      ]
    },
    {
      "cell_type": "markdown",
      "metadata": {
        "id": "jhLSagikNtNN",
        "colab_type": "text"
      },
      "source": [
        "Whew, that model _stinks_! Let's train it for more rounds."
      ]
    },
    {
      "cell_type": "code",
      "metadata": {
        "id": "Zrn1VZ535vDj",
        "colab_type": "code",
        "outputId": "a157dbae-60ab-44f5-fc13-81f91829277d",
        "colab": {
          "base_uri": "https://localhost:8080/",
          "height": 278
        }
      },
      "source": [
        "train_scores = []\n",
        "valid_scores = []\n",
        "\n",
        "for i in range(5):\n",
        "    print('----- starting round {}'.format(i))\n",
        "    \n",
        "    # Re-fit\n",
        "    model.fit(train, nb_epoch=10)\n",
        "    \n",
        "    train_scores.append(model.evaluate(train, [roc_auc_metric]))\n",
        "    valid_scores.append(model.evaluate(valid, [roc_auc_metric]))"
      ],
      "execution_count": 0,
      "outputs": [
        {
          "output_type": "stream",
          "text": [
            "----- starting round 0\n",
            "computed_metrics: [0.6322356377372538]\n",
            "computed_metrics: [0.5693936161777788]\n",
            "----- starting round 1\n",
            "computed_metrics: [0.7532844158235095]\n",
            "computed_metrics: [0.7054278545851823]\n",
            "----- starting round 2\n",
            "computed_metrics: [0.783983795866963]\n",
            "computed_metrics: [0.7003528748954604]\n",
            "----- starting round 3\n",
            "computed_metrics: [0.8000429962311932]\n",
            "computed_metrics: [0.693106817121435]\n",
            "----- starting round 4\n",
            "computed_metrics: [0.813102997177977]\n",
            "computed_metrics: [0.7104013326889294]\n"
          ],
          "name": "stdout"
        }
      ]
    },
    {
      "cell_type": "code",
      "metadata": {
        "id": "QxElWaUQuWO2",
        "colab_type": "code",
        "outputId": "2a616839-dc4d-4434-c47e-23f4eaaa3916",
        "colab": {
          "base_uri": "https://localhost:8080/",
          "height": 34
        }
      },
      "source": [
        "print(list(d['roc_auc_score'] for d in train_scores))"
      ],
      "execution_count": 0,
      "outputs": [
        {
          "output_type": "stream",
          "text": [
            "[0.6322356377372538, 0.7532844158235095, 0.783983795866963, 0.8000429962311932, 0.813102997177977]\n"
          ],
          "name": "stdout"
        }
      ]
    },
    {
      "cell_type": "code",
      "metadata": {
        "id": "tY5LD3zFt-oa",
        "colab_type": "code",
        "outputId": "c32f353d-f615-4ba6-cbeb-48040aaba3d9",
        "colab": {
          "base_uri": "https://localhost:8080/",
          "height": 296
        }
      },
      "source": [
        "train_scores_v = [d['roc_auc_score'] for d in train_scores]\n",
        "valid_scores_v = [d['roc_auc_score'] for d in valid_scores]\n",
        "\n",
        "plt.plot(np.arange(1,len(train_scores_v)+1)*20, train_scores_v, 'o-', label='training')\n",
        "plt.plot(np.arange(1,len(valid_scores_v)+1)*20, valid_scores_v, 'o-', label='validation')\n",
        "plt.title('ROC AUC Curve', size=14)\n",
        "plt.xlabel('Training Round')\n",
        "plt.ylabel('ROC AUC')\n",
        "plt.legend()\n",
        "plt.grid()"
      ],
      "execution_count": 0,
      "outputs": [
        {
          "output_type": "display_data",
          "data": {
            "image/png": "iVBORw0KGgoAAAANSUhEUgAAAYsAAAEXCAYAAABcRGizAAAABHNCSVQICAgIfAhkiAAAAAlwSFlz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\n6PiWOK0GtMy41q9fz5