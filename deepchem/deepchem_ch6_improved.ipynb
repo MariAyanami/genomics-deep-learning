{
  "nbformat": 4,
  "nbformat_minor": 0,
  "metadata": {
    "colab": {
      "name": "deepchem_ch6_improved.ipynb",
      "version": "0.3.2",
      "provenance": [],
      "collapsed_sections": [],
      "include_colab_link": true
    },
    "kernelspec": {
      "name": "python3",
      "display_name": "Python 3"
    },
    "accelerator": "GPU"
  },
  "cells": [
    {
      "cell_type": "markdown",
      "metadata": {
        "id": "view-in-github",
        "colab_type": "text"
      },
      "source": [
        "<a href=\"https://colab.research.google.com/github/charlesreid1/dib-deep-chem/blob/master/deepchem_ch6_improved.ipynb\" target=\"_parent\"><img src=\"https://colab.research.google.com/assets/colab-badge.svg\" alt=\"Open In Colab\"/></a>"
      ]
    },
    {
      "cell_type": "markdown",
      "metadata": {
        "id": "ojiEwxAcx0nb",
        "colab_type": "text"
      },
      "source": [
        "# Notebook Setup\n",
        "\n",
        "Start by importing tensorflow and seeing if there is a GPU device available."
      ]
    },
    {
      "cell_type": "code",
      "metadata": {
        "id": "T_5jEDRfxz9X",
        "colab_type": "code",
        "colab": {}
      },
      "source": [
        "import tensorflow as tf\n",
        "#device_name = tf.test.gpu_device_name()\n",
        "#if device_name != '/device:GPU:0':\n",
        "#    raise SystemError('GPU device not found')"
      ],
      "execution_count": 0,
      "outputs": []
    },
    {
      "cell_type": "markdown",
      "metadata": {
        "id": "EcyKCVjlj8YW",
        "colab_type": "text"
      },
      "source": [
        "Install miniconda, then install prerequisites for deepchem:"
      ]
    },
    {
      "cell_type": "code",
      "metadata": {
        "id": "VYbD1-xCj-4M",
        "colab_type": "code",
        "outputId": "b69c766b-2f42-46fb-b7d4-dd49740511b2",
        "colab": {
          "base_uri": "https://localhost:8080/",
          "height": 121
        }
      },
      "source": [
        "%%bash\n",
        "if [ -f /usr/local/bin/conda ]; then\n",
        "  echo 'conda installed already!'\n",
        "else\n",
        "  echo 'conda not installed; going for it!'\n",
        "  curl -O -L https://repo.continuum.io/miniconda/Miniconda3-latest-Linux-x86_64.sh\n",
        "  bash Miniconda3-latest-Linux-x86_64.sh -b -f -p /usr/local\n",
        "fi\n",
        "\n",
        "# install important things\n",
        "conda install -y --prefix /usr/local -c conda-forge rdkit joblib simdna"
      ],
      "execution_count": 0,
      "outputs": [
        {
          "output_type": "stream",
          "text": [
            "conda installed already!\n",
            "Collecting package metadata: ...working... done\n",
            "Solving environment: ...working... done\n",
            "\n",
            "# All requested packages already installed.\n",
            "\n"
          ],
          "name": "stdout"
        }
      ]
    },
    {
      "cell_type": "markdown",
      "metadata": {
        "id": "c7jzZshUz40m",
        "colab_type": "text"
      },
      "source": [
        "Now set the `$PYTHONPATH` variable so that the notebook can access all the packages we installed above:"
      ]
    },
    {
      "cell_type": "code",
      "metadata": {
        "id": "0d-BQiLJxwdb",
        "colab_type": "code",
        "colab": {}
      },
      "source": [
        "import os\n",
        "os.environ['PYTHONPATH'] = os.environ['PYTHONPATH'] + ':/usr/local/lib/python3.6/site-packages:/usr/local/lib/python3.7/site-packages'"
      ],
      "execution_count": 0,
      "outputs": []
    },
    {
      "cell_type": "markdown",
      "metadata": {
        "id": "unpC067Rz9_c",
        "colab_type": "text"
      },
      "source": [
        "Install [PBR (python build reasonableness)](https://launchpad.net/pbr):"
      ]
    },
    {
      "cell_type": "code",
      "metadata": {
        "id": "K6qy6vnaxiB_",
        "colab_type": "code",
        "outputId": "b81bd409-d173-40bc-e364-7d207a74ef03",
        "colab": {
          "base_uri": "https://localhost:8080/",
          "height": 34
        }
      },
      "source": [
        "!pip install pbr"
      ],
      "execution_count": 0,
      "outputs": [
        {
          "output_type": "stream",
          "text": [
            "Requirement already satisfied: pbr in /usr/local/lib/python3.7/site-packages (5.2.0)\n"
          ],
          "name": "stdout"
        }
      ]
    },
    {
      "cell_type": "markdown",
      "metadata": {
        "id": "H5bcMtWU0GvI",
        "colab_type": "text"
      },
      "source": [
        "Install deepchem from source:"
      ]
    },
    {
      "cell_type": "code",
      "metadata": {
        "id": "xpShjTJ8xtXI",
        "colab_type": "code",
        "outputId": "48da11fa-a6ac-4119-e365-1d76a2d18562",
        "colab": {
          "base_uri": "https://localhost:8080/",
          "height": 469
        }
      },
      "source": [
        "%%bash\n",
        "# now install deepchem from source\n",
        "\n",
        "if [ \\! -d deepchem-repo ]; then\n",
        "  git clone https://github.com/deepchem/deepchem.git deepchem-repo\n",
        "fi\n",
        "cd deepchem-repo && python setup.py install"
      ],
      "execution_count": 0,
      "outputs": [
        {
          "output_type": "stream",
          