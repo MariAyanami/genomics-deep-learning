{
  "nbformat": 4,
  "nbformat_minor": 0,
  "metadata": {
    "colab": {
      "name": "deepchem_ch6_improved.ipynb",
      "version": "0.3.2",
      "provenance": [],
      "collapsed_sections": [],
      "include_colab_link": true
    },
    "kernelspec": {
      "name": "python3",
      "display_name": "Python 3"
    },
    "accelerator": "GPU"
  },
  "cells": [
    {
      "cell_type": "markdown",
      "metadata": {
        "id": "view-in-github",
        "colab_type": "text"
      },
      "source": [
        "<a href=\"https://colab.research.google.com/github/charlesreid1/dib-deep-chem/blob/master/deepchem_ch6_improved.ipynb\" target=\"_parent\"><img src=\"https://colab.research.google.com/assets/colab-badge.svg\" alt=\"Open In Colab\"/></a>"
      ]
    },
    {
      "cell_type": "markdown",
      "metadata": {
        "id": "ojiEwxAcx0nb",
        "colab_type": "text"
      },
      "source": [
        "# Notebook Setup\n",
        "\n",
        "Start by importing tensorflow and seeing if there is a GPU device available."
      ]
    },
    {
      "cell_type": "code",
      "metadata": {
        "id": "T_5jEDRfxz9X",
        "colab_type": "code",
        "colab": {}
      },
      "source": [
        "import tensorflow as tf\n",
        "#device_name = tf.test.gpu_device_name()\n",
        "#if device_name != '/device:GPU:0':\n",
        "#    raise SystemError('GPU device not found')"
      ],
      "execution_count": 0,
      "outputs": []
    },
    {
      "cell_type": "markdown",
      "metadata": {
        "id": "EcyKCVjlj8YW",
        "colab_type": "text"
      },
      "source": [
        "Install miniconda, then install prerequisites for deepchem:"
      ]
    },
    {
      "cell_type": "code",
      "metadata": {
        "id": "VYbD1-xCj-4M",
        "colab_type": "code",
        "outputId": "b69c766b-2f42-46fb-b7d4-dd49740511b2",
        "colab": {
          "base_uri": "https://localhost:8080/",
          "height": 121
        }
      },
      "source": [
        "%%bash\n",
        "if [ -f /usr/local/bin/conda ]; then\n",
        "  echo 'conda installed already!'\n",
        "else\n",
        "  echo 'conda not installed; going for it!'\n",
        "  curl -O -L https://repo.continuum.io/miniconda/Miniconda3-latest-Linux-x86_64.sh\n",
        "  bash Miniconda3-latest-Linux-x86_64.sh -b -f -p /usr/local\n",
        "fi\n",
        "\n",
        "# install important things\n",
        "conda install -y --prefix /usr/local -c conda-forge rdkit joblib simdna"
      ],
      "execution_count": 0,
      "outputs": [
        {
          "output_type": "stream",
          "text": [
            "conda installed already!\n",
            "Collecting package metadata: ...working... done\n",
            "Solving environment: ...working... done\n",
            "\n",
            "# All requested packages already installed.\n",
            "\n"
          ],
          "name": "stdout"
        }
      ]
    },
    {
      "cell_type": "markdown",
      "metadata": {
        "id": "c7jzZshUz40m",
        "colab_type": "text"
      },
      "source": [
        "Now set the `$PYTHONPATH` variable so that the notebook can access all the packages we installed above:"
      ]
    },
    {
      "cell_type": "code",
      "metadata": {
        "id": "0d-BQiLJxwdb",
        "colab_type": "code",
        "colab": {}
      },
      "source": [
        "import os\n",
        "os.environ['PYTHONPATH'] = os.environ['PYTHONPATH'] + ':/usr/local/lib/python3.6/site-packages:/usr/local/lib/python3.7/site-packages'"
      ],
      "execution_count": 0,
      "outputs": []
    },
    {
      "cell_type": "markdown",
      "metadata": {
        "id": "unpC067Rz9_c",
        "colab_type": "text"
      },
      "source": [
        "Install [PBR (python build reasonableness)](https://launchpad.net/pbr):"
      ]
    },
    {
      "cell_type": "code",
      "metadata": {
        "id": "K6qy6vnaxiB_",
        "colab_type": "code",
        "outputId": "b81bd409-d173-40bc-e364-7d207a74ef03",
        "colab": {
          "base_uri": "https://localhost:8080/",
          "height": 34
        }
      },
      "source": [
        "!pip install pbr"
      ],
      "execution_count": 0,
      "outputs": [
        {
          "output_type": "stream",
          "text": [
            "Requirement already satisfied: pbr in /usr/local/lib/python3.7/site-packages (5.2.0)\n"
          ],
          "name": "stdout"
        }
      ]
    },
    {
      "cell_type": "markdown",
      "metadata": {
        "id": "H5bcMtWU0GvI",
        "colab_type": "text"
      },
      "source": [
        "Install deepchem from source:"
      ]
    },
    {
      "cell_type": "code",
      "metadata": {
        "id": "xpShjTJ8xtXI",
        "colab_type": "code",
        "outputId": "48da11fa-a6ac-4119-e365-1d76a2d18562",
        "colab": {
          "base_uri": "https://localhost:8080/",
          "height": 469
        }
      },
      "source": [
        "%%bash\n",
        "# now install deepchem from source\n",
        "\n",
        "if [ \\! -d deepchem-repo ]; then\n",
        "  git clone https://github.com/deepchem/deepchem.git deepchem-repo\n",
        "fi\n",
        "cd deepchem-repo && python setup.py install"
      ],
      "execution_count": 0,
      "outputs": [
        {
          "output_type": "stream",
          "text": [
            "running install\n",
            "[pbr] Writing ChangeLog\n",
            "[pbr] Generating ChangeLog\n",
            "[pbr] ChangeLog complete (0.1s)\n",
            "[pbr] Generating AUTHORS\n",
            "[pbr] AUTHORS complete (0.1s)\n",
            "running build\n",
            "running build_py\n",
            "running egg_info\n",
            "writing deepchem.egg-info/PKG-INFO\n",
            "writing dependency_links to deepchem.egg-info/dependency_links.txt\n",
            "writing top-level names to deepchem.egg-info/top_level.txt\n",
            "writing pbr to deepchem.egg-info/pbr.json\n",
            "[pbr] Processing SOURCES.txt\n",
            "[pbr] In git context, generating filelist from git\n",
            "reading manifest template 'MANIFEST.in'\n",
            "writing manifest file 'deepchem.egg-info/SOURCES.txt'\n",
            "running install_lib\n",
            "running install_egg_info\n",
            "removing '/usr/local/lib/python3.7/site-packages/deepchem-2.2.1.dev49-py3.7.egg-info' (and everything under it)\n",
            "Copying deepchem.egg-info to /usr/local/lib/python3.7/site-packages/deepchem-2.2.1.dev49-py3.7.egg-info\n",
            "running install_scripts\n"
          ],
          "name": "stdout"
        },
        {
          "output_type": "stream",
          "text": [
            "warning: no previously-included files found matching '.gitreview'\n",
            "warning: no previously-included files matching '*.pyc' found anywhere in distribution\n",
            "/usr/local/lib/python3.7/site-packages/pbr/packaging.py:410: EasyInstallDeprecationWarning: Use get_header\n",
            "  header = easy_install.get_script_header(\"\", executable, is_wininst)\n"
          ],
          "name": "stderr"
        }
      ]
    },
    {
      "cell_type": "markdown",
      "metadata": {
        "id": "Ox5z05eC0L_W",
        "colab_type": "text"
      },
      "source": [
        "Add the site packages location to the system path:"
      ]
    },
    {
      "cell_type": "code",
      "metadata": {
        "id": "12pAz7__ygCa",
        "colab_type": "code",
        "colab": {}
      },
      "source": [
        "import sys\n",
        "sys.path.append('/usr/local/lib/python3.7/site-packages')\n",
        "sys.path.append('/usr/local/lib/python3.6/site-packages')"
      ],
      "execution_count": 0,
      "outputs": []
    },
    {
      "cell_type": "markdown",
      "metadata": {
        "id": "X0XckrRAyzMJ",
        "colab_type": "text"
      },
      "source": [
        "## Import Stuff"
      ]
    },
    {
      "cell_type": "code",
      "metadata": {
        "id": "pBRbEj1TyxDv",
        "colab_type": "code",
        "colab": {}
      },
      "source": [
        "# also import cool stuff\n",
        "import numpy as np\n",
        "import matplotlib.pyplot as plt\n",
        "import seaborn as sns"
      ],
      "execution_count": 0,
      "outputs": []
    },
    {
      "cell_type": "markdown",
      "metadata": {
        "id": "X_ZmE1pq0Rdf",
        "colab_type": "text"
      },
      "source": [
        "# Transcription Factor Example\n"
      ]
    },
    {
      "cell_type": "markdown",
      "metadata": {
        "id": "BtASXPfod9BK",
        "colab_type": "text"
      },
      "source": [
        "\n",
        "## Overview\n",
        "\n",
        "This example will use a data set about a transcription factor called JUND. The data set used in this example comes from the human chromosome 22 (the smallest human chromosome). It is 50 Mbp.\n",
        "\n",
        "The chromosome is broken into short segments of 101 base pairs.\n",
        "\n",
        "One hot encoding is used to represent the sequences (i.e., each base pair is turned into a vector of 0s and 1s)."
      ]
    },
    {
      "cell_type": "code",
      "metadata": {
        "id": "jXfwn_SgkVVs",
        "colab_type": "code",
        "outputId": "a7facae1-74fd-4605-9a49-c91f51f48855",
        "colab": {
          "base_uri": "https://localhost:8080/",
          "height": 34
        }
      },
      "source": [
        "!git clone https://github.com/deepchem/DeepLearningLifeSciences.git"
      ],
      "execution_count": 0,
      "outputs": [
        {
          "output_type": "stream",
          "text": [
            "fatal: destination path 'DeepLearningLifeSciences' already exists and is not an empty directory.\n"
          ],
          "name": "stdout"
        }
      ]
    },
    {
      "cell_type": "code",
      "metadata": {
        "id": "4RVPiF3TkYw7",
        "colab_type": "code",
        "colab": {}
      },
      "source": [
        "!ln -fs DeepLearningLifeSciences/Chapter06/{test*,train*,valid*} ."
      ],
      "execution_count": 0,
      "outputs": []
    },
    {
      "cell_type": "markdown",
      "metadata": {
        "id": "lhKIRcW2kSp-",
        "colab_type": "text"
      },
      "source": [
        "## Neural Network Architecture\n",
        "\n",
        "Beacuse we are dealing with a 1D sequence of data, we use a convolutional neural network that performs the convolution in 1 dimension (rather than 2 dimensions usually used with image data)."
      ]
    },
    {
      "cell_type": "markdown",
      "metadata": {
        "id": "94eV7omOeD3K",
        "colab_type": "text"
      },
      "source": [
        "Import necessary modules to build our neural network model:"
      ]
    },
    {
      "cell_type": "code",
      "metadata": {
        "id": "9UsUFkONyq9F",
        "colab_type": "code",
        "colab": {}
      },
      "source": [
        "import deepchem as dc\n",
        "import tensorflow as tf\n",
        "import numpy as np\n",
        "import deepchem.models.tensorgraph.layers as layers"
      ],
      "execution_count": 0,
      "outputs": []
    },
    {
      "cell_type": "markdown",
      "metadata": {
        "id": "3u-DUVny1Nxr",
        "colab_type": "text"
      },
      "source": [
        "Now we create the ingredients required by our model.\n",
        "\n",
        "The model is a TensorGraph model. We assemble the model layer by layer.\n",
        "\n",
        "The model must have labels (names for columns of data) and weights (for the input data)."
      ]
    },
    {
      "cell_type": "code",
      "metadata": {
        "id": "u6pzAAjmkH0l",
        "colab_type": "code",
        "colab": {}
      },
      "source": [
        "# Create model:\n",
        "model = dc.models.TensorGraph(batch_size=1000)\n",
        "features = layers.Feature(shape=(None, 101, 4))\n",
        "labels = layers.Label(shape=(None, 1))\n",
        "weights = layers.Weights(shape=(None, 1))"
      ],
      "execution_count": 0,
      "outputs": []
    },
    {
      "cell_type": "markdown",
      "metadata": {
        "id": "6ZHPLEFu1fGF",
        "colab_type": "text"
      },
      "source": [
        "Convolution neural networks usually follow a scheme that includes the following layers in order:\n",
        "\n",
        "The following neural network layer combo composes a single convolution layer:\n",
        "\n",
        "* Convolution (multiple convolution layers to deal with different portions of the data, e.g., 2 convolution layers each handing half the image)\n",
        "* Pool (combine convolutions)\n",
        "* Dropout (filter information - optional)\n",
        "\n",
        "These layers are repeated one or more times. Once the convolution layers have been implemented, the following layers are added to the end to convert the neural network's output into a usable classification/prediction:\n",
        "\n",
        "* Flatten (change dimensionality)\n",
        "* Dense\n",
        "* Dropout (filter information - optional)\n",
        "* Dense"
      ]
    },
    {
      "cell_type": "code",
      "metadata": {
        "id": "TVRRBzJwk8Mf",
        "colab_type": "code",
        "colab": {}
      },
      "source": [
        "# Set model architecture:\n",
        "\n",
        "# Three convolutional layers with identical parameters\n",
        "prev = features\n",
        "convolution_window = 10\n",
        "for i in range(3):\n",
        "    prev = layers.Conv1D(filters=15, \n",
        "                         kernel_size=convolution_window,\n",
        "                         activation=tf.nn.relu,\n",
        "                         padding='same',\n",
        "                         in_layers=prev)\n",
        "    prev = layers.Dropout(dropout_prob=0.5, in_layers=prev)"
      ],
      "execution_count": 0,
      "outputs": []
    },
    {
      "cell_type": "code",
      "metadata": {
        "id": "ttP7Y2IElqHD",
        "colab_type": "code",
        "colab": {}
      },
      "source": [
        "# Create a Flatten-Dense layer combination to compute output\n",
        "flat = layers.Flatten(prev)\n",
        "logits = layers.Dense(out_channels=1, in_layers=flat)\n",
        "\n",
        "# Final prediction\n",
        "output = layers.Sigmoid(logits)\n",
        "model.add_output(output)\n",
        "\n",
        "# Compute cross entropy for each sample and multiply by weights to get loss\n",
        "loss = layers.SigmoidCrossEntropy(in_layers=[labels, logits])\n",
        "weighted_loss = layers.WeightedError(in_layers=[loss, weights])\n",
        "model.set_loss(weighted_loss)"
      ],
      "execution_count": 0,
      "outputs": []
    },
    {
      "cell_type": "code",
      "metadata": {
        "id": "ZRrO0EFu7dG2",
        "colab_type": "code",
        "outputId": "c90fe60c-1635-4b6c-f6a2-9e908a70b20a",
        "colab": {
          "base_uri": "https://localhost:8080/",
          "height": 69
        }
      },
      "source": [
        "train = dc.data.DiskDataset('train_dataset')\n",
        "valid = dc.data.DiskDataset('valid_dataset')\n",
        "test = dc.data.DiskDataset('test_dataset')"
      ],
      "execution_count": 0,
      "outputs": [
        {
          "output_type": "stream",
          "text": [
            "Loading dataset from disk.\n",
            "Loading dataset from disk.\n",
            "Loading dataset from disk.\n"
          ],
          "name": "stdout"
        }
      ]
    },
    {
      "cell_type": "code",
      "metadata": {
        "id": "UMURbdejx5vd",
        "colab_type": "code",
        "outputId": "5486e171-34f5-402c-b074-0cc4ea8fb619",
        "colab": {
          "base_uri": "https://localhost:8080/",
          "height": 69
        }
      },
      "source": [
        "print(type(train))\n",
        "print(len(train.y))\n",
        "print(len(valid.y))"
      ],
      "execution_count": 0,
      "outputs": [
        {
          "output_type": "stream",
          "text": [
            "<class 'deepchem.data.datasets.DiskDataset'>\n",
            "276216\n",
            "34527\n"
          ],
          "name": "stdout"
        }
      ]
    },
    {
      "cell_type": "code",
      "metadata": {
        "id": "9KMmH4Xqx6LS",
        "colab_type": "code",
        "colab": {}
      },
      "source": [
        "# Define the ROC AUC metric like the book does in Ch 6\n",
        "roc_auc_metric = dc.metrics.Metric(dc.metrics.roc_auc_score)"
      ],
      "execution_count": 0,
      "outputs": []
    },
    {
      "cell_type": "markdown",
      "metadata": {
        "id": "8_TrW42THRgo",
        "colab_type": "text"
      },
      "source": [
        "In addition to the ROC AUC metric used in the book we want to look at precision, recall, and F-value as metrics during training to compare to the keras-only notebook.\n",
        "\n",
        "Scikit-learn has several of the metrics we are interested in built-in, so we import those below:"
      ]
    },
    {
      "cell_type": "code",
      "metadata": {
        "id": "x5P3zNPlt2cY",
        "colab_type": "code",
        "colab": {}
      },
      "source": [
        "# from https://github.com/deepchem/deepchem/blob/master/deepchem/metrics/__init__.py\n",
        "\n",
        "# https://scikit-learn.org/stable/modules/generated/sklearn.metrics.precision_score.html#sklearn.metrics.precision_score\n",
        "from sklearn.metrics import precision_score\n",
        "\n",
        "# https://scikit-learn.org/stable/modules/generated/sklearn.metrics.recall_score.html#sklearn.metrics.recall_score\n",
        "from sklearn.metrics import recall_score\n",
        "\n",
        "# https://scikit-learn.org/stable/modules/generated/sklearn.metrics.accuracy_score.html#sklearn.metrics.accuracy_score\n",
        "from sklearn.metrics import accuracy_score"
      ],
      "execution_count": 0,
      "outputs": []
    },
    {
      "cell_type": "markdown",
      "metadata": {
        "id": "WKW8h7EBHbat",
        "colab_type": "text"
      },
      "source": [
        "Now we run into problems... \n",
        "\n",
        "We can't create a DeepChem metric using sklearn's precision/recall/accuracy functions directly..."
      ]
    },
    {
      "cell_type": "code",
      "metadata": {
        "id": "MInGG36FebNR",
        "colab_type": "code",
        "colab": {}
      },
      "source": [
        "## ------------8<-----------\n",
        "## This does not work\n",
        "#\n",
        "#precision_metric = dc.metrics.Metric(precision_score, mode=\"classification\")\n",
        "#recall_metric    = dc.metrics.Metric(recall_score,    mode=\"classification\")\n",
        "#accuracy_metric  = dc.metrics.Metric(accuracy_score,  mode=\"classification\")\n",
        "## ------------8<-----------"
      ],
      "execution_count": 0,
      "outputs": []
    },
    {
      "cell_type": "markdown",
      "metadata": {
        "id": "GGVcfd39H1Rm",
        "colab_type": "text"
      },
      "source": [
        "Deepchem has an accuracy metric built-in, so we can try that. But we'll run into problems later, as we'll see...\n",
        "\n",
        "Note that unlike Keras, DeepChem does not print the values of the metrics as it goes through the model fit/training process."
      ]
    },
    {
      "cell_type": "code",
      "metadata": {
        "id": "3OsuaHxRH0Pe",
        "colab_type": "code",
        "colab": {}
      },
      "source": [
        "accuracy_metric = dc.metrics.Metric(dc.metrics.accuracy_score)\n",
        "precision_metric = dc.metrics.Metric(dc.metrics.precision_score)\n",
        "recall_metric = dc.metrics.Metric(dc.metrics.recall_score)"
      ],
      "execution_count": 0,
      "outputs": []
    },
    {
      "cell_type": "markdown",
      "metadata": {
        "id": "nz8PPeSpIHX7",
        "colab_type": "text"
      },
      "source": [
        "Fit the model. This prints out a number, but... I have no clue what this number means, and the DeepChem documentation doesn't say what this function returns.\n",
        "\n",
        "If we dive into the source code, it looks like it is returning a prediction. But then, shouldn't it be lots of numbers? No idea."
      ]
    },
    {
      "cell_type": "code",
      "metadata": {
        "id": "lC6X36lbnx8N",
        "colab_type": "code",
        "outputId": "8adc08fc-41a1-4f94-f7b4-441eaa97c52a",
        "colab": {
          "base_uri": "https://localhost:8080/",
          "height": 34
        }
      },
      "source": [
        "model.fit(train, nb_epoch=1)"
      ],
      "execution_count": 0,
      "outputs": [
        {
          "output_type": "execute_result",
          "data": {
            "text/plain": [
              "696.0246010239804"
            ]
          },
          "metadata": {
            "tags": []
      