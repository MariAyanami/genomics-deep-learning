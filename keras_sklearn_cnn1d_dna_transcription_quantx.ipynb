{
  "nbformat": 4,
  "nbformat_minor": 0,
  "metadata": {
    "colab": {
      "name": "keras-sklearn_cnn1d_dna_transcription_quantx.ipynb",
      "version": "0.3.2",
      "provenance": [],
      "collapsed_sections": [],
      "include_colab_link": true
    },
    "kernelspec": {
      "name": "python3",
      "display_name": "Python 3"
    },
    "accelerator": "GPU"
  },
  "cells": [
    {
      "cell_type": "markdown",
      "metadata": {
        "id": "view-in-github",
        "colab_type": "text"
      },
      "source": [
        "<a href=\"https://colab.research.google.com/github/charlesreid1/deep-learning-genomics/blob/master/keras_sklearn_cnn1d_dna_transcription_quantx.ipynb\" target=\"_parent\"><img src=\"https://colab.research.google.com/assets/colab-badge.svg\" alt=\"Open In Colab\"/></a>"
      ]
    },
    {
      "cell_type": "markdown",
      "metadata": {
        "id": "JHAuCkB-Dyvx",
        "colab_type": "text"
      },
      "source": [
        "# Keras and Sklearn for Deep Learning Genomics\n",
        "\n",
        "## Variation 3: Quantile Transform\n",
        "\n",
        "This notebook is a variation on a prior notebook, keras-sklearn_cnn1d_dna_transcription.ipynb ([Jupyter notebook](https://github.com/charlesreid1/deep-learning-genomics/blob/master/keras_cnn1d_dna_transcription.ipynb) or [Google CoLab notebook](https://colab.research.google.com/github/charlesreid1/deep-learning-genomics/blob/master/keras_cnn1d_dna_transcription.ipynb#)). It continues with the example from a prior notebook, namely, the problem of predicting transcription factor binding sites in DNA. This type of neural network operates on 1D sequence data (DNA nucleotides), so we build a 1D convolutional neural network to perform classification of DNA (is this string of nucleotides a transcription factor binding site or not).\n",
        "\n",
        "This notebook variation is to apply a quantile transform to the chromatin accessibility input data, which transforms the data to a space where the distribution of vaues is a uniform distribution between 0 and 1."
      ]
    },
    {
      "cell_type": "markdown",
      "metadata": {
        "id": "bAl5v_fEEz8Y",
        "colab_type": "text"
      },
      "source": [
        "## Import Libraries"
      ]
    },
    {
      "cell_type": "code",
      "metadata": {
        "id": "62b9p_xalIIH",
        "colab_type": "code",
        "outputId": "8f9738c6-c97c-4f61-a90d-32622f59adba",
        "colab": {
          "base_uri": "https://localhost:8080/",
          "height": 34
        }
      },
      "source": [
        "import tensorflow as tf\n",
        "tf.test.gpu_device_name()"
      ],
      "execution_count": 1,
      "outputs": [
        {
          "output_type": "execute_result",
          "data": {
            "text/plain": [
              "'/device:GPU:0'"
            ]
          },
          "metadata": {
            "tags": []
          },
          "execution_count": 1
        }
      ]
    },
    {
      "cell_type": "code",
      "metadata": {
        "id": "4gsmsa71Dv1k",
        "colab_type": "code",
        "colab": {}
      },
      "source": [
        "import os\n",
        "import math\n",
        "import numpy as np\n",
        "import numpy\n",
        "import matplotlib.pyplot as plt\n",
        "import seaborn as sns\n",
        "import pandas\n",
        "import joblib"
      ],
      "execution_count": 0,
      "outputs": []
    },
    {
      "cell_type": "code",
      "metadata": {
        "id": "1fhj_7ZaEPij",
        "colab_type": "code",
        "colab": {}
      },
      "source": [
        "# sklearn\n",
        "\n",
        "from sklearn.pipeline import Pipeline\n",
        "from sklearn.utils.multiclass import unique_labels\n",
        "from sklearn.model_selection import cross_val_score\n",
        "from sklearn.model_selection import StratifiedKFold, StratifiedShuffleSplit\n",
        "from sklearn.preprocessing import StandardScaler\n",
        "from sklearn.preprocessing import QuantileTransformer\n",
        "\n",
        "from sklearn.metrics import roc_curve, auc, roc_auc_score\n",
        "from sklearn.metrics import confusion_matrix"
      ],
      "execution_count": 0,
      "outputs": []
    },
    {
      "cell_type": "code",
      "metadata": {
        "id": "VN-bDjOlEQDB",
        "colab_type": "code",
        "outputId": "13d3143b-4dfb-4a5b-95da-e5f59b050002",
        "colab": {
          "base_uri": "https://localhost:8080/",
          "height": 34
        }
      },
      "source": [
        "from keras.wrappers.scikit_learn import KerasClassifier\n",
        "from keras.models import Sequential, Model\n",
        "from keras.layers import Flatten, Embedding, Dense, Dropout, Input, Concatenate\n",
        "from keras.layers import Conv1D, GlobalAveragePooling1D, MaxPooling1D\n",
        "from keras.layers import LeakyReLU\n",
        "import keras"
      ],
      "execution_count": 4,
      "outputs": [
        {
          "output_type": "stream",
          "text": [
            "Using TensorFlow backend.\n"
          ],
          "name": "stderr"
        }
      ]
    },
    {
      "cell_type": "code",
      "metadata": {
        "id": "aHkVmJYCEZfT",
        "colab_type": "code",
        "colab": {}
      },
      "source": [
        "seed = 1729\n",
        "numpy.random.seed(seed)"
      ],
      "execution_count": 0,
      "outputs": []
    },
    {
      "cell_type": "markdown",
      "metadata": {
        "id": "ZeBqpoaQcPvk",
        "colab_type": "text"
      },
      "source": [
        "## Define Useful Keras Metrics"
      ]
    },
    {
      "cell_type": "code",
      "metadata": {
        "id": "UpthrvB3cST3",
        "colab_type": "code",
        "colab": {}
      },
      "source": [
        "# via https://github.com/keras-team/keras/issues/6507#issuecomment-322857357\n",
        "\n",
        "import keras.backend as K\n",
        "\n",
        "def precision(y_true, y_pred):\n",
        "    # Calculate the precision\n",
        "    # clip ensures we're between 0 and 1\n",
        "    # round ensures we're either 0 or 1\n",
        "    true_positives = K.sum(K.round(K.clip(y_true * y_pred, 0, 1)))\n",
        "    predicted_positives = K.sum(K.round(K.clip(y_pred, 0, 1)))\n",
        "    precision = true_positives / (predicted_positives + K.epsilon())\n",
        "    return precision\n",
        "\n",
        "def recall(y_true, y_pred):\n",
        "    # Calculate the recall\n",
        "    # clip ensures we're between 0 and 1\n",
        "    # round ensures we're either 0 or 1\n",
        "    true_positives = K.sum(K.round(K.clip(y_true * y_pred, 0, 1)))\n",
        "    possible_positives = K.sum(K.round(K.clip(y_true, 0, 1)))\n",
        "    recall = true_positives / (possible_positives + K.epsilon())\n",
        "    return recall\n",
        "\n",
        "def fvalue(y_true, y_pred):\n",
        "    # Calculate the F-value\n",
        "    # If there are no true positives, fix the F score at 0 like sklearn.\n",
        "    if K.sum(K.round(K.clip(y_true, 0, 1))) == 0:\n",
        "        return 0\n",
        "    p = precision(y_true,y_pred)\n",
        "    r = recall(y_true,y_pred)\n",
        "    fvalue = (2 * p * r)/(p + r + K.epsilon())\n",
        "    return fvalue\n"
      ],
      "execution_count": 0,
      "outputs": []
    },
    {
      "cell_type": "markdown",
      "metadata": {
        "id": "Yf8K8vRzEx3q",
        "colab_type": "text"
      },
      "source": [
        "## Load Dataset"
      ]
    },
    {
      "cell_type": "code",
      "metadata": {
        "id": "nxrwVCIBEsNJ",
        "colab_type": "code",
        "outputId": "bd6ae6d7-4772-4a02-c4a9-40352a058ab5",
        "colab": {
          "base_uri": "https://localhost:8080/",
          "height": 121
        }
      },
      "source": [
        "!git clone https://github.com/deepchem/DeepLearningLifeSciences.git"
      ],
      "execution_count": 7,
      "outputs": [
        {
          "output_type": "stream",
          "text": [
            "Cloning into 'DeepLearningLifeSciences'...\n",
            "remote: Enumerating objects: 95, done.\u001b[K\n",
            "remote: Counting objects: 100% (95/95), done.\u001b[K\n",
            "remote: Compressing objects: 100% (74/74), done.\u001b[K\n",
            "remote: Total 95 (delta 24), reused 85 (delta 17), pack-reused 0\u001b[K\n",
            "Unpacking objects: 100% (95/95), done.\n"
          ],
          "name": "stdout"
        }
      ]
    },
    {
      "cell_type": "code",
      "metadata": {
        "id": "sEUJnDsbEtQa",
        "colab_type": "code",
        "colab": {}
      },
      "source": [
        "!ln -fs DeepLearningLifeSciences/Chapter06/{test*,train*,valid*} ."
      ],
      "execution_count": 0,
      "outputs": []
    },
    {
      "cell_type": "code",
      "metadata": {
        "id": "KPileDhWZyu5",
        "colab_type": "code",
        "colab": {}
      },
      "source": [
        "!ln -fs DeepLearningLifeSciences/Chapter06/chromatin.txt"
      ],
      "execution_count": 0,
      "outputs": []
    },
    {
      "cell_type": "markdown",
      "metadata": {
        "id": "Y4svZCHZZ5Wn",
        "colab_type": "text"
      },
      "source": [
        "In contrast to the prior example, which uses the already-provided splits of training, testing, and validation, we will load all of the data all at once into a single X and y pair and use sklearn to split the data into testing and training sets."
      ]
    },
    {
      "cell_type": "code",
      "metadata": {
        "id": "nSLjlrPBSiP_",
        "colab_type": "code",
        "outputId": "da9d689c-0cd5-4a24-e6f9-8a0c20065a37",
        "colab": {
          "base_uri": "https://localhost:8080/",
          "height": 191
        }
      },
      "source": [
        "def load_all_data():\n",
        "    \n",
        "    # load chromatin accessibility data\n",
        "    accessibility = {}\n",
        "    for line in open('chromatin.txt','r'):\n",
        "        fields = line.split()\n",
        "        accessibility[fields[0]] = float(fields[1])\n",
        "    \n",
        "    # load training, validation, and testing sets\n",
        "    for i,label in enumerate(['train','valid','test']):\n",
        "        datadir = \"%s_dataset\"%(label)\n",
        "        base_filename = \"shard-0-%s.joblib\"\n",
        "        X_filename = os.path.join(datadir,base_filename%(\"X\"))\n",
        "        y_filename = os.path.join(datadir,base_filename%(\"y\"))\n",
        "        w_filename = os.path.join(datadir,base_filename%(\"w\"))\n",
        "        ids_filename = os.path.join(datadir,base_filename%(\"ids\"))\n",
        "        \n",
        "        this_X = joblib.load(X_filename)\n",
        "        this_y = joblib.load(y_filename)\n",
        "        this_w = joblib.load(w_filename)\n",
        "        this_ids = joblib.load(ids_filename)\n",
        "        this_chromatin = np.array([accessibility[k] for k in this_ids])\n",
        "        \n",
        "        # add X and chromatin data\n",
        "        if i>0:\n",
        "            X = np.concatenate([X,this_X])\n",
        "            chromatin = np.concatenate([chromatin,this_chromatin])\n",
        "            y = np.concatenate([y,this_y])\n",
        "            w = np.concatenate([w,this_w])\n",
        "            ids = np.concatenate([ids,this_ids])\n",
        "        else:\n",
        "            X = this_X\n",
        "            chromatin = this_chromatin\n",
        "            y = this_y\n",
        "            w = this_w\n",
        "            ids = this_ids\n",
        "    \n",
        "    # Don't transform chromatin data here\n",
        "    # wait until we have our training/testing split\n",
        "    \n",
        "    return [X,chromatin], y, w, ids\n",
        "\n",
        "[X,chromatin], y, w, ids = load_all_data()\n",
        "\n",
        "print(\"Shape of all data:\\n\")\n",
        "\n",
        "print(\"X shape:\")\n",
        "print(np.shape(X))\n",
        "\n",
        "print(\"chromatin shape:\")\n",
        "print(np.shape(chromatin))\n",
        "\n",
        "print(\"y shape:\")\n",
        "print(np.shape(y))\n",
        "\n",
        "print(\"w shape:\")\n",
        "print(np.shape(w))"
      ],
      "execution_count": 10,
      "outputs": [
        {
          "output_type": "stream",
          "text": [
            "Shape of all data:\n",
            "\n",
            "X shape:\n",
            "(345271, 101, 4)\n",
            "chromatin shape:\n",
            "(345271,)\n",
            "y shape:\n",
            "(345271, 1)\n",
            "w shape:\n",
            "(345271, 1)\n"
          ],
          "name": "stdout"
        }
      ]
    },
    {
      "cell_type": "markdown",
      "metadata": {
        "id": "0iNXUOqHUSXN",
        "colab_type": "text"
      },
      "source": [
        "## Stratified K-Fold Validation\n",
        "\n",
        "Now that we've loaded every data point into a single giant input list, we use scikit-learn to cut the data into training, testing, and validation parts.\n",
        "\n",
        "We use the \"normal\" kernel initializer, which initializes perceptron weights using normally-distributed random numbers."
      ]
    },
    {
      "cell_type": "code",
      "metadata": {
        "id": "8eI1zuvCaybP",
        "colab_type": "code",
        "colab": {}
      },
      "source": [
        "def create_chromatin():\n",
        "    \"\"\"Create and return a 1D convolutional neural net model.\n",
        "    This model incorporates chromatin accessibility data.\n",
        "    \"\"\"\n",
        "    # DNA sequence alphabet size\n",
        "    n_features = 4\n",
        "    seq_length = 101\n",
        "    convolution_window = 10\n",
        "    n_filters = 16\n",
        "    \n",
        "    # ----------------------------\n",
        "    # Sequence branch of network\n",
        "    # (1D DNA sequence)\n",
        "    \n",
        "    # Input\n",
        "    seq_in = Input(shape=(seq_length,n_features))\n",
        "    \n",
        "    # Fencepost pattern\n",
        "    seq = seq_in\n",
        "    \n",
        "    # Convolutional layers\n",
        "    for i in range(3):\n",
        "        seq = Conv1D(n_filters, convolution_window,\n",
        "                    activation='relu',\n",
        "                     padding='same',\n",
        "                     kernel_initializer='normal')(seq)\n",
        "        seq = Dropout(0.5)(seq)\n",
        "    \n",
        "    # Flatten to 1D\n",
        "    seq = Flatten()(seq)\n",
        "    \n",
        "    # Assemble the sequential branch of network\n",
        "    seq = keras.Model(inputs=seq_in, outputs=seq)\n",
        "    \n",
        "    # ---------------------------\n",
        "    # Chromatin branch of network\n",
        "    \n",
        "    # Input\n",
        "    chrom_input = Input(shape=(1,))\n",
        "    \n",
        "    # ---------------------------\n",
        "    # Combine networks\n",
        "    fin = keras.layers.concatenate([seq.output, chrom_input])\n",
        "    fin = Dense(1,\n",
        "                kernel_initializer='normal',\n",
        "                activation='sigmoid')(fin)\n",
        "    chrom_model = keras.Model(inputs=[seq.input,chrom_input], outputs=fin)\n",
        "    \n",
        "    # Compile model\n",
        "    chrom_model.compile(loss='binary_crossentropy',\n",
        "                       optimizer='adam',\n",
        "                       sample_weight_mode=None,\n",
        "                       metrics=['accuracy',\n",
        "                               precision,\n",
        "                               recall,\n",
        "                               fvalue])\n",
        "    \n",
        "    return chrom_model"
      ],
      "execution_count": 0,
      "outputs": []
    },
    {
      "cell_type": "markdown",
      "metadata": {
        "id": "KFM0RGTBtjse",
        "colab_type": "text"
      },
      "source": [
        "## Performing Cross Validation Manually\n",
        "\n",
        "To perform cross validation and incorporate sample weights for imbalanced classes (many more negative examples than positive examples), we can't use weights with sklearn directly, so we do cross-validation manually.\n",
        "\n",
        "The [StratifiedKFold](https://sklearn.org/modules/generated/sklearn.model_selection.StratifiedKFold.html#sklearn.model_selection.StratifiedKFold) object can give us a set of k testing/training sets by using the `split()` method, which returns an iterator with the training/testing indices. This allows us to assemble all inputs (X and y, weights, labels, chromatin accessibility, etc.).\n",
        "\n",
        "The [StratifiedShuffleSplit](https://scikit-learn.org/stable/modules/generated/sklearn.model_selection.StratifiedShuffleSplit.html#sklearn.model_selection.StratifiedShuffleSplit) object also provides a split method."
      ]
    },
    {
      "cell_type": "code",
      "metadata": {
        "id": "LJ97tZwfk3MB",
        "colab_type": "code",
        "outputId": "dc008e09-fec6-4463-d717-e12b3a625a79",
        "colab": {
          "base_uri": "https://localhost:8080/",
          "height": 298
        }
      },
      "source": [
        "n_epochs = 100\n",
        "n_fold = 3\n",
        "include_chromatin_data = True\n",
        "\n",
        "# we can use either of these,\n",
        "# but we'll opt for shuffle\n",
        "\n",
        "kfold = StratifiedKFold(n_splits=n_fold, \n",
        "                        shuffle=True, \n",
        "                        random_state=seed)\n",
        "\n",
        "shuffle = StratifiedShuffleSplit(n_splits=n_fold,\n",
        "                                 train_size = 0.7,\n",
        "                                 test_size = 0.3,\n",
        "                                 random_state = seed)\n",
        "transformers = []\n",
        "models = []\n",
        "fithists = []\n",
        "\n",
        "for ifold, (train_ix, test_ix) in enumerate(shuffle.split(X,y)):\n",
        "    \n",
        "    X_train, X_test = X[train_ix], X[test_ix]\n",
        "    y_train, y_test = y[train_ix], y[test_ix]\n",
        "    w_train, w_test = np.squeeze(w[train_ix]), np.squeeze(w[test_ix])\n",
        "    chrom_train, chrom_test = np.squeeze(chromatin[train_ix]), np.squeeze(chromatin[test_ix])\n",
        "    \n",
        "    ########################################\n",
        "    # Perform nonlinear transform\n",
        "    quantx = QuantileTransformer(random_state=seed)\n",
        "    chromx_train = quantx.fit_transform(chrom_train.reshape(-1,1))\n",
        "    chromx_test = quantx.transform(chrom_test.reshape(-1,1))\n",
        "    ########################################\n",
        "    \n",
        "    print(\"Training on fold %d...\"%(ifold+1))\n",
        "    \n",
        "    # if we use the chromatin model, \n",
        "    # we need to provide the network\n",
        "    # with a *list* of inputs\n",
        "    \n",
        "    if include_chromatin_data:\n",
        "        model = create_chromatin()\n",
        "        hist = model.fit([X_train,chromx_train], y_train,\n",
        "                         sample_weight = w_train,\n",
        "                         batch_size = 1000,\n",
        "                         epochs = n_epochs,\n",
        "                         verbose = 0,\n",
        "                         validation_data=([X_test,chromx_test],y_test,w_test))\n",
        "    else:\n",
        "        model = create_baseline()\n",
        "        hist = model.fit(X_train, y_train,\n",
        "                         sample_weight = w_train,\n",
        "                         batch_size = 1000,\n",
        "                         epochs = n_epochs,\n",
        "                         verbose = 0,\n",
        "                         validation_data=(X_test,y_test,w_test))\n",
        "\n",
        "    transformers.append(quantx)\n",
        "    models.append(model)\n",
        "    fithists.append(hist)\n",
        "    \n",
        "    print(\"Done\")\n",
        "    "
      ],
      "execution_count": 12,
      "outputs": [
        {
          "output_type": "stream",
          "text": [
            "Training on fold 1...\n",
            "WARNING:tensorflow:From /usr/local/lib/python3.6/dist-packages/tensorflow/python/framework/op_def_library.py:263: colocate_with (from tensorflow.python.framework.ops) is deprecated and will be removed in a future version.\n",
            "Instructions for updating:\n",
            "Colocations handled automatically by placer.\n",
            "WARNING:tensorflow:From /usr/local/lib/python3.6/dist-packages/keras/backend/tensorflow_backend.py:3445: calling dropout (from tensorflow.python.ops.nn_ops) with keep_prob is deprecated and will be removed in a future version.\n",
            "Instructions for updating:\n",
            "Please use `rate` instead of `keep_prob`. Rate should be set to `rate = 1 - keep_prob`.\n",
            "WARNING:tensorflow:From /usr/local/lib/python3.6/dist-packages/tensorflow/python/ops/math_ops.py:3066: to_int32 (from tensorflow.python.ops.math_ops) is deprecated and will be removed in a future version.\n",
            "Instructions for updating:\n",
            "Use tf.cast instead.\n",
            "Done\n",
            "Training on fold 2...\n",
            "Done\n",
            "Training on fold 3...\n",
            "Done\n"
          ],
          "name": "stdout"
        }
      ]
    },
    {
      "cell_type": "code",
      "metadata": {
        "id": "-pVERzb-gr4q",
        "colab_type": "code",
        "outputId": "698a0c7a-70a1-4171-b80e-8f5fbcb6f470",
        "colab": {
          "base_uri": "https://localhost:8080/",
          "height": 312
        }
      },
      "source": [
        "print(\"Model results (validation):\")\n",
        "print(\"\\n\")\n",
        "print(\"Loss (Mean):      %0.4f\"%(np.mean([h.history['val_loss'] for h in fithists])))\n",
        "print(\"Loss (Std):       %0.4f\"%(np.std([h.history['val_loss'] for h in fithists])))\n",
        "print(\"\\n\")\n",
        "print(\"Accuracy (Mean):  %0.2f%%\"%(100*np.mean([h.history['val_acc'] for h in fithists])))\n",
        "print(\"Accuracy (Std):   %0.2f%%\"%(100*np.std([h.history['val_acc'] for h in fithists])))\n",
        "print(\"\\n\")\n",
        "print(\"Precision (Mean): %0.2f%%\"%(100*np.mean([h.history['val_precision'] for h in fithists])))\n",
        "print(\"Precision (Std):  %0.2f%%\"%(100*np.std([h.history['val_precision'] for h in fithists])))\n",
        "print(\"\\n\")\n",
        "print(\"Recall (Mean):    %0.2f%%\"%(100*np.mean([h.history['val_recall'] for h in fithists])))\n",
        "print(\"Recall (Std):     %0.2f%%\"%(100*np.std([h.history['val_recall'] for h in fithists])))"
      ],
      "execution_count": 13,
      "outputs": [
        {
          "output_type": "stream",
          "text": [
            "Model results (validation):\n",
            "\n",
            "\n",
            "Loss (Mean):      0.6425\n",
            "Loss (Std):       0.0353\n",
            "\n",
            "\n",
            "Accuracy (Mean):  41.44%\n",
            "Accuracy (Std):   7.23%\n",
            "\n",
            "\n",
            "Precision (Mean): 0.65%\n",
            "Precision (Std):  0.07%\n",
            "\n",
            "\n",
            "Recall (Mean):    88.83%\n",
            "Recall (Std):     3.98%\n"
          ],
          "name": "stdout"
        }
      ]
    },
    {
      "cell_type": "code",
      "metadata": {
        "id": "2cqF7SyFb_v7",
        "colab_type": "code",
        "colab": {}
      },
      "source": [
        "def loss_rate_plot(hist, ax, label='',legend=False):\n",
        "    ax.plot(hist.history['loss'])\n",
        "    ax.plot(hist.history['val_loss'])\n",
        "    if label=='':\n",
        "        ax.set_title(\"Loss Rate\", size=14)\n",
        "    else:\n",
        "        ax.set_title(\"Loss Rate (%s)\"%(label), size=14)\n",
        "    ax.set_ylabel('Loss')\n",
        "    ax.set_xlabel('Training interations')\n",
        "    if legend:\n",
        "        ax.legend(['Training', 'Validation'], loc='upper right')\n",
        "\n",
        "def accuracy_rate_plot(hist,ax,label='',legend=False):\n",
        "    ax.plot([j*100 for j in hist.history['acc']])\n",
        "    ax.plot([j*100 for j in hist.history['val_acc']])\n",
        "    if label=='':\n",
        "        ax.set_title(\"Accuracy\", size=14)\n",
        "    else:\n",
        "        ax.set_title(\"Accuracy (%s)\"%(label), size=14)\n",
        "    ax.set_ylabel('Accuracy %')\n",
        "    ax.set_xlabel('Training iterations')\n",
        "    if legend:\n",
        "        ax.legend(['Training','Validation'], loc='lower right')\n",
        "\n",
        "def precision_rate_plot(hist,ax,label='',legend=False):\n",
        "    ax.plot([j*100 for j in hist.history['precision']])\n",
        "    ax.plot([j*100 for j in hist.history['val_precision']])\n",
        "    if label=='':\n",
        "        ax.set_title(\"Precision\", size=14)\n",
        "    else:\n",
        "        ax.set_title(\"Precision (%s)\"%(label), size=14)\n",
        "    ax.set_ylabel('Precision %')\n",
        "    ax.set_xlabel('Training iterations')\n",
        "    if legend:\n",
        "        ax.legend(['Training','Validation'], loc='lower right')\n",
        "\n",
        "def recall_rate_plot(hist,ax,label='',legend=False):\n",
        "    ax.plot([j*100 for j in hist.history['recall']])\n",
        "    ax.plot([j*100 for j in hist.history['val_recall']])\n",
        "    if label=='':\n",
        "        ax.set_title(\"Recall\", size=14)\n",
        "    else:\n",
        "        ax.set_title(\"Recall (%s)\"%(label), size=14)\n",
        "    ax.set_ylabel('Recall %')\n",
        "    ax.set_xlabel('Training iterations')\n",
        "    if legend:\n",
        "        ax.legend(['Training','Validation'], loc='lower right')"
      ],
      "execution_count": 0,
      "outputs": []
    },
    {
      "cell_type": "code",
      "metadata": {
        "id": "EPdyOVmckA1y",
        "colab_type": "code",
        "outputId": "c5a45166-b214-41cb-f501-f5131feec600",
        "colab": {
          "base_uri": "https://localhost:8080/",
          "height": 1289
        }
      },
      "source": [
        "for i in range(shuffle.get_n_splits()):\n",
        "    \n",
        "    fig, [[ax1,ax2],[ax3,ax4]] = plt.subplots(2,2, figsize=(8,6))\n",
        "\n",
        "    loss_rate_plot(fithists[i],      ax1, legend=True, label=\"Fold %d\"%(i+1))\n",
        "    accuracy_rate_plot(fithists[i],  ax2, label=\"Fold %d\"%(i+1))\n",
        "    precision_rate_plot(fithists[i], ax3, label=\"Fold %d\"%(i+1))\n",
        "    recall_rate_plot(fithists[i],    ax4, label=\"Fold %d\"%(i+1))\n",
        "\n",
        "    fig.tight_layout()\n",
        "    \n",
        "plt.show()"
      ],
      "execution_count": 15,
      "outputs": [
        {
          "output_type": "display_data",
          "data": {
            "image/png": "iVBORw0KGgoAAAANSUhEUgAAAjgAAAGoCAYAAABL+58oAAAABHNCSVQICAgIfAhkiAAAAAlwSFlz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