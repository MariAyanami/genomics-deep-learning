{
  "nbformat": 4,
  "nbformat_minor": 0,
  "metadata": {
    "colab": {
      "name": "keras-sklearn_cnn1d_dna_transcription_quantx.ipynb",
      "version": "0.3.2",
      "provenance": [],
      "collapsed_sections": [],
      "include_colab_link": true
    },
    "kernelspec": {
      "name": "python3",
      "display_name": "Python 3"
    },
    "accelerator": "GPU"
  },
  "cells": [
    {
      "cell_type": "markdown",
      "metadata": {
        "id": "view-in-github",
        "colab_type": "text"
      },
      "source": [
        "<a href=\"https://colab.research.google.com/github/charlesreid1/deep-learning-genomics/blob/master/keras_sklearn_cnn1d_dna_transcription_quantx.ipynb\" target=\"_parent\"><img src=\"https://colab.research.google.com/assets/colab-badge.svg\" alt=\"Open In Colab\"/></a>"
      ]
    },
    {
      "cell_type": "markdown",
      "metadata": {
        "id": "JHAuCkB-Dyvx",
        "colab_type": "text"
      },
      "source": [
        "# Keras and Sklearn for Deep Learning Genomics\n",
        "\n",
        "## Variation 3: Quantile Transform\n",
        "\n",
        "This notebook is a variation on a prior notebook, keras-sklearn_cnn1d_dna_transcription.ipynb ([Jupyter notebook](https://github.com/charlesreid1/deep-learning-genomics/blob/master/keras_cnn1d_dna_transcription.ipynb) or [Google CoLab notebook](https://colab.research.google.com/github/charlesreid1/deep-learning-genomics/blob/master/keras_cnn1d_dna_transcription.ipynb#)). It continues with the example from a prior notebook, namely, the problem of predicting transcription factor binding sites in DNA. This type of neural network operates on 1D sequence data (DNA nucleotides), so we build a 1D convolutional neural network to perform classification of DNA (is this string of nucleotides a transcription factor binding site or not).\n",
        "\n",
        "This notebook variation is to apply a quantile transform to the chromatin accessibility input data, which transforms the data to a space where the distribution of vaues is a uniform distribution between 0 and 1."
      ]
    },
    {
      "cell_type": "markdown",
      "metadata": {
        "id": "bAl5v_fEEz8Y",
        "colab_type": "text"
      },
      "source": [
        "## Import Libraries"
      ]
    },
    {
      "cell_type": "code",
      "metadata": {
        "id": "62b9p_xalIIH",
        "colab_type": "code",
        "outputId": "8f9738c6-c97c-4f61-a90d-32622f59adba",
        "colab": {
          "base_uri": "https://localhost:8080/",
          "height": 34
        }
      },
      "source": [
        "import tensorflow as tf\n",
        "tf.test.gpu_device_name()"
      ],
      "execution_count": 1,
      "outputs": [
        {
          "output_type": "execute_result",
          "data": {
            "text/plain": [
              "'/device:GPU:0'"
            ]
          },
          "metadata": {
            "tags": []
          },
          "execution_count": 1
        }
      ]
    },
    {
      "cell_type": "code",
      "metadata": {
        "id": "4gsmsa71Dv1k",
        "colab_type": "code",
        "colab": {}
      },
      "source": [
        "import os\n",
        "import math\n",
        "import numpy as np\n",
        "import numpy\n",
        "import matplotlib.pyplot as plt\n",
        "import seaborn as sns\n",
        "import pandas\n",
        "import joblib"
      ],
      "execution_count": 0,
      "outputs": []
    },
    {
      "cell_type": "code",
      "metadata": {
        "id": "1fhj_7ZaEPij",
        "colab_type": "code",
        "colab": {}
      },
      "source": [
        "# sklearn\n",
        "\n",
        "from sklearn.pipeline import Pipeline\n",
        "from sklearn.utils.multiclass import unique_labels\n",
        "from sklearn.model_selection import cross_val_score\n",
        "from sklearn.model_selection import StratifiedKFold, StratifiedShuffleSplit\n",
        "from sklearn.preprocessing import StandardScaler\n",
        "from sklearn.preprocessing import QuantileTransformer\n",
        "\n",
        "from sklearn.metrics import roc_curve, auc, roc_auc_score\n",
        "from sklearn.metrics import confusion_matrix"
      ],
      "execution_count": 0,
      "outputs": []
    },
    {
      "cell_type": "code",
      "metadata": {
        "id": "VN-bDjOlEQDB",
        "colab_type": "code",
        "outputId": "13d3143b-4dfb-4a5b-95da-e5f59b050002",
        "colab": {
          "base_uri": "https://localhost:8080/",
          "height": 34
        }
      },
      "source": [
        "from keras.wrappers.scikit_learn import KerasClassifier\n",
        "from keras.models import Sequential, Model\n",
        "from keras.layers import Flatten, Embedding, Dense, Dropout, Input, Concatenate\n",
        "from keras.layers import Conv1D, GlobalAveragePooling1D, MaxPooling1D\n",
        "from keras.layers import LeakyReLU\n",
        "import keras"
      ],
      "execution_count": 4,
      "outputs": [
        {
          "output_type": "stream",
          "text": [
            "Using TensorFlow backend.\n"
          ],
          "name": "stderr"
        }
      ]
    },
    {
      "cell_type": "code",
      "metadata": {
        "id": "aHkVmJYCEZfT",
        "colab_type": "code",
        "colab": {}
      },
      "source": [
        "seed = 1729\n",
        "numpy.random.seed(seed)"
      ],
      "execution_count": 0,
      "outputs": []
    },
    {
      "cell_type": "markdown",
      "metadata": {
        "id": "ZeBqpoaQcPvk",
        "colab_type": "text"
      },
      "source": [
        "## Define Useful Keras Metrics"
      ]
    },
    {
      "cell_type": "code",
      "metadata": {
        "id": "UpthrvB3cST3",
        "colab_type": "code",
        "colab": {}
      },
      "source": [
        "# via https://github.com/keras-team/keras/issues/6507#issuecomment-322857357\n",
        "\n",
        "import keras.backend as K\n",
        "\n",
        "def precision(y_true, y_pred):\n",
        "    # Calculate the precision\n",
        "    # clip ensures we're between 0 and 1\n",
        "    # round ensures we're either 0 or 1\n",
        "    true_positives = K.sum(K.round(K.clip(y_true * y_pred, 0, 1)))\n",
        "    predicted_positives = K.sum(K.round(K.clip(y_pred, 0, 1)))\n",
        "    precision = true_positives / (predicted_positives + K.epsilon())\n",
        "    return precision\n",
        "\n",
        "def recall(y_true, y_pred):\n",
        "    # Calculate the recall\n",
        "    # clip ensures we're between 0 and 1\n",
        "    # round ensures we're either 0 or 1\n",
        "    true_positives = K.sum(K.round(K.clip(y_true * y_pred, 0, 1)))\n",
        "    possible_positives = K.sum(K.round(K.clip(y_true, 0, 1)))\n",
        "    recall = true_positives / (possible_positives + K.epsilon())\n",
        "    return recall\n",
        "\n",
        "def fvalue(y_true, y_pred):\n",
        "    # Calculate the F-value\n",
        "    # If there are no true positives, fix the F score at 0 like sklearn.\n",
        "    if K.sum(K.round(K.clip(y_true, 0, 1))) == 0:\n",
        "        return 0\n",
        "    p = precision(y_true,y_pred)\n",
        "    r = recall(y_true,y_pred)\n",
        "    fvalue = (2 * p * r)/(p + r + K.epsilon())\n",
        "    return fvalue\n"
      ],
      "execution_count": 0,
      "outputs": []
    },
    {
      "cell_type": "markdown",
      "metadata": {
        "id": "Yf8K8vRzEx3q",
        "colab_type": "text"
      },
      "source": [
        "## Load Dataset"
      ]
    },
    {
      "cell_type": "code",
      "metadata": {
        "id": "nxrwVCIBEsNJ",
        "colab_type": "code",
        "outputId": "bd6ae6d7-4772-4a02-c4a9-40352a058ab5",
        "colab": {
          "base_uri": "https://localhost:8080/",
          "height": 121
        }
      },
      "source": [
        "!git clone https://github.com/deepchem/DeepLearningLifeSciences.git"
      ],
      "execution_count": 7,
      "outputs": [
        {
          "output_type": "stream",
          "text": [
            "Cloning into 'DeepLearningLifeSciences'...\n",
            "remote: Enumerating objects: 95, done.\u001b[K\n",
            "remote: Counting objects: 100% (95/95), done.\u001b[K\n",
            "remote: Compressing objects: 100% (74/74), done.\u001b[K\n",
            "remote: Total 95 (delta 24), reused 85 (delta 17), pack-reused 0\u001b[K\n",
            "Unpacking objects: 100% (95/95), done.\n"
          ],
          "name": "stdout"
        }
      ]
    },
    {
      "cell_type": "code",
      "metadata": {
        "id": "sEUJnDsbEtQa",
        "colab_type": "code",
        "colab": {}
      },
      "source": [
        "!ln -fs DeepLearningLifeSciences/Chapter06/{test*,train*,valid*} ."
      ],
      "execution_count": 0,
      "outputs": []
    },
    {
      "cell_type": "code",
      "metadata": {
        "id": "KPileDhWZyu5",
        "colab_type": "code",
        "colab": {}
      },
      "source": [
        "!ln -fs DeepLearningLifeSciences/Chapter06/chromatin.txt"
      ],
      "execution_count": 0,
      "outputs": []
    },
    {
      "cell_type": "markdown",
      "metadata": {
        "id": "Y4svZCHZZ5Wn",
        "colab_type": "text"
      },
      "source": [
        "In contrast to the prior example, which uses the already-provided splits of training, testing, and validation, we will load all of the data all at once into a single X and y pair and use sklearn to split the data into testing and training sets."
      ]
    },
    {
      "cell_type": "code",
      "metadata": {
        "id": "nSLjlrPBSiP_",
        "colab_type": "code",
        "outputId": "da9d689c-0cd5-4a24-e6f9-8a0c20065a37",
        "colab": {
          "base_uri": "https://localhost:8080/",
          "height": 191
        }
      },
      "source": [
        "def load_all_data():\n",
        "    \n",
        "    # load chromatin accessibility data\n",
        "    accessibility = {}\n",
        "    for line in open('chromatin.txt','r'):\n",
        "        fields = line.split()\n",
        "        accessibility[fields[0]] = float(fields[1])\n",
        "    \n",
        "    # load training, validation, and testing sets\n",
        "    for i,label in enumerate(['train','valid','test']):\n",
        "        datadir = \"%s_dataset\"%(label)\n",
        "        base_filename = \"shard-0-%s.joblib\"\n",
        "        X_filename = os.path.join(datadir,base_filename%(\"X\"))\n",
        "        y_filename = os.path.join(datadir,base_filename%(\"y\"))\n",
        "        w_filename = os.path.join(datadir,base_filename%(\"w\"))\n",
        "        ids_filename = os.path.join(datadir,base_filename%(\"ids\"))\n",
        "        \n",
        "        this_X = joblib.load(X_filename)\n",
        "        this_y = joblib.load(y_filename)\n",
        "        this_w = joblib.load(w_filename)\n",
        "        this_ids = joblib.load(ids_filename)\n",
        "        this_chromatin = np.array([accessibility[k] for k in this_ids])\n",
        "        \n",
        "        # add X and chromatin data\n",
        "        if i>0:\n",
        "            X = np.concatenate([X,this_X])\n",
        "            chromatin = np.concatenate([chromatin,this_chromatin])\n",
        "            y = np.concatenate([y,this_y])\n",
        "            w = np.concatenate([w,this_w])\n",
        "            ids = np.concatenate([ids,this_ids])\n",
        "        else:\n",
        "            X = this_X\n",
        "            chromatin = this_chromatin\n",
        "            y = this_y\n",
        "            w = this_w\n",
        "            ids = this_ids\n",
        "    \n",
        "    # Don't transform chromatin data here\n",
        "    # wait until we have our training/testing split\n",
        "    \n",
        "    return [X,chromatin], y, w, ids\n",
        "\n",
        "[X,chromatin], y, w, ids = load_all_data()\n",
        "\n",
        "print(\"Shape of all data:\\n\")\n",
        "\n",
        "print(\"X shape:\")\n",
        "print(np.shape(X))\n",
        "\n",
        "print(\"chromatin shape:\")\n",
        "print(np.shape(chromatin))\n",
        "\n",
        "print(\"y shape:\")\n",
        "print(np.shape(y))\n",
        "\n",
        "print(\"w shape:\")\n",
        "print(np.shape(w))"
      ],
      "execution_count": 10,
      "outputs": [
        {
          "output_type": "stream",
          "text": [
            "Shape of all data:\n",
            "\n",
            "X shape:\n",
            "(345271, 101, 4)\n",
            "chromatin shape:\n",
            "(345271,)\n",
            "y shape:\n",
            "(345271, 1)\n",
            "w shape:\n",
            "(345271, 1)\n"
          ],
          "name": "stdout"
        }
      ]
    },
    {
      "cell_type": "markdown",
      "metadata": {
        "id": "0iNXUOqHUSXN",
        "colab_type": "text"
      },
      "source": [
        "## Stratified K-Fold Validation\n",
        "\n",
        "Now that we've loaded every data point into a single giant input list, we use scikit-learn to cut the data into training, testing, and validation parts.\n",
        "\n",
        "We use the \"normal\" kernel initializer, which initializes perceptron weights using normally-distributed random numbers."
      ]
    },
    {
      "cell_type": "code",
      "metadata": {
        "id": "8eI1zuvCaybP",
        "colab_type": "code",
        "colab": {}
      },
      "source": [
        "def create_chromatin():\n",
        "    \"\"\"Create and return a 1D convolutional neural net model.\n",
        "    This model incorporates chromatin accessibility data.\n",
        "    \"\"\"\n",
        "    # DNA sequence alphabet size\n",
        "    n_features = 4\n",
        "    seq_length = 101\n",
        "    convolution_window = 10\n",
        "    n_filters = 16\n",
        "    \n",
        "    # ----------------------------\n",
        "    # Sequence branch of network\n",
        "    # (1D DNA sequence)\n",
        "    \n",
        "    # Input\n",
        "    seq_in = Input(shape=(seq_length,n_features))\n",
        "    \n",
        "    # Fencepost pattern\n",
        "    seq = seq_in\n",
        "    \n",
        "    # Convolutional layers\n",
        "    for i in range(3):\n",
        "        seq = Conv1D(n_filters, convolution_window,\n",
        "                    activation='relu',\n",
        "                     padding='same',\n",
        "                     kernel_initializer='normal')(seq)\n",
        "        seq = Dropout(0.5)(seq)\n",
        "    \n",
        "    # Flatten to 1D\n",
        "    seq = Flatten()(seq)\n",
        "    \n",
        "    # Assemble the sequential branch of network\n",
        "    seq = keras.Model(inputs=seq_in, outputs=seq)\n",
        "    \n",
        "    # ---------------------------\n",
        "    # Chromatin branch of network\n",
        "    \n",
        "    # Input\n",
        "    chrom_input = Input(shape=(1,))\n",
        "    \n",
        "    # ---------------------------\n",
        "    # Combine networks\n",
        "    fin = keras.layers.concatenate([seq.output, chrom_input])\n",
        "    fin = Dense(1,\n",
        "                kernel_initializer='normal',\n",
        "                activation='sigmoid')(fin)\n",
        "    chrom_model = keras.Model(inputs=[seq.input,chrom_input], outputs=fin)\n",
        "    \n",
        "    # Compile model\n",
        "    chrom_model.compile(loss='binary_crossentropy',\n",
        "                       optimizer='adam',\n",
        "                       sample_weight_mode=None,\n",
        "                       metrics=['accuracy',\n",
        "                               precision,\n",
        "                               recall,\n",
        "                               fvalue])\n",
        "    \n",
        "    return chrom_model"
      ],
      "execution_count": 0,
      "outputs": []
    },
    {
      "cell_type": "markdown",
      "metadata": {
        "id": "KFM0RGTBtjse",
        "colab_type": "text"
      },
      "source": [
        "## Performing Cross Validation Manually\n",
        "\n",
        "To perform cross validation and incorporate sample weights for imbalanced classes (many more negative examples than positive examples), we can't use weights with sklearn directly, so we do cross-validation manually.\n",
        "\n",
        "The [StratifiedKFold](https://sklearn.org/modules/generated/sklearn.model_selection.StratifiedKFold.html#sklearn.model_selection.StratifiedKFold) object can give us a set of k testing/training sets by using the `split()` method, which returns an iterator with the training/testing indices. This allows us to assemble all inputs (X and y, weights, labels, chromatin accessibility, etc.).\n",
        "\n",
        "The [StratifiedShuffleSplit](https://scikit-learn.org/stable/modules/generated/sklearn.model_selection.StratifiedShuffleSplit.html#sklearn.model_selection.StratifiedShuffleSplit) object also provides a split method."
      ]
    },
    {
      "cell_type": "code",
      "metadata": {
        "id": "LJ97tZwfk3MB",
        "colab_type": "code",
        "outputId": "dc008e09-fec6-4463-d717-e12b3a625a79",
        "colab": {
          "base_uri": "https://localhost:8080/",
          "height": 298
        }
      },
      "source": [
        "n_epochs = 100\n",
        "n_fold = 3\n",
        "include_chromatin_data = True\n",
        "\n",
        "# we can use either of these,\n",
        "# but we'll opt for shuffle\n",
        "\n",
        "kfold = StratifiedKFold(n_splits=n_fold, \n",
        "                        shuffle=True, \n",
        "                        random_state=seed)\n",
        "\n",
        "shuffle = StratifiedShuffleSplit(n_splits=n_fold,\n",
        "                                 train_size = 0.7,\n",
        "                                 test_size = 0.3,\n",
        "                                 random_state = seed)\n",
        "transformers = []\n",
        "models = []\n",
        "fithists = []\n",
        "\n",
        "for ifold, (train_ix, test_ix) in enumerate(shuffle.split(X,y)):\n",
        "    \n",
        "    X_train, X_test = X[train_ix], X[test_ix]\n",
        "    y_train, y_test = y[train_ix], y[test_ix]\n",
        "    w_train, w_test = np.squeeze(w[train_ix]), np.squeeze(w[test_ix])\n",
        "    chrom_train, chrom_test = np.squeeze(chromatin[train_ix]), np.squeeze(chromatin[test_ix])\n",
        "    \n",
        "    ########################################\n",
        "    # Perform nonlinear transform\n",
        "    quantx = QuantileTransformer(random_state=seed)\n",
        "    chromx_train = quantx.fit_transform(chrom_train.reshape(-1,1))\n",
        "    chromx_test = quantx.transform(chrom_test.reshape(-1,1))\n",
        "    ########################################\n",
        "    \n",
        "    print(\"Training on fold %d...\"%(ifold+1))\n",
        "    \n",
        "    # if we use the chromatin model, \n",
        "    # we need to provide the network\n",
        "    # with a *list* of inputs\n",
        "    \n",
        "    if include_chromatin_data:\n",
        "        model = create_chromatin()\n",
        "        hist = model.fit([X_train,chromx_train], y_train,\n",
        "                         sample_weight = w_train,\n",
        "                         batch_size = 1000,\n",
        "                         epochs = n_epochs,\n",
        "                         verbose = 0,\n",
        "                         validation_data=([X_test,chromx_test],y_test,w_test))\n",
        "    else:\n",
        "        model = create_baseline()\n",
        "        hist = model.fit(X_train, y_train,\n",
        "                         sample_weight = w_train,\n",
        "                         batch_size = 1000,\n",
        "                         epochs = n_epochs,\n",
        "                         verbose = 0,\n",
        "                         validation_data=(X_test,y_test,w_test))\n",
        "\n",
        "    transformers.append(quantx)\n",
        "    models.append(model)\n",
        "    fithists.append(hist)\n",
        "    \n",
        "    print(\"Done\")\n",
        "    "
      ],
      "execution_count": 12,
      "outputs": [
        {
          "output_type": "stream",
          "text": [
            "Training on fold 1...\n",
            "WARNING:tensorflow:From /usr/local/lib/python3.6/dist-packages/tensorflow/python/framework/op_def_library.py:263: colocate_with (from tensorflow.python.framework.ops) is deprecated and will be removed in a future version.\n",
            "Instructions for updating:\n",
            "Colocations handled automatically by placer.\n",
            "WARNING:tensorflow:From /usr/local/lib/python3.6/dist-packages/keras/backend/tensorflow_backend.py:3445: calling dropout (from tensorflow.python.ops.nn_ops) with keep_prob is deprecated and will be removed in a future version.\n",
            "Instructions for updating:\n",
            "Please use `rate` instead of `keep_prob`. Rate should be set to `rate = 1 - keep_prob`.\n",
            "WARNING:tensorflow:From /usr/local/lib/python3.6/dist-packages/tensorflow/python/ops/math_ops.py:3066: to_int32 (from tensorflow.python.ops.math_ops) is deprecated and will be removed in a future version.\n",
            "Instructions for updating:\n",
            "Use tf.cast instead.\n",
            "Done\n",
            "Training on fold 2...\n",
            "Done\n",
            "Training on fold 3...\n",
            "Done\n"
          ],
          "name": "stdout"
        }
      ]
    },
    {
      "cell_type": "code",
      "metadata": {
        "id": "-pVERzb-gr4q",
        "colab_type": "code",
        "outputId": "698a0c7a-70a1-4171-b80e-8f5fbcb6f470",
        "colab": {
          "base_uri": "https://localhost:8080/",
          "height": 312
        }
      },
      "source": [
        "print(\"Model results (validation):\")\n",
        "print(\"\\n\")\n",
        "print(\"Loss (Mean):      %0.4f\"%(np.mean([h.history['val_loss'] for h in fithists])))\n",
        "print(\"Loss (Std):       %0.4f\"%(np.std([h.history['val_loss'] for h in fithists])))\n",
        "print(\"\\n\")\n",
        "print(\"Accuracy (Mean):  %0.2f%%\"%(100*np.mean([h.history['val_acc'] for h in fithists])))\n",
        "print(\"Accuracy (Std):   %0.2f%%\"%(100*np.std([h.history['val_acc'] for h in fithists])))\n",
        "print(\"\\n\")\n",
        "print(\"Precision (Mean): %0.2f%%\"%(100*np.mean([h.history['val_precision'] for h in fithists])))\n",
        "print(\"Precision (Std):  %0.2f%%\"%(100*np.std([h.history['val_precision'] for h in fithists])))\n",
        "print(\"\\n\")\n",
        "print(\"Recall (Mean):    %0.2f%%\"%(100*np.mean([h.history['val_recall'] for h in fithists])))\n",
        "print(\"Recall (Std):     %0.2f%%\"%(100*np.std([h.history['val_recall'] for h in fithists])))"
      ],
      "execution_count": 13,
      "outputs": [
        {
          "output_type": "stream",
          "text": [
            "Model results (validation):\n",
            "\n",
            "\n",
            "Loss (Mean):      0.6425\n",
            "Loss (Std):       0.0353\n",
            "\n",
            "\n",
            "Accuracy (Mean):  41.44%\n",
            "Accuracy (Std):   7.23%\n",
            "\n",
            "\n",
            "Precision (Mean): 0.65%\n",
            "Precision (Std):  0.07%\n",
            "\n",
            "\n",
            "Recall (Mean):    88.83%\n",
            "Recall (Std):     3.98%\n"
          ],
          "name": "stdout"
        }
      ]
    },
    {
      "cell_type": "code",
      "metadata": {
        "id": "2cqF7SyFb_v7",
        "colab_type": "code",
        "colab": {}
      },
      "source": [
        "def loss_rate_plot(hist, ax, label='',legend=False):\n",
        "    ax.plot(hist.history['loss'])\n",
        "    ax.plot(hist.history['val_loss'])\n",
        "    if label=='':\n",
        "        ax.set_title(\"Loss Rate\", size=14)\n",
        "    else:\n",
        "        ax.set_title(\"Loss Rate (%s)\"%(label), size=14)\n",
        "    ax.set_ylabel('Loss')\n",
        "    ax.set_xlabel('Training interations')\n",
        "    if legend:\n",
        "        ax.legend(['Training', 'Validation'], loc='upper right')\n",
        "\n",
        "def accuracy_rate_plot(hist,ax,label='',legend=False):\n",
        "    ax.plot([j*100 for j in hist.history['acc']])\n",
        "    ax.plot([j*100 for j in hist.history['val_acc']])\n",
        "    if label=='':\n",
        "        ax.set_title(\"Accuracy\", size=14)\n",
        "    else:\n",
        "        ax.set_title(\"Accuracy (%s)\"%(label), size=14)\n",
        "    ax.set_ylabel('Accuracy %')\n",
        "    ax.set_xlabel('Training iterations')\n",
        "    if legend:\n",
        "        ax.legend(['Training','Validation'], loc='lower right')\n",
        "\n",
        "def precision_rate_plot(hist,ax,label='',legend=False):\n",
        "    ax.plot([j*100 for j in hist.history['precision']])\n",
        "    ax.plot([j*100 for j in hist.history['val_precision']])\n",
        "    if label=='':\n",
        "        ax.set_title(\"Precision\", size=14)\n",
        "    else:\n",
        "        ax.set_title(\"Precision (%s)\"%(label), size=14)\n",
        "    ax.set_ylabel('Precision %')\n",
        "    ax.set_xlabel('Training iterations')\n",
        "    if legend:\n",
        "        ax.legend(['Training','Validation'], loc='lower right')\n",
        "\n",
        "def recall_rate_plot(hist,ax,label='',legend=False):\n",
        "    ax.plot([j*100 for j in hist.history['recall']])\n",
        "    ax.plot([j*100 for j in hist.history['val_recall']])\n",
        "    if label=='':\n",
        "        ax.set_title(\"Recall\", size=14)\n",
        "    else:\n",
        "        ax.set_title(\"Recall (%s)\"%(label), size=14)\n",
        "    ax.set_ylabel('Recall %')\n",
        "    ax.set_xlabel('Training iterations')\n",
        "    if legend:\n",
        "        ax.legend(['Training','Validation'], loc='lower right')"
      ],
      "execution_count": 0,
      "outputs": []
    },
    {
      "cell_type": "code",
      "metadata": {
        "id": "EPdyOVmckA1y",
        "colab_type": "code",
        "outputId": "c5a45166-b214-41cb-f501-f5131feec600",
        "colab": {
          "base_uri": "https://localhost:8080/",
          "height": 1289
        }
      },
      "source": [
        "for i in range(shuffle.get_n_splits()):\n",
        "    \n",
        "    fig, [[ax1,ax2],[ax3,ax4]] = plt.subplots(2,2, figsize=(8,6))\n",
        "\n",
        "    loss_rate_plot(fithists[i],      ax1, legend=True, label=\"Fold %d\"%(i+1))\n",
        "    accuracy_rate_plot(fithists[i],  ax2, label=\"Fold %d\"%(i+1))\n",
        "    precision_rate_plot(fithists[i], ax3, label=\"Fold %d\"%(i+1))\n",
        "    recall_rate_plot(fithists[i],    ax4, label=\"Fold %d\"%(i+1))\n",
        "\n",
        "    fig.tight_layout()\n",
        "    \n",
        "plt.show()"
      ],
      "execution_count": 15,
      "outputs": [
        {
          "output_type": "display_data",
          "data": {
            "image/png": "iVBORw0KGgoAAAANSUhEUgAAAjgAAAGoCAYAAABL+58oAAAABHNCSVQICAgIfAhkiAAAAAlwSFlz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\naOWKWd3DUMPBNG2cEeDl4ACuSMhwz3EcTB+cHcB