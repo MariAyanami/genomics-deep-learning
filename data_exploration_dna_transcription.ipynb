
{
 "cells": [
  {
   "cell_type": "markdown",
   "metadata": {
    "colab_type": "text",
    "id": "view-in-github"
   },
   "source": [
    "<a href=\"https://colab.research.google.com/github/charlesreid1/deep-learning-genomics/blob/master/data_exploration_dna_transcription.ipynb\" target=\"_parent\"><img src=\"https://colab.research.google.com/assets/colab-badge.svg\" alt=\"Open In Colab\"/></a>"
   ]
  },
  {
   "cell_type": "markdown",
   "metadata": {
    "colab_type": "text",
    "id": "AgVr4tm2M5nL"
   },
   "source": [
    "# DNA Transcription Dataset\n",
    "\n",
    "In this notebook we explore a data set related to transcription factor binding sites in DNA.\n",
    "\n",
    "In particular, the data set is about transcription factor [jun-D](https://www.uniprot.org/uniprot/P17535), a transcription factor that can be found in [human chromosome 19](https://en.wikipedia.org/wiki/Chromosome_19) and that binds to various sites in [human chromosome 22](https://en.wikipedia.org/wiki/Chromosome_22) (one of the smallest human chromosomes at 50 Mbp and the first chromosome to be completely sequenced by the Human Genome Project in 1999).\n",
    "\n",
    "The data set consists of portions (?) of the 22nd chromosome broken into short k-mers (segments of DNA) of length 101. Each of the k-mers are labeled as being either a jun-D transcription factor binding site, or not. Additionally, data about the ability of chromatin to access the segment, which affects the binding process, is also provided."
   ]
  },