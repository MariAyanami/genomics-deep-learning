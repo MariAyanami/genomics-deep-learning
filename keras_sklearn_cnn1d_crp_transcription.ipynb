{
  "nbformat": 4,
  "nbformat_minor": 0,
  "metadata": {
    "colab": {
      "name": "Copy of keras-sklearn_cnn1d_crp_transcription.ipynb",
      "version": "0.3.2",
      "provenance": [],
      "collapsed_sections": [],
      "include_colab_link": true
    },
    "language_info": {
      "codemirror_mode": {
        "name": "ipython",
        "version": 3
      },
      "file_extension": ".py",
      "mimetype": "text/x-python",
      "name": "python",
      "nbconvert_exporter": "python",
      "pygments_lexer": "ipython3",
      "version": "3.6.7"
    },
    "kernelspec": {
      "display_name": "Python 3",
      "language": "python",
      "name": "python3"
    },
    "accelerator": "GPU"
  },
  "cells": [
    {
      "cell_type": "markdown",
      "metadata": {
        "id": "view-in-github",
        "colab_type": "text"
      },
      "source": [
        "<a href=\"https://colab.research.google.com/github/charlesreid1/deep-learning-genomics/blob/master/keras_sklearn_cnn1d_crp_transcription.ipynb\" target=\"_parent\"><img src=\"https://colab.research.google.com/assets/colab-badge.svg\" alt=\"Open In Colab\"/></a>"
      ]
    },
    {
      "cell_type": "markdown",
      "metadata": {
        "colab_type": "text",
        "id": "JHAuCkB-Dyvx"
      },
      "source": [
        "# Keras and Sklearn for Deep Learning Genomics\n",
        "\n",
        "## Using Convolutional Neural Nets to Predict CRP Transcription Factor Binding Sites\n",
        "\n",
        "This notebook continues with the example from a prior notebook, namely, the problem of predicting transcription factor binding sites in DNA. This type of neural network operates on 1D sequence data (DNA nucleotides), so we build a 1D convolutional neural network to perform classification of DNA (is this string of nucleotides a transcription factor binding site or not).\n",
        "\n",
        "We construct a 1D CNN model in this notebook, then perform manual cross-validation on each model and assemble statistics to assess the cross-validation results."
      ]
    },
    {
      "cell_type": "markdown",
      "metadata": {
        "colab_type": "text",
        "id": "bAl5v_fEEz8Y"
      },
      "source": [
        "## Import Libraries"
      ]
    },
    {
      "cell_type": "code",
      "metadata": {
        "colab_type": "code",
        "id": "62b9p_xalIIH",
        "outputId": "1bfd68fb-c51b-4ce0-8f95-5d26a2ce99e1",
        "colab": {
          "base_uri": "https://localhost:8080/",
          "height": 34
        }
      },
      "source": [
        "import tensorflow as tf\n",
        "tf.test.gpu_device_name()"
      ],
      "execution_count": 0,
      "outputs": [
        {
          "output_type": "execute_result",
          "data": {
            "text/plain": [
              "'/device:GPU:0'"
            ]
          },
          "metadata": {
            "tags": []
          },
          "execution_count": 1
        }
      ]
    },
    {
      "cell_type": "code",
      "metadata": {
        "colab_type": "code",
        "id": "4gsmsa71Dv1k",
        "colab": {}
      },
      "source": [
        "import os\n",
        "import math\n",
        "import numpy as np\n",
        "import numpy\n",
        "import matplotlib.pyplot as plt\n",
        "import seaborn as sns\n",
        "import pandas\n",
        "import joblib"
      ],
      "execution_count": 0,
      "outputs": []
    },
    {
      "cell_type": "code",
      "metadata": {
        "id": "pDKOca34psQB",
        "colab_type": "code",
        "colab": {}
      },
      "source": [
        "from scipy import interp"
      ],
      "execution_count": 0,
      "outputs": []
    },
    {
      "cell_type": "code",
      "metadata": {
        "id": "elpTR8POpsQT",
        "colab_type": "code",
        "outputId": "c6d7856d-df3e-4f03-80e0-14222bb23b05",
        "colab": {
          "base_uri": "https://localhost:8080/",
          "height": 191
        }
      },
      "source": [
        "!pip install screed"
      ],
      "execution_count": 0,
      "outputs": [
        {
          "output_type": "stream",
          "text": [
            "Collecting screed\n",
            "\u001b[?25l  Downloading https://files.pythonhosted.org/packages/e7/7a/b5f16a9861ac497b346b2f5205e8dc35103eeba1e6fdffa114c47e0b35ba/screed-1.0.tar.gz (130kB)\n",
            "\r\u001b[K     |██▌                             | 10kB 20.0MB/s eta 0:00:01\r\u001b[K     |█████                           | 20kB 1.7MB/s eta 0:00:01\r\u001b[K     |███████▌                        | 30kB 2.5MB/s eta 0:00:01\r\u001b[K     |██████████                      | 40kB 1.7MB/s eta 0:00:01\r\u001b[K     |████████████▌                   | 51kB 2.1MB/s eta 0:00:01\r\u001b[K     |███████████████                 | 61kB 2.5MB/s eta 0:00:01\r\u001b[K     |█████████████████▋              | 71kB 2.8MB/s eta 0:00:01\r\u001b[K     |████████████████████            | 81kB 3.2MB/s eta 0:00:01\r\u001b[K     |██████████████████████▋         | 92kB 3.6MB/s eta 0:00:01\r\u001b[K     |█████████████████████████       | 102kB 2.7MB/s eta 0:00:01\r\u001b[K     |███████████████████████████▋    | 112kB 2.7MB/s eta 0:00:01\r\u001b[K     |██████████████████████████████▏ | 122kB 2.7MB/s eta 0:00:01\r\u001b[K     |████████████████████████████████| 133kB 2.7MB/s \n",
            "\u001b[?25hRequirement already satisfied: bz2file in /usr/local/lib/python3.6/dist-packages (from screed) (0.98)\n",
            "Building wheels for collected packages: screed\n",
            "  Building wheel for screed (setup.py) ... \u001b[?25l\u001b[?25hdone\n",
            "  Stored in directory: /root/.cache/pip/wheels/1f/92/73/33877695d382ad5f342aaa8c8835d83895766b39bf6989f350\n",
            "Successfully built screed\n",
            "Installing collected packages: screed\n",
            "Successfully installed screed-1.0\n"
          ],
          "name": "stdout"
        }
      ]
    },
    {
      "cell_type": "code",
      "metadata": {
        "colab_type": "code",
        "id": "1fhj_7ZaEPij",
        "colab": {}
      },
      "source": [
        "# sklearn\n",
        "from sklearn.utils.class_weight import compute_class_weight\n",
        "from sklearn.utils.class_weight import compute_sample_weight\n",
        "from sklearn.metrics import roc_curve, auc, roc_auc_score\n",
        "from sklearn.metrics import confusion_matrix\n",
        "from sklearn.utils.multiclass import unique_labels\n",
        "from sklearn.model_selection import cross_val_score\n",
        "from sklearn.preprocessing import LabelEncoder\n",
        "from sklearn.model_selection import StratifiedKFold, StratifiedShuffleSplit\n",
        "from sklearn.preprocessing import StandardScaler\n",
        "from sklearn.pipeline import Pipeline"
      ],
      "execution_count": 0,
      "outputs": []
    },
    {
      "cell_type": "code",
      "metadata": {
        "colab_type": "code",
        "id": "VN-bDjOlEQDB",
        "outputId": "37c69bf3-90bc-4986-c408-f656c63c12cf",
        "colab": {
          "base_uri": "https://localhost:8080/",
          "height": 34
        }
      },
      "source": [
        "from keras.wrappers.scikit_learn import KerasClassifier\n",
        "from keras.models import Sequential, Model\n",
        "from keras.layers import Flatten, Embedding, Dense, Dropout, Input, Concatenate\n",
        "from keras.layers import Conv1D, GlobalAveragePooling1D, MaxPooling1D\n",
        "from keras.layers import LeakyReLU\n",
        "import keras"
      ],
      "execution_count": 0,
      "outputs": [
        {
          "output_type": "stream",
          "text": [
            "Using TensorFlow backend.\n"
          ],
          "name": "stderr"
        }
      ]
    },
    {
      "cell_type": "code",
      "metadata": {
        "colab_type": "code",
        "id": "aHkVmJYCEZfT",
        "colab": {}
      },
      "source": [
        "seed = 1729\n",
        "numpy.random.seed(seed)"
      ],
      "execution_count": 0,
      "outputs": []
    },
    {
      "cell_type": "markdown",
      "metadata": {
        "colab_type": "text",
        "id": "ZeBqpoaQcPvk"
      },
      "source": [
        "## Define Useful Keras Metrics"
      ]
    },
    {
      "cell_type": "code",
      "metadata": {
        "colab_type": "code",
        "id": "UpthrvB3cST3",
        "colab": {}
      },
      "source": [
        "# via https://github.com/keras-team/keras/issues/6507#issuecomment-322857357\n",
        "\n",
        "import keras.backend as K\n",
        "\n",
        "def precision(y_true, y_pred):\n",
        "    # Calculate the precision\n",
        "    # clip ensures we're between 0 and 1\n",
        "    # round ensures we're either 0 or 1\n",
        "    true_positives = K.sum(K.round(K.clip(y_true * y_pred, 0, 1)))\n",
        "    predicted_positives = K.sum(K.round(K.clip(y_pred, 0, 1)))\n",
        "    precision = true_positives / (predicted_positives + K.epsilon())\n",
        "    return precision\n",
        "\n",
        "def recall(y_true, y_pred):\n",
        "    # Calculate the recall\n",
        "    # clip ensures we're between 0 and 1\n",
        "    # round ensures we're either 0 or 1\n",
        "    true_positives = K.sum(K.round(K.clip(y_true * y_pred, 0, 1)))\n",
        "    possible_positives = K.sum(K.round(K.clip(y_true, 0, 1)))\n",
        "    recall = true_positives / (possible_positives + K.epsilon())\n",
        "    return recall\n",
        "\n",
        "def fvalue(y_true, y_pred):\n",
        "    # Calculate the F-value\n",
        "    # If there are no true positives, fix the F score at 0 like sklearn.\n",
        "    if K.sum(K.round(K.clip(y_true, 0, 1))) == 0:\n",
        "        return 0\n",
        "    p = precision(y_true,y_pred)\n",
        "    r = recall(y_true,y_pred)\n",
        "    fvalue = (2 * p * r)/(p + r + K.epsilon())\n",
        "    return fvalue\n"
      ],
      "execution_count": 0,
      "outputs": []
    },
    {
      "cell_type": "markdown",
      "metadata": {
        "colab_type": "text",
        "id": "Yf8K8vRzEx3q"
      },
      "source": [
        "## Load Dataset"
      ]
    },
    {
      "cell_type": "code",
      "metadata": {
        "colab_type": "code",
        "id": "nxrwVCIBEsNJ",
        "outputId": "047e7e10-7de4-4c9d-f41e-366565b9ca06",
        "colab": {
          "base_uri": "https://localhost:8080/",
          "height": 208
        }
      },
      "source": [
        "# grab binding sites from http://arep.med.harvard.edu/ecoli_matrices/dat/crp.dat\n",
        "!wget http://arep.med.harvard.edu/ecoli_matrices/dat/crp.dat"
      ],
      "execution_count": 0,
      "outputs": [
        {
          "output_type": "stream",
          "text": [
            "--2019-07-01 17:49:41--  http://arep.med.harvard.edu/ecoli_matrices/dat/crp.dat\n",
            "Resolving arep.med.harvard.edu (arep.med.harvard.edu)... 134.174.150.51\n",
            "Connecting to arep.med.harvard.edu (arep.med.harvard.edu)|134.174.150.51|:80... connected.\n",
            "HTTP request sent, awaiting response... 200 OK\n",
            "Length: 1966 (1.9K) [text/plain]\n",
            "Saving to: ‘crp.dat’\n",
            "\n",
            "\rcrp.dat               0%[                    ]       0  --.-KB/s               \rcrp.dat             100%[===================>]   1.92K  --.-KB/s    in 0s      \n",
            "\n",
            "2019-07-01 17:49:41 (412 MB/s) - ‘crp.dat’ saved [1966/1966]\n",
            "\n"
          ],
          "name": "stdout"
        }
      ]
    },
    {
      "cell_type": "code",
      "metadata": {
        "colab_type": "code",
        "id": "sEUJnDsbEtQa",
        "outputId": "8f845034-45e9-469e-e928-44ae726327d2",
        "colab": {
          "base_uri": "https://localhost:8080/",
          "height": 69
        }
      },
      "source": [
        "# grab ecoli k12 genome\n",
        "!curl ftp://ftp.ncbi.nlm.nih.gov/genomes/all/GCF/003/627/195/GCF_003627195.1_ASM362719v1/GCF_003627195.1_ASM362719v1_genomic.fna.gz -o ecoli-k12.fna.gz"
      ],
      "execution_count": 0,
      "outputs": [
        {
          "output_type": "stream",
          "text": [
            "  % Total    % Received % Xferd  Average Speed   Time    Time     Time  Current\n",
            "                                 Dload  Upload   Total   Spent    Left  Speed\n",
            "100 1347k  100 1347k    0     0  1935k      0 --:--:-- --:--:-- --:--:-- 1932k\n"
          ],
          "name": "stdout"
        }
      ]
    },
    {
      "cell_type": "code",
      "metadata": {
        "colab_type": "code",
        "id": "KPileDhWZyu5",
        "colab": {}
      },
      "source": [
        "import screed\n",
        "ecoli_genome = list(screed.open('ecoli-k12.fna.gz'))[0].sequence\n",
        "crp_sites = list(screed.open('crp.dat'))"
      ],
      "execution_count": 0,
      "outputs": []
    },
    {
      "cell_type": "code",
      "metadata": {
        "id": "E_jzasLmpsSi",
        "colab_type": "code",
        "colab": {}
      },
      "source": [
        "ecoli_genome = ecoli_genome.upper()"
      ],
      "execution_count": 0,
      "outputs": []
    },
    {
      "cell_type": "markdown",
      "metadata": {
        "id": "mqxVC-UZpsSn",
        "colab_type": "text"
      },
      "source": [
        "## Explore Dataset\n",
        "\n",
        "Below we explore some details of the CRP transcription factor binding site data set that we'll use to train and test the model."
      ]
    },
    {
      "cell_type": "code",
      "metadata": {
        "id": "o-WrQvFQpsSo",
        "colab_type": "code",
        "outputId": "e2361db0-ae77-4936-ed2e-c78edbb134b2",
        "colab": {
          "base_uri": "https://localhost:8080/",
          "height": 52
        }
      },
      "source": [
        "print(\"E. coli genome size: {:,}\".format(len(ecoli_genome)))\n",
        "print(\"Number of CRP binding sites: {:,}\".format(len(crp_sites)))"
      ],
      "execution_count": 0,
      "outputs": [
        {
          "output_type": "stream",
          "text": [
            "E. coli genome size: 4,639,694\n",
            "Number of CRP binding sites: 49\n"
          ],
          "name": "stdout"
        }
      ]
    },
    {
      "cell_type": "code",
      "metadata": {
        "id": "FIkR_DMzpsSz",
        "colab_type": "code",
        "outputId": "77563914-0495-4846-9c13-82a7ea358a27",
        "colab": {
          "base_uri": "https://localhost:8080/",
          "height": 34
        }
      },
      "source": [
        "print(type(ecoli_genome))"
      ],
      "execution_count": 0,
      "outputs": [
        {
          "output_type": "stream",
          "text": [
            "<class 'str'>\n"
          ],
          "name": "stdout"
        }
      ]
    },
    {
      "cell_type": "markdown",
      "metadata": {
        "id": "HLVLPkgvpsS7",
        "colab_type": "text"
      },
      "source": [
        "The E. coli genome is a ~4 MB string and we have 49 known binding sites. We have only \"known positive\" binding sites; we have no \"known negative\" binding sites. In other words, we cannot say that a particular sequence of DNA is _definitely not_ a binding site, we can only say that it is _probably not_ a binding site."
      ]
    },
    {
      "cell_type": "code",
      "metadata": {
        "id": "vFKifmbUpsS9",
        "colab_type": "code",
        "outputId": "4982c42f-3457-4728-f71a-91656c2119a7",
        "colab": {
          "base_uri": "https://localhost:8080/",
          "height": 104
        }
      },
      "source": [
        "crp_sites[:5]"
      ],
      "execution_count": 0,
      "outputs": [
        {
          "output_type": "execute_result",
          "data": {
            "text/plain": [
              "[{'name': 'aldB -18->4', 'sequence': 'attcgtgatagctgtcgtaaag', 'description': ''},\n",
              " {'name': 'ansB 103->125', 'sequence': 'ttttgttacctgcctctaactt', 'description': ''},\n",
              " {'name': 'araB1 109->131', 'sequence': 'aagtgtgacgccgtgcaaataa', 'description': ''},\n",
              " {'name': 'araB2 147->169', 'sequence': 'tgccgtgattatagacactttt', 'description': ''},\n",
              " {'name': 'cdd 1 107->129', 'sequence': 'atttgcgatgcgtcgcgcattt', 'description': ''}]"
            ]
          },
          "metadata": {
            "tags": []
          },
          "execution_count": 16
        }
      ]
    },
    {
      "cell_type": "markdown",
      "metadata": {
        "id": "NEmv-S5MpsTC",
        "colab_type": "text"
      },
      "source": [
        "### Generating Positive Examples"
      ]
    },
    {
      "cell_type": "code",
      "metadata": {
        "id": "4JjrMKCKpsTE",
        "colab_type": "code",
        "outputId": "299f3577-5a91-4379-8286-de9d4551c70b",
        "colab": {
          "base_uri": "https://localhost:8080/",
          "height": 52
        }
      },
      "source": [
        "crp_kmers = []\n",
        "for site in crp_sites:\n",
        "    crp_kmers.append(site['sequence'].upper())\n",
        "\n",
        "len_crp = len(crp_kmers[0]) # all CRP sites are the same length\n",
        "print('Size of CRP binding site:', len_crp)\n",
        "print('Number of known good CRP binding sites:', len(crp_kmers))"
      ],
      "execution_count": 0,
      "outputs": [
        {
          "output_type": "stream",
          "text": [
            "Size of CRP binding site: 22\n",
            "Number of known good CRP binding sites: 49\n"
          ],
          "name": "stdout"
        }
      ]
    },
    {
      "cell_type": "markdown",
      "metadata": {
        "id": "ySvq0pikpsTI",
        "colab_type": "text"
      },
      "source": [
        "The CRP binding sites are all sequences of 22 nucleotides. We have 49 positive examples. "
      ]
    },
    {
      "cell_type": "markdown",
      "metadata": {
        "id": "Csx1G-BxpsTL",
        "colab_type": "text"
      },
      "source": [
        "### Kmer Orientations and Reverse Complements\n",
        "\n",
        "Normally we would want to think about whether the orientation of the kmer (forward or backward from what is given in the data set we downloaded) matters. However, the CRP t.f. binding sites are all palindromes, so orientation should not matter.\n",
        "\n",
        "However, we _can_ generate additional positive examples by finding the reverse complement of each CRP t.f. binding site kmer."
      ]
    },
    {
      "cell_type": "code",
      "metadata": {
        "id": "pShBOpJbpsTN",
        "colab_type": "code",
        "outputId": "8d336449-e293-432b-a1ba-a93f873d977e",
        "colab": {
          "base_uri": "https://localhost:8080/",
          "height": 34
        }
      },
      "source": [
        "TRANSLATION = {\"A\": \"T\", \"C\": \"G\", \"G\": \"C\", \"T\": \"A\"}\n",
        "\n",
        "def revc(pattern):\n",
        "    return \"\".join(TRANSLATION[c] for c in reversed(pattern))\n",
        "\n",
        "for k in range(len(crp_kmers)):\n",
        "    crp_kmers.append(revc(crp_kmers[k]))\n",
        "\n",
        "print('Number of known good CRP binding sites (with rev. complements):', len(crp_kmers))"
      ],
      "execution_count": 0,
      "outputs": [
        {
          "output_type": "stream",
          "text": [
            "Number of known good CRP binding sites (with rev. complements): 98\n"
          ],
          "name": "stdout"
        }
      ]
    },
    {
      "cell_type": "markdown",
      "metadata": {
        "id": "pan4pm0kpsTU",
        "colab_type": "text"
      },
      "source": [
        "### Generating Negative Examples\n",
        "\n",
        "Next, we can generate negative examples (ignoring the fact mentioned above, that we can't say with certainty that these are negative examples) by generating 22-mers from the E. coli genome.\n",
        "\n",
        "We will generate a **slim** and a **full** data set. The slim data set will use the first 100,000 22-mers. The full data set will use the entire E. coli genome."
      ]
    },
    {
      "cell_type": "code",
      "metadata": {
        "id": "5Pi8tsAspsTU",
        "colab_type": "code",
        "colab": {}
      },
      "source": [
        "do_slim = False"
      ],
      "execution_count": 0,
      "outputs": []
    },
    {
      "cell_type": "code",
      "metadata": {
        "id": "0OwI9tXDpsTb",
        "colab_type": "code",
        "colab": {}
      },
      "source": [
        "if do_slim:\n",
        "    \n",
        "    N_NEGATIVES=int(1e5) # 100,000 negative binding sites\n",
        "\n",
        "    notcrp_kmers_slim = []\n",
        "    for n in range(N_NEGATIVES):\n",
        "        kmer = ecoli_genome[n:n + len_crp]\n",
        "        if kmer not in crp_kmers:\n",
        "            notcrp_kmers_slim.append(kmer)\n",
        "\n",
        "    print('Gathered {:,} negative binding sites'.format(len(notcrp_kmers_slim)))"
      ],
      "execution_count": 0,
      "outputs": []
    },
    {
      "cell_type": "code",
      "metadata": {
        "id": "urGHnJxPpsTi",
        "colab_type": "code",
        "outputId": "68eaa094-2161-41d0-d004-0dbf22ab8230",
        "colab": {
          "base_uri": "https://localhost:8080/",
          "height": 34
        }
      },
      "source": [
        "if not do_slim:\n",
        "    \n",
        "    notcrp_kmers_full = []\n",
        "    overlap = len(ecoli_genome)-len_crp+1\n",
        "    for n in range(overlap):\n",
        "        kmer = ecoli_genome[n:n + len_crp]\n",
        "        if kmer not in crp_kmers:\n",
        "            notcrp_kmers_full.append(kmer)\n",
        "\n",
        "    print('Gathered {:,} negative binding sites'.format(len(notcrp_kmers_full)))"
      ],
      "execution_count": 0,
      "outputs": [
        {
          "output_type": "stream",
          "text": [
            "Gathered 4,639,626 negative binding sites\n"
          ],
          "name": "stdout"
        }
      ]
    },
    {
      "cell_type": "code",
      "metadata": {
        "id": "eTlkMMxEpsTn",
        "colab_type": "code",
        "colab": {}
      },
      "source": [
        "if do_slim:\n",
        "    notcrp_kmers = notcrp_kmers_slim\n",
        "else:\n",
        "    notcrp_kmers = notcrp_kmers_full"
      ],
      "execution_count": 0,
      "outputs": []
    },
    {
      "cell_type": "markdown",
      "metadata": {
        "id": "w224nBATpsTt",
        "colab_type": "text"
      },
      "source": [
        "A brief comment on dealing with uncertainty in the positive and negative cases: this is a source of uncertainty inherent to the system being modeled - it is not something that can be overcome with a better model. Training a better model requires more information, in the form of probabilities - the probability that a kmer is a negative example. In the absence of additional information, such as an estimate of the number of missing positive examples, we have to make assumptions.\n",
        "\n",
        "Ultimately the output of the model is a probabilistic guess about which class a given kmer belongs in - positive (yes, this is a CRP t.f. site) or negative (no, this is not a CRP t.f. site). We are looking for places where we can't quite rule something out based on the data we have, and the classification system is **more sensitive** to the training data set."
      ]
    },
    {
      "cell_type": "markdown",
      "metadata": {
        "id": "DBZYkihqpsTu",
        "colab_type": "text"
      },
      "source": [
        "### One-Hot Encoding of Dataset\n",
        "\n",
        "To use the kmers that compose our positive and negative exmaples, we need to one-hot encode the DNA sequences."
      ]
    },
    {
      "cell_type": "code",
      "metadata": {
        "id": "U4UH7ytupsTx",
        "colab_type": "code",
        "colab": {}
      },
      "source": [
        "# do janky one-hot encoding\n",
        "oh = {}\n",
        "oh['A'] = [1, 0, 0, 0]\n",
        "oh['C'] = [0, 1, 0, 0]\n",
        "oh['G'] = [0, 0, 1, 0]\n",
        "oh['T'] = [0, 0, 0, 1]\n",
        "\n",
        "X = []\n",
        "y = []\n",
        "\n",
        "# First encode the positive examples\n",
        "\n",
        "for site in crp_kmers:\n",
        "    encoded_site = []\n",
        "    for c in site:\n",
        "        encoded_site.append(oh[c])\n",
        "    \n",
        "    X.append(encoded_site)\n",
        "    y.append([1])\n",
        "        \n",
        "\n",
        "for site in notcrp_kmers:\n",
        "    encoded_site = []\n",
        "    for c in site:\n",
        "        encoded_site.append(oh[c])\n",
        "    \n",
        "    X.append(encoded_site)\n",
        "    y.append([0])"
      ],
      "execution_count": 0,
      "outputs": []
    },
    {
      "cell_type": "code",
      "metadata": {
        "id": "MfuNWJr3psT2",
        "colab_type": "code",
        "outputId": "cb762d77-b760-4985-f0fd-9e1edbaae67a",
        "colab": {
          "base_uri": "https://localhost:8080/",
          "height": 52
        }
      },
      "source": [
        "# Setting the dtype can save us some space\n",
        "X = np.array(X, dtype=np.int8)\n",
        "y = np.array(y, dtype=np.int8)\n",
        "\n",
        "print(np.shape(X))\n",
        "print(np.shape(y))"
      ],
      "execution_count": 0,
      "outputs": [
        {
          "output_type": "stream",
          "text": [
            "(4639724, 22, 4)\n",
            "(4639724, 1)\n"
          ],
          "name": "stdout"
        }
      ]
    },
    {
      "cell_type": "code",
      "metadata": {
        "id": "utr6E2rVpsT7",
        "colab_type": "code",
        "outputId": "49d4a401-884b-428b-d053-f2a7e03d0bb2",
        "colab": {
          "base_uri": "https://localhost:8080/",
          "height": 52
        }
      },
      "source": [
        "print(type(X[0][0][0]))\n",
        "print(type(y[0][0]))"
      ],
      "execution_count": 0,
      "outputs": [
        {
          "output_type": "stream",
          "text": [
            "<class 'numpy.int8'>\n",
            "<class 'numpy.int8'>\n"
          ],
          "name": "stdout"
        }
      ]
    },
    {
      "cell_type": "code",
      "metadata": {
        "id": "5OO3CY13psT_",
        "colab_type": "code",
        "outputId": "ae178a0a-517c-4c80-9a0a-1acac3589785",
        "colab": {
          "base_uri": "https://localhost:8080/",
          "height": 34
        }
      },
      "source": [
        "pos = sum(y==1)\n",
        "neg = sum(y==0)\n",
        "print(\"Percent of examples that are positive: %0.4f%%\"%(100*pos/(pos+neg)))"
      ],
      "execution_count": 0,
      "outputs": [
        {
          "output_type": "stream",
          "text": [
            "Percent of examples that are positive: 0.0021%\n"
          ],
          "name": "stdout"
        }
      ]
    },
    {
      "cell_type": "markdown",
      "metadata": {
        "id": "lBKhyxu3psUE",
        "colab_type": "text"
      },
      "source": [
        "### Computing Class and Sample Weights\n",
        "\n",
        "Because we are dealing with a highly imbalanced data set, we should use class weights to weight the positive examples more heavily, so the neural network doesn't learn to simply make negative preditions all the time.\n",
        "\n",
        "Class weights are easier to deal with and apply the same weight to all instances of a given class.\n",
        "\n",
        "Sample weights assign a different weight to every piece of input data. These are more expensive and consume space, but some scikit-learn functions can only accept sample weights, not class weights."
      ]
    },
    {
      "cell_type": "code",
      "metadata": {
        "id": "yblu-kt4psUE",
        "colab_type": "code",
        "colab": {}
      },
      "source": [
        "# Compute class weights:\n",
        "classes = np.unique(y)\n",
        "labels = np.squeeze(y)\n",
        "weights = compute_class_weight('balanced',classes,labels)\n",
        "\n",
        "class_weights = {}\n",
        "for k,wt in zip(classes,weights):\n",
        "    class_weights[k] = wt\n",
        "\n",
        "sample_weights = []\n",
        "for yi in y:\n",
        "    k = yi[0]\n",
        "    sample_weights.append([class_weights[k]])\n",
        "\n",
        "sample_weights = np.array(sample_weights)"
      ],
      "execution_count": 0,
      "outputs": []
    },
    {
      "cell_type": "markdown",
      "metadata": {
        "id": "yXkhyviepsUH",
        "colab_type": "text"
      },
      "source": [
        "## Performing Stratified K-Fold Validation\n",
        "\n",
        "Now we have all input and output data for training the neural network model in the variables X and y. We can use scikit-learn to create testing-training splits that maintain a balance between positive and negative examples. \n",
        "\n",
        "* First, we write a function to create a model (independent of input/output data).\n",
        "* Second, we perform k-fold validation, creating a new model each time. We create new stratified, shuffled testing-training splits from X and y each time we do a new cross-validation."
      ]
    },
    {
      "cell_type": "code",
      "metadata": {
        "id": "NYhqXgV-psUH",
        "colab_type": "code",
        "colab": {}
      },
      "source": [
        "def create_baseline():\n",
        "    \"\"\"Create and return a baseline 1D convolutional neural net model.\n",
        "    \"\"\"\n",
        "    # DNA sequence alphabet size\n",
        "    n_features = 4\n",
        "    seq_length = len_crp\n",
        "    convolution_window = 25\n",
        "    n_filters = 16\n",
        "    \n",
        "    # construct model\n",
        "    model = Sequential()\n",
        "    \n",
        "    # Layer 1\n",
        "    model.add(Conv1D(n_filters, convolution_window,\n",
        "                     activation='relu',\n",
        "                     padding='same',\n",
        "                     kernel_initializer='normal',\n",
        "                     input_shape=(seq_length, n_features)))\n",
        "    \n",
        "    model.add(Dropout(0.5))\n",
        "    \n",
        "    # Layer 2\n",
        "    model.add(Conv1D(n_filters, convolution_window,\n",
        "                     activation='relu', \n",
        "                     padding='same',\n",
        "                     kernel_initializer='normal'))\n",
        "    \n",
        "    model.add(Dropout(0.5))\n",
        "    \n",
        "    # Layer 3\n",
        "    model.add(Conv1D(n_filters, convolution_window,\n",
        "                     activation='relu', \n",
        "                     padding='same',\n",
        "                     kernel_initializer='normal'))\n",
        "    \n",
        "    model.add(Dropout(0.5))\n",
        "    \n",
        "    # Flatten\n",
        "    model.add(Flatten())\n",
        "    \n",
        "    # Shrink to 1 neuron for 1 class (binary) classification\n",
        "    model.add(Dense(1, kernel_initializer='normal', activation='sigmoid'))\n",
        "    \n",
        "    model.compile(loss='binary_crossentropy',\n",
        "                  optimizer='adam',\n",
        "                  sample_weight_mode=None,\n",
        "                  metrics=['accuracy',\n",
        "                           precision,\n",
        "                           recall,\n",
        "                           fvalue])\n",
        "    \n",
        "    return model"
      ],
      "execution_count": 0,
      "outputs": []
    },
    {
      "cell_type": "code",
      "metadata": {
        "id": "opGkpmx0psUK",
        "colab_type": "code",
        "outputId": "06979b62-aa23-46df-aaff-37eb74dac940",
        "colab": {
          "base_uri": "https://localhost:8080/",
          "height": 766
        }
      },
      "source": [
        "model = create_baseline()\n",
        "model.summary()"
      ],
      "execution_count": 0,
      "outputs": [
        {
          "output_type": "stream",
          "text": [
            "WARNING: Logging before flag parsing goes to stderr.\n",
            "W0701 17:53:10.240930 140281446127488 deprecation_wrapper.py:119] From /usr/local/lib/python3.6/dist-packages/keras/backend/tensorflow_backend.py:74: The name tf.get_default_graph is deprecated. Please use tf.compat.v1.get_default_graph instead.\n",
            "\n",
            "W0701 17:53:10.247670 140281446127488 deprecation_wrapper.py:119] From /usr/local/lib/python3.6/dist-packages/keras/backend/tensorflow_backend.py:517: The name tf.placeholder is deprecated. Please use tf.compat.v1.placeholder instead.\n",
            "\n",
            "W0701 17:53:10.257047 140281446127488 deprecation_wrapper.py:119] From /usr/local/lib/python3.6/dist-packages/keras/backend/tensorflow_backend.py:4115: The name tf.random_normal is deprecated. Please use tf.random.normal instead.\n",
            "\n",
            "W0701 17:53:10.291110 140281446127488 deprecation_wrapper.py:119] From /usr/local/lib/python3.6/dist-packages/keras/backend/tensorflow_backend.py:133: The name tf.placeholder_with_default is deprecated. Please use tf.compat.v1.placeholder_with_default instead.\n",
            "\n",
            "W0701 17:53:10.300248 140281446127488 deprecation.py:506] From /usr/local/lib/python3.6/dist-packages/keras/backend/tensorflow_backend.py:3445: calling dropout (from tensorflow.python.ops.nn_ops) with keep_prob is deprecated and will be removed in a future version.\n",
            "Instructions for updating:\n",
            "Please use `rate` instead of `keep_prob`. Rate should be set to `rate = 1 - keep_prob`.\n",
            "W0701 17:53:10.392385 140281446127488 deprecation_wrapper.py:119] From /usr/local/lib/python3.6/dist-packages/keras/optimizers.py:790: The name tf.train.Optimizer is deprecated. Please use tf.compat.v1.train.Optimizer instead.\n",
            "\n",
            "W0701 17:53:10.410834 140281446127488 deprecation_wrapper.py:119] From /usr/local/lib/python3.6/dist-packages/keras/backend/tensorflow_backend.py:3376: The name tf.log is deprecated. Please use tf.math.log instead.\n",
            "\n",
            "W0701 17:53:10.416018 140281446127488 deprecation.py:323] From /usr/local/lib/python3.6/dist-packages/tensorflow/python/ops/nn_impl.py:180: add_dispatch_support.<locals>.wrapper (from tensorflow.python.ops.array_ops) is deprecated and will be removed in a future version.\n",
            "Instructions for updating:\n",
            "Use tf.where in 2.0, which has the same broadcast rule as np.where\n"
          ],
          "name": "stderr"
        },
        {
          "output_type": "stream",
          "text": [
            "_________________________________________________________________\n",
            "Layer (type)                 Output Shape              Param #   \n",
            "=================================================================\n",
            "conv1d_1 (Conv1D)            (None, 22, 16)            1616      \n",
            "_________________________________________________________________\n",
            "dropout_1 (Dropout)          (None, 22, 16)            0         \n",
            "_________________________________________________________________\n",
            "conv1d_2 (Conv1D)            (None, 22, 16)            6416      \n",
            "_________________________________________________________________\n",
            "dropout_2 (Dropout)          (None, 22, 16)            0         \n",
            "_________________________________________________________________\n",
            "conv1d_3 (Conv1D)            (None, 22, 16)            6416      \n",
            "_________________________________________________________________\n",
            "dropout_3 (Dropout)          (None, 22, 16)            0         \n",
            "_________________________________________________________________\n",
            "flatten_1 (Flatten)          (None, 352)               0         \n",
            "_________________________________________________________________\n",
            "dense_1 (Dense)              (None, 1)                 353       \n",
            "=================================================================\n",
            "Total params: 14,801\n",
            "Trainable params: 14,801\n",
            "Non-trainable params: 0\n",
            "_________________________________________________________________\n"
          ],
          "name": "stdout"
        }
      ]
    },
    {
      "cell_type": "markdown",
      "metadata": {
        "id": "Ow5OqdzgpsUN",
        "colab_type": "text"
      },
      "source": [
        "Now we perform k-fold cross validation. We create a new model from scratch and re-train it using a random testing-training split for each validation fold. This gives us a statistical picture of how the model performs on average, and helps identify overfitting."
      ]
    },
    {
      "cell_type": "code",
      "metadata": {
        "id": "cJ0kfWb_psUP",
        "colab_type": "code",
        "outputId": "4400b523-d92a-4a70-cea9-45071c2ffafa",
        "colab": {
          "base_uri": "https://localhost:8080/",
          "height": 836
        }
      },
      "source": [
        "n_epochs = 10\n",
        "n_fold = 2\n",
        "batch_size = 4096\n",
        "include_chromatin_data = True\n",
        "\n",
        "shuffle = StratifiedShuffleSplit(n_splits=n_fold,\n",
        "                                 train_size = 0.7,\n",
        "                                 test_size = 0.3,\n",
        "                                 random_state = seed)\n",
        "\n",
        "models = []\n",
        "fithists = []\n",
        "\n",
        "for ifold, (train_ix, test_ix) in enumerate(shuffle.split(X,y)):\n",
        "    \n",
        "    X_train, X_test = X[train_ix], X[test_ix]\n",
        "    y_train, y_test = y[train_ix], y[test_ix]\n",
        "    \n",
        "    print(\"Training on fold %d...\"%(ifold+1))\n",
        "    \n",
        "    model = create_baseline()\n",
        "    hist = model.fit(X_train, y_train,\n",
        "                     class_weight = class_weights,\n",
        "                     batch_size = batch_size,\n",
        "                     epochs = n_epochs,\n",
        "                     verbose = 1,\n",
        "                     validation_data=(X_test,y_test))\n",
        "    \n",
        "    models.append(model)\n",
        "    fithists.append(hist)\n",
        "    \n",
        "    print(\"Done\")"
      ],
      "execution_count": 0,
      "outputs": [
        {
          "output_type": "stream",
          "text": [
            "Training on fold 1...\n",
            "Train on 3247806 samples, validate on 1391918 samples\n",
            "Epoch 1/10\n",
            "3247806/3247806 [==============================] - 14s 4us/step - loss: 0.7119 - acc: 0.9399 - precision: 5.3882e-05 - recall: 0.0177 - fvalue: 1.0724e-04 - val_loss: 0.3854 - val_acc: 0.9888 - val_precision: 0.0016 - val_recall: 0.0736 - val_fvalue: 0.0031\n",
            "Epoch 2/10\n",
            "3247806/3247806 [==============================] - 13s 4us/step - loss: 0.4075 - acc: 0.8463 - precision: 2.1888e-04 - recall: 0.0706 - fvalue: 4.3395e-04 - val_loss: 0.1350 - val_acc: 0.9429 - val_precision: 3.6218e-04 - val_recall: 0.0853 - val_fvalue: 7.2128e-04\n",
            "Epoch 3/10\n",
            "3247806/3247806 [==============================] - 13s 4us/step - loss: 0.2339 - acc: 0.9014 - precision: 2.7531e-04 - recall: 0.0744 - fvalue: 5.4771e-04 - val_loss: 0.1561 - val_acc: 0.9381 - val_precision: 3.3849e-04 - val_recall: 0.0853 - val_fvalue: 6.7428e-04\n",
            "Epoch 4/10\n",
            "3247806/3247806 [==============================] - 13s 4us/step - loss: 0.1788 - acc: 0.9396 - precision: 4.5534e-04 - recall: 0.0801 - fvalue: 9.0389e-04 - val_loss: 0.1117 - val_acc: 0.9567 - val_precision: 4.8162e-04 - val_recall: 0.0853 - val_fvalue: 9.5780e-04\n",
            "Epoch 5/10\n",
            "3247806/3247806 [==============================] - 13s 4us/step - loss: 0.1394 - acc: 0.9493 - precision: 6.2024e-04 - recall: 0.0731 - fvalue: 0.0012 - val_loss: 0.0344 - val_acc: 0.9868 - val_precision: 0.0015 - val_recall: 0.0824 - val_fvalue: 0.0030\n",
            "Epoch 6/10\n",
            "3247806/3247806 [==============================] - 13s 4us/step - loss: 0.1682 - acc: 0.9384 - precision: 4.8213e-04 - recall: 0.0782 - fvalue: 9.5654e-04 - val_loss: 0.0440 - val_acc: 0.9847 - val_precision: 0.0012 - val_recall: 0.0795 - val_fvalue: 0.0024\n",
            "Epoch 7/10\n",
            "3247806/3247806 [==============================] - 13s 4us/step - loss: 0.1285 - acc: 0.9658 - precision: 7.5327e-04 - recall: 0.0807 - fvalue: 0.0015 - val_loss: 0.0689 - val_acc: 0.9776 - val_precision: 9.3039e-04 - val_recall: 0.0853 - val_fvalue: 0.0018\n",
            "Epoch 8/10\n",
            "3247806/3247806 [==============================] - 13s 4us/step - loss: 0.2733 - acc: 0.9517 - precision: 4.8973e-04 - recall: 0.0787 - fvalue: 9.7150e-04 - val_loss: 0.1804 - val_acc: 0.9417 - val_precision: 3.5519e-04 - val_recall: 0.0853 - val_fvalue: 7.0742e-04\n",
            "Epoch 9/10\n",
            "3247806/3247806 [==============================] - 13s 4us/step - loss: 0.1033 - acc: 0.9644 - precision: 6.9907e-04 - recall: 0.0820 - fvalue: 0.0014 - val_loss: 0.1834 - val_acc: 0.9455 - val_precision: 3.8225e-04 - val_recall: 0.0853 - val_fvalue: 7.6107e-04\n",
            "Epoch 10/10\n",
            "3247806/3247806 [==============================] - 13s 4us/step - loss: 0.1395 - acc: 0.9660 - precision: 6.7413e-04 - recall: 0.0795 - fvalue: 0.0013 - val_loss: 0.1886 - val_acc: 0.9464 - val_precision: 3.8750e-04 - val_recall: 0.0853 - val_fvalue: 7.7148e-04\n",
            "Done\n",
            "Training on fold 2...\n",
            "Train on 3247806 samples, validate on 1391918 samples\n",
            "Epoch 1/10\n",
            "3247806/3247806 [==============================] - 13s 4us/step - loss: 1.0590 - acc: 0.9824 - precision: 4.6446e-04 - recall: 0.0076 - fvalue: 7.1782e-04 - val_loss: 0.2895 - val_acc: 0.9091 - val_precision: 1.4230e-04 - val_recall: 0.0422 - val_fvalue: 2.8350e-04\n",
            "Epoch 2/10\n",
            "3247806/3247806 [==============================] - 13s 4us/step - loss: 0.5885 - acc: 0.8143 - precision: 9.6683e-05 - recall: 0.0568 - fvalue: 1.9285e-04 - val_loss: 1.0984 - val_acc: 0.2366 - val_precision: 2.7308e-05 - val_recall: 0.0730 - val_fvalue: 5.4593e-05\n",
            "Epoch 3/10\n",
            "3247806/3247806 [==============================] - 13s 4us/step - loss: 0.3855 - acc: 0.7608 - precision: 9.9455e-05 - recall: 0.0731 - fvalue: 1.9851e-04 - val_loss: 0.1299 - val_acc: 0.9460 - val_precision: 3.5495e-04 - val_recall: 0.0672 - val_fvalue: 7.0565e-04\n",
            "Epoch 4/10\n",
            "3247806/3247806 [==============================] - 13s 4us/step - loss: 0.4156 - acc: 0.8694 - precision: 1.9944e-04 - recall: 0.0744 - fvalue: 3.9736e-04 - val_loss: 0.5068 - val_acc: 0.7918 - val_precision: 1.0097e-04 - val_recall: 0.0730 - val_fvalue: 2.0162e-04\n",
            "Epoch 5/10\n",
            "3247806/3247806 [==============================] - 13s 4us/step - loss: 0.2814 - acc: 0.8925 - precision: 2.3980e-04 - recall: 0.0744 - fvalue: 4.7755e-04 - val_loss: 0.1723 - val_acc: 0.9459 - val_precision: 3.8238e-04 - val_recall: 0.0730 - val_fvalue: 7.6027e-04\n",
            "Epoch 6/10\n",
            "3247806/3247806 [==============================] - 13s 4us/step - loss: 0.1764 - acc: 0.9265 - precision: 3.2743e-04 - recall: 0.0769 - fvalue: 6.5125e-04 - val_loss: 0.1045 - val_acc: 0.9662 - val_precision: 6.0093e-04 - val_recall: 0.0730 - val_fvalue: 0.0012\n",
            "Epoch 7/10\n",
            "3247806/3247806 [==============================] - 13s 4us/step - loss: 0.0838 - acc: 0.9661 - precision: 6.9924e-04 - recall: 0.0820 - fvalue: 0.0014 - val_loss: 0.0770 - val_acc: 0.9738 - val_precision: 7.7253e-04 - val_recall: 0.0730 - val_fvalue: 0.0015\n",
            "Epoch 8/10\n",
            "3247806/3247806 [==============================] - 13s 4us/step - loss: 0.1069 - acc: 0.9636 - precision: 8.2984e-04 - recall: 0.0788 - fvalue: 0.0016 - val_loss: 0.0237 - val_acc: 0.9925 - val_precision: 0.0023 - val_recall: 0.0642 - val_fvalue: 0.0045\n",
            "Epoch 9/10\n",
            "3247806/3247806 [==============================] - 13s 4us/step - loss: 0.1370 - acc: 0.9615 - precision: 0.0010 - recall: 0.0807 - fvalue: 0.0020 - val_loss: 0.0540 - val_acc: 0.9824 - val_precision: 0.0011 - val_recall: 0.0701 - val_fvalue: 0.0022\n",
            "Epoch 10/10\n",
            "3247806/3247806 [==============================] - 13s 4us/step - loss: 0.1482 - acc: 0.9550 - precision: 6.5757e-04 - recall: 0.0807 - fvalue: 0.0013 - val_loss: 0.0493 - val_acc: 0.9849 - val_precision: 0.0013 - val_recall: 0.0730 - val_fvalue: 0.0026\n",
            "Done\n"
          ],
          "name": "stdout"
        }
      ]
    },
    {
      "cell_type": "markdown",
      "metadata": {
        "id": "kcHQ0JPQpsUT",
        "colab_type": "text"
      },
      "source": [
        "## Visualizing Results"
      ]
    },
    {
      "cell_type": "markdown",
      "metadata": {
        "id": "QJrD3jVCpsUU",
        "colab_type": "text"
      },
      "source": [
        "### Training History"
      ]
    },
    {
      "cell_type": "code",
      "metadata": {
        "id": "pAQ91fKlpsUU",
        "colab_type": "code",
        "colab": {}
      },
      "source": [
        "def loss_rate_plot(hist, ax, label='',legend=False):\n",
        "    ax.plot(hist.history['loss'])\n",
        "    ax.plot(hist.history['val_loss'])\n",
        "    if label=='':\n",
        "        ax.set_title(\"Loss Rate\", size=14)\n",
        "    else:\n",
        "        ax.set_title(\"Loss Rate (%s)\"%(label), size=14)\n",
        "    ax.set_ylabel('Loss')\n",
        "    ax.set_xlabel('Training interations')\n",
        "    if legend:\n",
        "        ax.legend(['Training', 'Validation'], loc='upper right')\n",
        "\n",
        "def accuracy_rate_plot(hist,ax,label='',legend=False):\n",
        "    ax.plot([j*100 for j in hist.history['acc']])\n",
        "    ax.plot([j*100 for j in hist.history['val_acc']])\n",
        "    if label=='':\n",
        "        ax.set_title(\"Accuracy\", size=14)\n",
        "    else:\n",
        "        ax.set_title(\"Accuracy (%s)\"%(label), size=14)\n",
        "    ax.set_ylabel('Accuracy %')\n",
        "    ax.set_xlabel('Training iterations')\n",
        "    if legend:\n",
        "        ax.legend(['Training','Validation'], loc='lower right')\n",
        "\n",
        "def precision_rate_plot(hist,ax,label='',legend=False):\n",
        "    ax.plot([j*100 for j in hist.history['precision']])\n",
        "    ax.plot([j*100 for j in hist.history['val_precision']])\n",
        "    if label=='':\n",
        "        ax.set_title(\"Precision\", size=14)\n",
        "    else:\n",
        "        ax.set_title(\"Precision (%s)\"%(label), size=14)\n",
        "    ax.set_ylabel('Precision %')\n",
        "    ax.set_xlabel('Training iterations')\n",
        "    if legend:\n",
        "        ax.legend(['Training','Validation'], loc='lower right')\n",
        "\n",
        "def recall_rate_plot(hist,ax,label='',legend=False):\n",
        "    ax.plot([j*100 for j in hist.history['recall']])\n",
        "    ax.plot([j*100 for j in hist.history['val_recall']])\n",
        "    if label=='':\n",
        "        ax.set_title(\"Recall\", size=14)\n",
        "    else:\n",
        "        ax.set_title(\"Recall (%s)\"%(label), size=14)\n",
        "    ax.set_ylabel('Recall %')\n",
        "    ax.set_xlabel('Training iterations')\n",
        "    if legend:\n",
        "        ax.legend(['Training','Validation'], loc='lower right')"
      ],
      "execution_count": 0,
      "outputs": []
    },
    {
      "cell_type": "code",
      "metadata": {
        "id": "piXRorMUpsUZ",
        "colab_type": "code",
        "outputId": "f0b2362e-e939-47c5-91eb-df73e9c3d392",
        "colab": {
          "base_uri": "https://localhost:8080/",
          "height": 865
        }
      },
      "source": [
        "for i in range(shuffle.get_n_splits()):\n",
        "    \n",
        "    fig, [[ax1,ax2],[ax3,ax4]] = plt.subplots(2,2, figsize=(8,6))\n",
        "\n",
        "    loss_rate_plot(fithists[i], ax1, legend=True, label=\"Fold %d\"%(i+1))\n",
        "    accuracy_rate_plot(fithists[i], ax2, label=\"Fold %d\"%(i+1))\n",
        "    precision_rate_plot(fithists[i], ax3, label=\"Fold %d\"%(i+1))\n",
        "    recall_rate_plot(fithists[i], ax4, label=\"Fold %d\"%(i+1))\n",
        "\n",
        "    fig.tight_layout()\n",
        "    \n",
        "plt.show()"
      ],
      "execution_count": 0,
      "outputs": [
        {
          "output_type": "display_data",
          "data": {
            "image/png": "iVBORw0KGgoAAAANSUhEUgAAAjgAAAGoCAYAAABL+58oAAAABHNCSVQICAgIfAhkiAAAAAlwSFlz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\nrQXaDEQD9YHdxcRRE8gq4vXDQPdijunAz795/Q