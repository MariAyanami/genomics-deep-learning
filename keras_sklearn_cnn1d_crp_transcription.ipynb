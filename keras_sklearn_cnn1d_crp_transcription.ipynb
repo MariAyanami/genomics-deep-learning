{
  "nbformat": 4,
  "nbformat_minor": 0,
  "metadata": {
    "colab": {
      "name": "Copy of keras-sklearn_cnn1d_crp_transcription.ipynb",
      "version": "0.3.2",
      "provenance": [],
      "collapsed_sections": [],
      "include_colab_link": true
    },
    "language_info": {
      "codemirror_mode": {
        "name": "ipython",
        "version": 3
      },
      "file_extension": ".py",
      "mimetype": "text/x-python",
      "name": "python",
      "nbconvert_exporter": "python",
      "pygments_lexer": "ipython3",
      "version": "3.6.7"
    },
    "kernelspec": {
      "display_name": "Python 3",
      "language": "python",
      "name": "python3"
    },
    "accelerator": "GPU"
  },
  "cells": [
    {
      "cell_type": "markdown",
      "metadata": {
        "id": "view-in-github",
        "colab_type": "text"
      },
      "source": [
        "<a href=\"https://colab.research.google.com/github/charlesreid1/deep-learning-genomics/blob/master/keras_sklearn_cnn1d_crp_transcription.ipynb\" target=\"_parent\"><img src=\"https://colab.research.google.com/assets/colab-badge.svg\" alt=\"Open In Colab\"/></a>"
      ]
    },
    {
      "cell_type": "markdown",
      "metadata": {
        "colab_type": "text",
        "id": "JHAuCkB-Dyvx"
      },
      "source": [
        "# Keras and Sklearn for Deep Learning Genomics\n",
        "\n",
        "## Using Convolutional Neural Nets to Predict CRP Transcription Factor Binding Sites\n",
        "\n",
        "This notebook continues with the example from a prior notebook, namely, the problem of predicting transcription factor binding sites in DNA. This type of neural network operates on 1D sequence data (DNA nucleotides), so we build a 1D convolutional neural network to perform classification of DNA (is this string of nucleotides a transcription factor binding site or not).\n",
        "\n",
        "We construct a 1D CNN model in this notebook, then perform manual cross-validation on each model and assemble statistics to assess the cross-validation results."
      ]
    },
    {
      "cell_type": "markdown",
      "metadata": {
        "colab_type": "text",
        "id": "bAl5v_fEEz8Y"
      },
      "source": [
        "## Import Libraries"
      ]
    },
    {
      "cell_type": "code",
      "metadata": {
        "colab_type": "code",
        "id": "62b9p_xalIIH",
        "outputId": "1bfd68fb-c51b-4ce0-8f95-5d26a2ce99e1",
        "colab": {
          "base_uri": "https://localhost:8080/",
          "height": 34
        }
      },
      "source": [
        "import tensorflow as tf\n",
        "tf.test.gpu_device_name()"
      ],
      "execution_count": 0,
      "outputs": [
        {
          "output_type": "execute_result",
          "data": {
            "text/plain": [
              "'/device:GPU:0'"
            ]
          },
          "metadata": {
            "tags": []
          },
          "execution_count": 1
        }
      ]
    },
    {
      "cell_type": "code",
      "metadata": {
        "colab_type": "code",
        "id": "4gsmsa71Dv1k",
        "colab": {}
      },
      "source": [
        "import os\n",
        "import math\n",
        "import numpy as np\n",
        "import numpy\n",
        "import matplotlib.pyplot as plt\n",
        "import seaborn as sns\n",
        "import pandas\n",
        "import joblib"
      ],
      "execution_count": 0,
      "outputs": []
    },
    {
      "cell_type": "code",
      "metadata": {
        "id": "pDKOca34psQB",
        "colab_type": "code",
        "colab": {}
      },
      "source": [
        "from scipy import interp"
      ],
      "execution_count": 0,
      "outputs": []
    },
    {
      "cell_type": "code",
      "metadata": {
        "id": "elpTR8POpsQT",
        "colab_type": "code",
        "outputId": "c6d7856d-df3e-4f03-80e0-14222bb23b05",
        "colab": {
          "base_uri": "https://localhost:8080/",
          "height": 191
        }
      },
      "source": [
        "!pip install screed"
      ],
      "execution_count": 0,
      "outputs": [
        {
          "output_type": "stream",
          "text": [
            "Collecting screed\n",
            "\u001b[?25l  Downloading https://files.pythonhosted.org/packages/e7/7a/b5f16a9861ac497b346b2f5205e8dc35103eeba1e6fdffa114c47e0b35ba/screed-1.0.tar.gz (130kB)\n",
            "\r\u001b[K     |██▌                             | 10kB 20.0MB/s eta 0:00:01\r\u001b[K     |█████                           | 20kB 1.7MB/s eta 0:00:01\r\u001b[K     |███████▌                        | 30kB 2.5MB/s eta 0:00:01\r\u001b[K     |██████████                      | 40kB 1.7MB/s eta 0:00:01\r\u001b[K     |████████████▌                   | 51kB 2.1MB/s eta 0:00:01\r\u001b[K     |███████████████                 | 61kB 2.5MB/s eta 0:00:01\r\u001b[K     |█████████████████▋              | 71kB 2.8MB/s eta 0:00:01\r\u001b[K     |████████████████████            | 81kB 3.2MB/s eta 0:00:01\r\u001b[K     |██████████████████████▋         | 92kB 3.6MB/s eta 0:00:01\r\u001b[K     |█████████████████████████       | 102kB 2.7MB/s eta 0:00:01\r\u001b[K     |███████████████████████████▋    | 112kB 2.7MB/s eta 0:00:01\r\u001b[K     |██████████████████████████████▏ | 122kB 2.7MB/s eta 0:00:01\r\u001b[K     |████████████████████████████████| 133kB 2.7MB/s \n",
            "\u001b[?25hRequirement already satisfied: bz2file in /usr/local/lib/python3.6/dist-packages (from screed) (0.98)\n",
            "Building wheels for collected packages: screed\n",
            "  Building wheel for screed (setup.py) ... \u001b[?25l\u001b[?25hdone\n",
            "  Stored in directory: /root/.cache/pip/wheels/1f/92/73/33877695d382ad5f342aaa8c8835d83895766b39bf6989f350\n",
            "Successfully built screed\n",
            "Installing collected packages: screed\n",
            "Successfully installed screed-1.0\n"
          ],
          "name": "stdout"
        }
      ]
    },
    {
      "cell_type": "code",
      "metadata": {
        "colab_type": "code",
        "id": "1fhj_7ZaEPij",
        "colab": {}
      },
      "source": [
        "# sklearn\n",
        "from sklearn.utils.class_weight import compute_class_weight\n",
        "from sklearn.utils.class_weight import compute_sample_weight\n",
        "from sklearn.metrics import roc_curve, auc, roc_auc_score\n",
        "from sklearn.metrics import confusion_matrix\n",
        "from sklearn.utils.multiclass import unique_labels\n",
        "from sklearn.model_selection import cross_val_score\n",
        "from sklearn.preprocessing import LabelEncoder\n",
        "from sklearn.model_selection import StratifiedKFold, StratifiedShuffleSplit\n",
        "from sklearn.preprocessing import StandardScaler\n",
        "from sklearn.pipeline import Pipeline"
      ],
      "execution_count": 0,
      "outputs": []
    },
    {
      "cell_type": "code",
      "metadata": {
        "colab_type": "code",
        "id": "VN-bDjOlEQDB",
        "outputId": "37c69bf3-90bc-4986-c408-f656c63c12cf",
        "colab": {
          "base_uri": "https://localhost:8080/",
          "height": 34
        }
      },
      "source": [
        "from keras.wrappers.scikit_learn import KerasClassifier\n",
        "from keras.models import Sequential, Model\n",
        "from keras.layers import Flatten, Embedding, Dense, Dropout, Input, Concatenate\n",
        "from keras.layers import Conv1D, GlobalAveragePooling1D, MaxPooling1D\n",
        "from keras.layers import LeakyReLU\n",
        "import keras"
      ],
      "execution_count": 0,
      "outputs": [
        {
          "output_type": "stream",
          "text": [
            "Using TensorFlow backend.\n"
          ],
          "name": "stderr"
        }
      ]
    },
    {
      "cell_type": "code",
      "metadata": {
        "colab_type": "code",
        "id": "aHkVmJYCEZfT",
        "colab": {}
      },
      "source": [
        "seed = 1729\n",
        "numpy.random.seed(seed)"
      ],
      "execution_count": 0,
      "outputs": []
    },
    {
      "cell_type": "markdown",
      "metadata": {
        "colab_type": "text",
        "id": "ZeBqpoaQcPvk"
      },
      "source": [
        "## Define Useful Keras Metrics"
      ]
    },
    {
      "cell_type": "code",
      "metadata": {
        "colab_type": "code",
        "id": "UpthrvB3cST3",
        "colab": {}
      },
      "source": [
        "# via https://github.com/keras-team/keras/issues/6507#issuecomment-322857357\n",
        "\n",
        "import keras.backend as K\n",
        "\n",
        "def precision(y_true, y_pred):\n",
        "    # Calculate the precision\n",
        "    # clip ensures we're between 0 and 1\n",
        "    # round ensures we're either 0 or 1\n",
        "    true_positives = K.sum(K.round(K.clip(y_true * y_pred, 0, 1)))\n",
        "    predicted_positives = K.sum(K.round(K.clip(y_pred, 0, 1)))\n",
        "    precision = true_positives / (predicted_positives + K.epsilon())\n",
        "    return precision\n",
        "\n",
        "def recall(y_true, y_pred):\n",
        "    # Calculate the recall\n",
        "    # clip ensures we're between 0 and 1\n",
        "    # round ensures we're either 0 or 1\n",
        "    true_positives = K.sum(K.round(K.clip(y_true * y_pred, 0, 1)))\n",
        "    possible_positives = K.sum(K.round(K.clip(y_true, 0, 1)))\n",
        "    recall = true_positives / (possible_positives + K.epsilon())\n",
        "    return recall\n",
        "\n",
        "def fvalue(y_true, y_pred):\n",
        "    # Calculate the F-value\n",
        "    # If there are no true positives, fix the F score at 0 like sklearn.\n",
        "    if K.sum(K.round(K.clip(y_true, 0, 1))) == 0:\n",
        "        return 0\n",
        "    p = precision(y_true,y_pred)\n",
        "    r = recall(y_true,y_pred)\n",
        "    fvalue = (2 * p * r)/(p + r + K.epsilon())\n",
        "    return fvalue\n"
      ],
      "execution_count": 0,
      "outputs": []
    },
    {
      "cell_type": "markdown",
      "metadata": {
        "colab_type": "text",
        "id": "Yf8K8vRzEx3q"
      },
      "source": [
        "## Load Dataset"
      ]
    },
    {
      "cell_type": "code",
      "metadata": {
        "colab_type": "code",
        "id": "nxrwVCIBEsNJ",
        "outputId": "047e7e10-7de4-4c9d-f41e-366565b9ca06",
        "colab": {
          "base_uri": "https://localhost:8080/",
          "height": 208
        }
      },
      "source": [
        "# grab binding sites from http://arep.med.harvard.edu/ecoli_matrices/dat/crp.dat\n",
        "!wget http://arep.med.harvard.edu/ecoli_matrices/dat/crp.dat"
      ],
      "execution_count": 0,
      "outputs": [
        {
          "output_type": "stream",
          "text": [
            "--2019-07-01 17:49:41--  http://arep.med.harvard.edu/ecoli_matrices/dat/crp.dat\n",
            "Resolving arep.med.harvard.edu (arep.med.harvard.edu)... 134.174.150.51\n",
            "Connecting to arep.med.harvard.edu (arep.med.harvard.edu)|134.174.150.51|:80... connected.\n",
            "HTTP request sent, awaiting response... 200 OK\n",
            "Length: 1966 (1.9K) [text/plain]\n",
            "Saving to: ‘crp.dat’\n",
            "\n",
            "\rcrp.dat               0%[                    ]       0  --.-KB/s               \rcrp.dat             100%[===================>]   1.92K  --.-KB/s    in 0s      \n",
            "\n",
            "2019-07-01 17:49:41 (412 MB/s) - ‘crp.dat’ saved [1966/1966]\n",
            "\n"
          ],
          "name": "stdout"
        }
      ]
    },
    {
      "cell_type": "code",
      "metadata": {
        "colab_type": "code",
        "id": "sEUJnDsbEtQa",
        "outputId": "8f845034-45e9-469e-e928-44ae726327d2",
        "colab": {
          "base_uri": "https://localhost:8080/",
          "height": 69
        }
      },
      "source": [
        "# grab ecoli k12 genome\n",
        "!curl ftp://ftp.ncbi.nlm.nih.gov/genomes/all/GCF/003/627/195/GCF_003627195.1_ASM362719v1/GCF_003627195.1_ASM362719v1_genomic.fna.gz -o ecoli-k12.fna.gz"
      ],
      "execution_count": 0,
      "outputs": [
        {
          "output_type": "stream",
          "text": [
            "  % Total    % Received % Xferd  Average Speed   Time    Time     Time  Current\n",
            "                                 Dload  Upload   Total   Spent    Left  Speed\n",
            "100 1347k  100 1347k    0     0  1935k      0 --:--:-- --:--:-- --:--:-- 1932k\n"
          ],
          "name": "stdout"
        }
      ]
    },
    {
      "cell_type": "code",
      "metadata": {
        "colab_type": "code",
        "id": "KPileDhWZyu5",
        "colab": {}
      },
      "source": [
        "import screed\n",
        "ecoli_genome = list(screed.open('ecoli-k12.fna.gz'))[0].sequence\n",
        "crp_sites = list(screed.open('crp.dat'))"
      ],
      "execution_count": 0,
      "outputs": []
    },
    {
      "cell_type": "code",
      "metadata": {
        "id": "E_jzasLmpsSi",
        "colab_type": "code",
        "colab": {}
      },
      "source": [
        "ecoli_genome = ecoli_genome.upper()"
      ],
      "execution_count": 0,
      "outputs": []
    },
    {
      "cell_type": "markdown",
      "metadata": {
        "id": "mqxVC-UZpsSn",
        "colab_type": "text"
      },
      "source": [
        "## Explore Dataset\n",
        "\n",
        "Below we explore some details of the CRP transcription factor binding site data set that we'll use to train and test the model."
      ]
    },
    {
      "cell_type": "code",
      "metadata": {
        "id": "o-WrQvFQpsSo",
        "colab_type": "code",
        "outputId": "e2361db0-ae77-4936-ed2e-c78edbb134b2",
        "colab": {
          "base_uri": "https://localhost:8080/",
          "height": 52
        }
      },
      "source": [
        "print(\"E. coli genome size: {:,}\".format(len(ecoli_genome)))\n",
        "print(\"Number of CRP binding sites: {:,}\".format(len(crp_sites)))"
      ],
      "execution_count": 0,
      "outputs": [
        {
          "output_type": "stream",
          "text": [
            "E. coli genome size: 4,639,694\n",
            "Number of CRP binding sites: 49\n"
          ],
          "name": "stdout"
        }
      ]
    },
    {
      "cell_type": "code",
      "metadata": {
        "id": "FIkR_DMzpsSz",
        "colab_type": "code",
        "outputId": "77563914-0495-4846-9c13-82a7ea358a27",
        "colab": {
          "base_uri": "https://localhost:8080/",
          "height": 34
        }
      },
      "source": [
        "print(type(ecoli_genome))"
      ],
      "execution_count": 0,
      "outputs": [
        {
          "output_type": "stream",
          "text": [
            "<class 'str'>\n"
          ],
          "name": "stdout"
        }
      ]
    },
    {
      "cell_type": "markdown",
      "metadata": {
        "id": "HLVLPkgvpsS7",
        "colab_type": "text"
      },
      "source": [
        "The E. coli genome is a ~4 MB string and we have 49 known binding sites. We have only \"known positive\" binding sites; we have no \"known negative\" binding sites. In other words, we cannot say that a particular sequence of DNA is _definitely not_ a binding site, we can only say that it is _probably not_ a binding site."
      ]
    },
    {
      "cell_type": "code",
      "metadata": {
        "id": "vFKifmbUpsS9",
        "colab_type": "code",
        "outputId": "4982c42f-3457-4728-f71a-91656c2119a7",
        "colab": {
          "base_uri": "https://localhost:8080/",
          "height": 104
        }
      },
      "source": [
        "crp_sites[:5]"
      ],
      "execution_count": 0,
      "outputs": [
        {
          "output_type": "execute_result",
          "data": {
            "text/plain": [
              "[{'name': 'aldB -18->4', 'sequence': 'attcgtgatagctgtcgtaaag', 'description': ''},\n",
              " {'name': 'ansB 103->125', 'sequence': 'ttttgttacctgcctctaactt', 'description': ''},\n",
              " {'name': 'araB1 109->131', 'sequence': 'aagtgtgacgccgtgcaaataa', 'description': ''},\n",
              " {'name': 'araB2 147->169', 'sequence': 'tgccgtgattatagacactttt', 'description': ''},\n",
              " {'name': 'cdd 1 107->129', 'sequence': 'atttgcgatgcgtcgcgcattt', 'description': ''}]"
            ]
          },
          "metadata": {
            "tags": []
          },
          "execution_count": 16
        }
      ]
    },
    {
      "cell_type": "markdown",
      "metadata": {
        "id": "NEmv-S5MpsTC",
        "colab_type": "text"
      },
      "source": [
        "### Generating Positive Examples"
      ]
    },
    {
      "cell_type": "code",
      "metadata": {
        "id": "4JjrMKCKpsTE",
        "colab_type": "code",
        "outputId": "299f3577-5a91-4379-8286-de9d4551c70b",
        "colab": {
          "base_uri": "https://localhost:8080/",
          "height": 52
        }
      },
      "source": [
        "crp_kmers = []\n",
        "for site in crp_sites:\n",
        "    crp_kmers.append(site['sequence'].upper())\n",
        "\n",
        "len_crp = len(crp_kmers[0]) # all CRP sites are the same length\n",
        "print('Size of CRP binding site:', len_crp)\n",
        "print('Number of known good CRP binding sites:', len(crp_kmers))"
      ],
      "execution_count": 0,
      "outputs": [
        {
          "output_type": "stream",
          "text": [
            "Size of CRP binding site: 22\n",
            "Number of known good CRP binding sites: 49\n"
          ],
          "name": "stdout"
        }
      ]
    },
    {
      "cell_type": "markdown",
      "metadata": {
        "id": "ySvq0pikpsTI",
        "colab_type": "text"
      },
      "source": [
        "The CRP binding sites are all sequences of 22 nucleotides. We have 49 positive examples. "
      ]
    },
    {
      "cell_type": "markdown",
      "metadata": {
        "id": "Csx1G-BxpsTL",
        "colab_type": "text"
      },
      "source": [
        "### Kmer Orientations and Reverse Complements\n",
        "\n",
        "Normally we would want to think about whether the orientation of the kmer (forward or backward from what is given in the data set we downloaded) matters. However, the CRP t.f. binding sites are all palindromes, so orientation should not matter.\n",
        "\n",
        "However, we _can_ generate additional positive examples by finding the reverse complement of each CRP t.f. binding site kmer."
      ]
    },
    {
      "cell_type": "code",
      "metadata": {
        "id": "pShBOpJbpsTN",
        "colab_type": "code",
        "outputId": "8d336449-e293-432b-a1ba-a93f873d977e",
        "colab": {
          "base_uri": "https://localhost:8080/",
          "height": 34
        }
      },
      "source": [
        "TRANSLATION = {\"A\": \"T\", \"C\": \"G\", \"G\": \"C\", \"T\": \"A\"}\n",
        "\n",
        "def revc(pattern):\n",
        "    return \"\".join(TRANSLATION[c] for c in reversed(pattern))\n",
        "\n",
        "for k in range(len(crp_kmers)):\n",
        "    crp_kmers.append(revc(crp_kmers[k]))\n",
        "\n",
        "print('Number of known good CRP binding sites (with rev. complements):', len(crp_kmers))"
      ],
      "execution_count": 0,
      "outputs": [
        {
          "output_type": "stream",
          "text": [
            "Number of known good CRP binding sites (with rev. complements): 98\n"
          ],
          "name": "stdout"
        }
      ]
    },
    {
      "cell_type": "markdown",
      "metadata": {
        "id": "pan4pm0kpsTU",
        "colab_type": "text"
      },
      "source": [
        "### Generating Negative Examples\n",
        "\n",
        "Next, we can generate negative examples (ignoring the fact mentioned above, that we can't say with certainty that these are negative examples) by generating 22-mers from the E. coli genome.\n",
        "\n",
        "We will generate a **slim** and a **full** data set. The slim data set will use the first 100,000 22-mers. The full data set will use the entire E. coli genome."
      ]
    },
    {
      "cell_type": "code",
      "metadata": {
        "id": "5Pi8tsAspsTU",
        "colab_type": "code",
        "colab": {}
      },
      "source": [
        "do_slim = False"
      ],
      "execution_count": 0,
      "outputs": []
    },
    {
      "cell_type": "code",
      "metadata": {
        "id": "0OwI9tXDpsTb",
        "colab_type": "code",
        "colab": {}
      },
      "source": [
        "if do_slim:\n",
        "    \n",
        "    N_NEGATIVES=int(1e5) # 100,000 negative binding sites\n",
        "\n",
        "    notcrp_kmers_slim = []\n",
        "    for n in range(N_NEGATIVES):\n",
        "        kmer = ecoli_genome[n:n + len_crp]\n",
        "        if kmer not in crp_kmers:\n",
        "            notcrp_kmers_slim.append(kmer)\n",
        "\n",
        "    print('Gathered {:,} negative binding sites'.format(len(notcrp_kmers_slim)))"
      ],
      "execution_count": 0,
      "outputs": []
    },
    {
      "cell_type": "code",
      "metadata": {
        "id": "urGHnJxPpsTi",
        "colab_type": "code",
        "outputId": "68eaa094-2161-41d0-d004-0dbf22ab8230",
        "colab": {
          "base_uri": "https://localhost:8080/",
          "height": 34
        }
      },
      "source": [
        "if not do_slim:\n",
        "    \n",
        "    notcrp_kmers_full = []\n",
        "    overlap = len(ecoli_genome)-len_crp+1\n",
        "    for n in range(overlap):\n",
        "        kmer = ecoli_genome[n:n + len_crp]\n",
        "        if kmer not in crp_kmers:\n",
        "            notcrp_kmers_full.append(kmer)\n",
        "\n",
        "    print('Gathered {:,} negative binding sites'.format(len(notcrp_kmers_full)))"
      ],
      "execution_count": 0,
      "outputs": [
        {
          "output_type": "stream",
          "text": [
            "Gathered 4,639,626 negative binding sites\n"
          ],
          "name": "stdout"
        }
      ]
    },
    {
      "cell_type": "code",
      "metadata": {
        "id": "eTlkMMxEpsTn",
        "colab_type": "code",
        "colab": {}
      },
      "source": [
        "if do_slim:\n",
        "    notcrp_kmers = notcrp_kmers_slim\n",
        "else:\n",
        "    notcrp_kmers = notcrp_kmers_full"
      ],
      "execution_count": 0,
      "outputs": []
    },
    {
      "cell_type": "markdown",
      "metadata": {
        "id": "w224nBATpsTt",
        "colab_type": "text"
      },
      "source": [
        "A brief comment on dealing with uncertainty in the positive and negative cases: this is a source of uncertainty inherent to the system being modeled - it is not something that can be overcome with a better model. Training a better model requires more information, in the form of probabilities - the probability that a kmer is a negative example. In the absence of additional information, such as an estimate of the number of missing positive examples, we have to make assumptions.\n",
        "\n",
        "Ultimately the output of the model is a probabilistic guess about which class a given kmer belongs in - positive (yes, this is a CRP t.f. site) or negative (no, this is not a CRP t.f. site). We are looking for places where we can't quite rule something out based on the data we have, and the classification system is **more sensitive** to the training data set."
      ]
    },
    {
      "cell_type": "markdown",
      "metadata": {
        "id": "DBZYkihqpsTu",
        "colab_type": "text"
      },
      "source": [
        "### One-Hot Encoding of Dataset\n",
        "\n",
        "To use the kmers that compose our positive and negative exmaples, we need to one-hot encode the DNA sequences."
      ]
    },
    {
      "cell_type": "code",
      "metadata": {
        "id": "U4UH7ytupsTx",
        "colab_type": "code",
        "colab": {}
      },
      "source": [
        "# do janky one-hot encoding\n",
        "oh = {}\n",
        "oh['A'] = [1, 0, 0, 0]\n",
        "oh['C'] = [0, 1, 0, 0]\n",
        "oh['G'] = [0, 0, 1, 0]\n",
        "oh['T'] = [0, 0, 0, 1]\n",
        "\n",
        "X = []\n",
        "y = []\n",
        "\n",
        "# First encode the positive examples\n",
        "\n",
        "for site in crp_kmers:\n",
        "    encoded_site = []\n",
        "    for c in site:\n",
        "        encoded_site.append(oh[c])\n",
        "    \n",
        "    X.append(encoded_site)\n",
        "    y.append([1])\n",
        "        \n",
        "\n",
        "for site in notcrp_kmers:\n",
        "    encoded_site = []\n",
        "    for c in site:\n",
        "        encoded_site.append(oh[c])\n",
        "    \n",
        "    X.append(encoded_site)\n",
        "    y.append([0])"
      ],
      "execution_count": 0,
      "outputs": []
    },
    {
      "cell_type": "code",
      "metadata": {
        "id": "MfuNWJr3psT2",
        "colab_type": "code",
        "outputId": "cb762d77-b760-4985-f0fd-9e1edbaae67a",
        "colab": {
          "base_uri": "https://localhost:8080/",
          "height": 52
        }
      },
      "source": [
        "# Setting the dtype can save us some space\n",
        "X = np.array(X, dtype=np.int8)\n",
        "y = np.array(y, dtype=np.int8)\n",
        "\n",
        "print(np.shape(X))\n",
        "print(np.shape(y))"
      ],
      "execution_count": 0,
      "outputs": [
        {
          "output_type": "stream",
          "text": [
            "(4639724, 22, 4)\n",
            "(4639724, 1)\n"
          ],
          "name": "stdout"
        }
      ]
    },
    {
      "cell_type": "code",
      "metadata": {
        "id": "utr6E2rVpsT7",
        "colab_type": "code",
        "outputId": "49d4a401-884b-428b-d053-f2a7e03d0bb2",
        "colab": {
          "base_uri": "https://localhost:8080/",
          "height": 52
        }
      },
      "source": [
        "print(type(X[0][0][0]))\n",
        "print(type(y[0][0]))"
      ],
      "execution_count": 0,
      "outputs": [
        {
          "output_type": "stream",
          "text": [
            "<class 'numpy.int8'>\n",
            "<class 'numpy.int8'>\n"
          ],
          "name": "stdout"
        }
      ]
    },
    {
      "cell_type": "code",
      "metadata": {
        "id": "5OO3CY13psT_",
        "colab_type": "code",
        "outputId": "ae178a0a-517c-4c80-9a0a-1acac3589785",
        "colab": {
          "base_uri": "https://localhost:8080/",
          "height": 34
        }
      },
      "source": [
        "pos = sum(y==1)\n",
        "neg = sum(y==0)\n",
        "print(\"Percent of examples that are positive: %0.4f%%\"%(100*pos/(pos+neg)))"
      ],
      "execution_count": 0,
      "outputs": [
        {
          "output_type": "stream",
          "text": [
            "Percent of examples that are positive: 0.0021%\n"
          ],
          "name": "stdout"
        }
      ]
    },
    {
      "cell_type": "markdown",
      "metadata": {
        "id": "lBKhyxu3psUE",
        "colab_type": "text"
      },
      "source": [
        "### Computing Class and Sample Weights\n",
        "\n",
        "Because we are dealing with a highly imbalanced data set, we should use class weights to weight the positive examples more heavily, so the neural network doesn't learn to simply make negative preditions all the time.\n",
        "\n",
        "Class weights are easier to deal with and apply the same weight to all instances of a given class.\n",
        "\n",
        "Sample weights assign a different weight to every piece of input data. These are more expensive and consume space, but some scikit-learn functions can only accept sample weights, not class weights."
      ]
    },
    {
      "cell_type": "code",
      "metadata": {
        "id": "yblu-kt4psUE",
        "colab_type": "code",
        "colab": {}
      },
      "source": [
        "# Compute class weights:\n",
        "classes = np.unique(y)\n",
        "labels = np.squeeze(y)\n",
        "weights = compute_class_weight('balanced',classes,labels)\n",
        "\n",
        "class_weights = {}\n",
        "for k,wt in zip(classes,weights):\n",
        "    class_weights[k] = wt\n",
        "\n",
        "sample_weights = []\n",
        "for yi in y:\n",
        "    k = yi[0]\n",
        "    sample_weights.append([class_weights[k]])\n",
        "\n",
        "sample_weights = np.array(sample_weights)"
      ],
      "execution_count": 0,
      "outputs": []
    },
    {
      "cell_type": "markdown",
      "metadata": {
        "id": "yXkhyviepsUH",
        "colab_type": "text"
      },
      "source": [
        "## Performing Stratified K-Fold Validation\n",
        "\n",
        "Now we have all input and output data for training the neural network model in the variables X and y. We can use scikit-learn to create testing-training splits that maintain a balance between positive and negative examples. \n",
        "\n",
        "* First, we write a function to create a model (independent of input/output data).\n",
        "* Second, we perform k-fold validation, creating a new model each time. We create new stratified, shuffled testing-training splits from X and y each time we do a new cross-validation."
      ]
    },
    {
      "cell_type": "code",
      "metadata": {
        "id": "NYhqXgV-psUH",
        "colab_type": "code",
        "colab": {}
      },
      "source": [
        "def create_baseline():\n",
        "    \"\"\"Create and return a baseline 1D convolutional neural net model.\n",
        "    \"\"\"\n",
        "    # DNA sequence alphabet size\n",
        "    n_features = 4\n",
        "    seq_length = len_crp\n",
        "    convolution_window = 25\n",
        "    n_filters = 16\n",
        "    \n",
        "    # construct model\n",
        "    model = Sequential()\n",
        "    \n",
        "    # Layer 1\n",
        "    model.add(Conv1D(n_filters, convolution_window,\n",
        "                     activation='relu',\n",
        "                     padding='same',\n",
        "                     kernel_initializer='normal',\n",
        "                     input_shape=(seq_length, n_features)))\n",
        "    \n",
        "    model.add(Dropout(0.5))\n",
        "    \n",
        "    # Layer 2\n",
        "    model.add(Conv1D(n_filters, convolution_window,\n",
        "                     activation='relu', \n",
        "                     padding='same',\n",
        "                     kernel_initializer='normal'))\n",
        "    \n",
        "    model.add(Dropout(0.5))\n",
        "    \n",
        "    # Layer 3\n",
        "    model.add(Conv1D(n_filters, convolution_window,\n",
        "                     activation='relu', \n",
        "                     padding='same',\n",
        "                     kernel_initializer='normal'))\n",
        "    \n",
        "    model.add(Dropout(0.5))\n",
        "    \n",
        "    # Flatten\n",
        "    model.add(Flatten())\n",
        "    \n",
        "    # Shrink to 1 neuron for 1 class (binary) classification\n",
        "    model.add(Dense(1, kernel_initializer='normal', activation='sigmoid'))\n",
        "    \n",
        "    model.compile(loss='binary_crossentropy',\n",
        "                  optimizer='adam',\n",
        "                  sample_weight_mode=None,\n",
        "                  metrics=['accuracy',\n",
        "                           precision,\n",
        "                           recall,\n",
        "                           fvalue])\n",
        "    \n",
        "    return model"
      ],
      "execution_count": 0,
      "outputs": []
    },
    {
      "cell_type": "code",
      "metadata": {
        "id": "opGkpmx0psUK",
        "colab_type": "code",
        "outputId": "06979b62-aa23-46df-aaff-37eb74dac940",
        "colab": {
          "base_uri": "https://localhost:8080/",
          "height": 766
        }
      },
      "source": [
        "model = create_baseline()\n",
        "model.summary()"
      ],
      "execution_count": 0,
      "outputs": [
        {
          "output_type": "stream",
          "text": [
            "WARNING: Logging before flag parsing goes to stderr.\n",
            "W0701 17:53:10.240930 140281446127488 deprecation_wrapper.py:119] From /usr/local/lib/python3.6/dist-packages/keras/backend/tensorflow_backend.py:74: The name tf.get_default_graph is deprecated. Please use tf.compat.v1.get_default_graph instead.\n",
            "\n",
            "W0701 17:53:10.247670 140281446127488 deprecation_wrapper.py:119] From /usr/local/lib/python3.6/dist-packages/keras/backend/tensorflow_backend.py:517: The name tf.placeholder is deprecated. Please use tf.compat.v1.placeholder instead.\n",
            "\n",
            "W0701 17:53:10.257047 140281446127488 deprecation_wrapper.py:119] From /usr/local/lib/python3.6/dist-packages/keras/backend/tensorflow_backend.py:4115: The name tf.random_normal is deprecated. Please use tf.random.normal instead.\n",
            "\n",
            "W0701 17:53:10.291110 140281446127488 deprecation_wrapper.py:119] From /usr/local/lib/python3.6/dist-packages/keras/backend/tensorflow_backend.py:133: The name tf.placeholder_with_default is deprecated. Please use tf.compat.v1.placeholder_with_default instead.\n",
            "\n",
            "W0701 17:53:10.300248 140281446127488 deprecation.py:506] From /usr/local/lib/python3.6/dist-packages/keras/backend/tensorflow_backend.py:3445: calling dropout (from tensorflow.python.ops.nn_ops) with keep_prob is deprecated and will be removed in a future version.\n",
            "Instructions for updating:\n",
            "Please use `rate` instead of `keep_prob`. Rate should be set to `rate = 1 - keep_prob`.\n",
            "W0701 17:53:10.392385 140281446127488 deprecation_wrapper.py:119] From /usr/local/lib/python3.6/dist-packages/keras/optimizers.py:790: The name tf.train.Optimizer is deprecated. Please use tf.compat.v1.train.Optimizer instead.\n",
            "\n",
            "W0701 17:53:10.410834 140281446127488 deprecation_wrapper.py:119] From /usr/local/lib/python3.6/dist-packages/keras/backend/tensorflow_backend.py:3376: The name tf.log is deprecated. Please use tf.math.log instead.\n",
            "\n",
            "W0701 17:53:10.416018 140281446127488 deprecation.py:323] From /usr/local/lib/python3.6/dist-packages/tensorflow/python/ops/nn_impl.py:180: add_dispatch_support.<locals>.wrapper (from tensorflow.python.ops.array_ops) is deprecated and will be removed in a future version.\n",
            "Instructions for updating:\n",
            "Use tf.where in 2.0, which has the same broadcast rule as np.where\n"
          ],
          "name": "stderr"
        },
        {
          "output_type": "stream",
          "text": [
            "_________________________________________________________________\n",
            "Layer (type)                 Output Shape              Param #   \n",
            "=================================================================\n",
            "conv1d_1 (Conv1D)            (None, 22, 16)            1616      \n",
            "_________________________________________________________________\n",
            "dropout_1 (Dropout)          (None, 22, 16)            0         \n",
            "_________________________________________________________________\n",
            "conv1d_2 (Conv1D)            (None, 22, 16)            6416      \n",
            "_________________________________________________________________\n",
            "dropout_2 (Dropout)          (None, 22, 16)            0         \n",
            "_________________________________________________________________\n",
            "conv1d_3 (Conv1D)            (None, 22, 16)            6416      \n",
            "_________________________________________________________________\n",
            "dropout_3 (Dropout)          (None, 22, 16)            0         \n",
            "_________________________________________________________________\n",
            "flatten_1 (Flatten)          (None, 352)               0         \n",
            "_________________________________________________________________\n",
            "dense_1 (Dense)              (None, 1)                 353       \n",
            "=================================================================\n",
            "Total params: 14,801\n",
            "Trainable params: 14,801\n",
            "Non-trainable params: 0\n",
            "_________________________________________________________________\n"
          ],
          "name": "stdout"
        }
      ]
    },
    {
      "cell_type": "markdown",
      "metadata": {
        "id": "Ow5OqdzgpsUN",
        "colab_type": "text"
      },
      "source": [
        "Now we perform k-fold cross validation. We create a new model from scratch and re-train it using a random testing-training split for each validation fold. This gives us a statistical picture of how the model performs on average, and helps identify overfitting."
      ]
    },
    {
      "cell_type": "code",
      "metadata": {
        "id": "cJ0kfWb_psUP",
        "colab_type": "code",
        "outputId": "4400b523-d92a-4a70-cea9-45071c2ffafa",
        "colab": {
          "base_uri": "https://localhost:8080/",
          "height": 836
        }
      },
      "source": [
        "n_epochs = 10\n",
        "n_fold = 2\n",
        "batch_size = 4096\n",
        "include_chromatin_data = True\n",
        "\n",
        "shuffle = StratifiedShuffleSplit(n_splits=n_fold,\n",
        "                                 train_size = 0.7,\n",
        "                                 test_size = 0.3,\n",
        "                                 random_state = seed)\n",
        "\n",
        "models = []\n",
        "fithists = []\n",
        "\n",
        "for ifold, (train_ix, test_ix) in enumerate(shuffle.split(X,y)):\n",
        "    \n",
        "    X_train, X_test = X[train_ix], X[test_ix]\n",
        "    y_train, y_test = y[train_ix], y[test_ix]\n",
        "    \n",
        "    print(\"Training on fold %d...\"%(ifold+1))\n",
        "    \n",
        "    model = create_baseline()\n",
        "    hist = model.fit(X_train, y_train,\n",
        "                     class_weight = class_weights,\n",
        "                     batch_size = batch_size,\n",
        "                     epochs = n_epochs,\n",
        "                     verbose = 1,\n",
        "                     validation_data=(X_test,y_test))\n",
        "    \n",
        "    models.append(model)\n",
        "    fithists.append(hist)\n",
        "    \n",
        "    print(\"Done\")"
      ],
      "execution_count": 0,
      "outputs": [
        {
          "output_type": "stream",
          "text": [
            "Training on fold 1...\n",
            "Train on 3247806 samples, validate on 1391918 samples\n",
            "Epoch 1/10\n",
            "3247806/3247806 [==============================] - 14s 4us/step - loss: 0.7119 - acc: 0.9399 - precision: 5.3882e-05 - recall: 0.0177 - fvalue: 1.0724e-04 - val_loss: 0.3854 - val_acc: 0.9888 - val_precision: 0.0016 - val_recall: 0.0736 - val_fvalue: 0.0031\n",
            "Epoch 2/10\n",
            "3247806/3247806 [==============================] - 13s 4us/step - loss: 0.4075 - acc: 0.8463 - precision: 2.1888e-04 - recall: 0.0706 - fvalue: 4.3395e-04 - val_loss: 0.1350 - val_acc: 0.9429 - val_precision: 3.6218e-04 - val_recall: 0.0853 - val_fvalue: 7.2128e-04\n",
            "Epoch 3/10\n",
            "3247806/3247806 [==============================] - 13s 4us/step - loss: 0.2339 - acc: 0.9014 - precision: 2.7531e-04 - recall: 0.0744 - fvalue: 5.4771e-04 - val_loss: 0.1561 - val_acc: 0.9381 - val_precision: 3.3849e-04 - val_recall: 0.0853 - val_fvalue: 6.7428e-04\n",
            "Epoch 4/10\n",
            "3247806/3247806 [==============================] - 13s 4us/step - loss: 0.1788 - acc: 0.9396 - precision: 4.5534e-04 - recall: 0.0801 - fvalue: 9.0389e-04 - val_loss: 0.1117 - val_acc: 0.9567 - val_precision: 4.8162e-04 - val_recall: 0.0853 - val_fvalue: 9.5780e-04\n",
            "Epoch 5/10\n",
            "3247806/3247806 [==============================] - 13s 4us/step - loss: 0.1394 - acc: 0.9493 - precision: 6.2024e-04 - recall: 0.0731 - fvalue: 0.0012 - val_loss: 0.0344 - val_acc: 0.9868 - val_precision: 0.0015 - val_recall: 0.0824 - val_fvalue: 0.0030\n",
            "Epoch 6/10\n",
            "3247806/3247806 [==============================] - 13s 4us/step - loss: 0.1682 - acc: 0.9384 - precision: 4.8213e-04 - recall: 0.0782 - fvalue: 9.5654e-04 - val_loss: 0.0440 - val_acc: 0.9847 - val_precision: 0.0012 - val_recall: 0.0795 - val_fvalue: 0.0024\n",
            "Epoch 7/10\n",
            "3247806/3247806 [==============================] - 13s 4us/step - loss: 0.1285 - acc: 0.9658 - precision: 7.5327e-04 - recall: 0.0807 - fvalue: 0.0015 - val_loss: 0.0689 - val_acc: 0.9776 - val_precision: 9.3039e-04 - val_recall: 0.0853 - val_fvalue: 0.0018\n",
            "Epoch 8/10\n",
            "3247806/3247806 [==============================] - 13s 4us/step - loss: 0.2733 - acc: 0.9517 - precision: 4.8973e-04 - recall: 0.0787 - fvalue: 9.7150e-04 - val_loss: 0.1804 - val_acc: 0.9417 - val_precision: 3.5519e-04 - val_recall: 0.0853 - val_fvalue: 7.0742e-04\n",
            "Epoch 9/10\n",
            "3247806/3247806 [==============================] - 13s 4us/step - loss: 0.1033 - acc: 0.9644 - precision: 6.9907e-04 - recall: 0.0820 - fvalue: 0.0014 - val_loss: 0.1834 - val_acc: 0.9455 - val_precision: 3.8225e-04 - val_recall: 0.0853 - val_fvalue: 7.6107e-04\n",
            "Epoch 10/10\n",
            "3247806/3247806 [==============================] - 13s 4us/step - loss: 0.1395 - acc: 0.9660 - precision: 6.7413e-04 - recall: 0.0795 - fvalue: 0.0013 - val_loss: 0.1886 - val_acc: 0.9464 - val_precision: 3.8750e-04 - val_recall: 0.0853 - val_fvalue: 7.7148e-04\n",
            "Done\n",
            "Training on fold 2...\n",
            "Train on 3247806 samples, validate on 1391918 samples\n",
            "Epoch 1/10\n",
            "3247806/3247806 [==============================] - 13s 4us/step - loss: 1.0590 - acc: 0.9824 - precision: 4.6446e-04 - recall: 0.0076 - fvalue: 7.1782e-04 - val_loss: 0.2895 - val_acc: 0.9091 - val_precision: 1.4230e-04 - val_recall: 0.0422 - val_fvalue: 2.8350e-04\n",
            "Epoch 2/10\n",
            "3247806/3247806 [==============================] - 13s 4us/step - loss: 0.5885 - acc: 0.8143 - precision: 9.6683e-05 - recall: 0.0568 - fvalue: 1.9285e-04 - val_loss: 1.0984 - val_acc: 0.2366 - val_precision: 2.7308e-05 - val_recall: 0.0730 - val_fvalue: 5.4593e-05\n",
            "Epoch 3/10\n",
            "3247806/3247806 [==============================] - 13s 4us/step - loss: 0.3855 - acc: 0.7608 - precision: 9.9455e-05 - recall: 0.0731 - fvalue: 1.9851e-04 - val_loss: 0.1299 - val_acc: 0.9460 - val_precision: 3.5495e-04 - val_recall: 0.0672 - val_fvalue: 7.0565e-04\n",
            "Epoch 4/10\n",
            "3247806/3247806 [==============================] - 13s 4us/step - loss: 0.4156 - acc: 0.8694 - precision: 1.9944e-04 - recall: 0.0744 - fvalue: 3.9736e-04 - val_loss: 0.5068 - val_acc: 0.7918 - val_precision: 1.0097e-04 - val_recall: 0.0730 - val_fvalue: 2.0162e-04\n",
            "Epoch 5/10\n",
            "3247806/3247806 [==============================] - 13s 4us/step - loss: 0.2814 - acc: 0.8925 - precision: 2.3980e-04 - recall: 0.0744 - fvalue: 4.7755e-04 - val_loss: 0.1723 - val_acc: 0.9459 - val_precision: 3.8238e-04 - val_recall: 0.0730 - val_fvalue: 7.6027e-04\n",
            "Epoch 6/10\n",
            "3247806/3247806 [==============================] - 13s 4us/step - loss: 0.1764 - acc: 0.9265 - precision: 3.2743e-04 - recall: 0.0769 - fvalue: 6.5125e-04 - val_loss: 0.1045 - val_acc: 0.9662 - val_precision: 6.0093e-04 - val_recall: 0.0730 - val_fvalue: 0.0012\n",
            "Epoch 7/10\n",
            "3247806/3247806 [==============================] - 13s 4us/step - loss: 0.0838 - acc: 0.9661 - precision: 6.9924e-04 - recall: 0.0820 - fvalue: 0.0014 - val_loss: 0.0770 - val_acc: 0.9738 - val_precision: 7.7253e-04 - val_recall: 0.0730 - val_fvalue: 0.0015\n",
            "Epoch 8/10\n",
            "3247806/3247806 [==============================] - 13s 4us/step - loss: 0.1069 - acc: 0.9636 - precision: 8.2984e-04 - recall: 0.0788 - fvalue: 0.0016 - val_loss: 0.0237 - val_acc: 0.9925 - val_precision: 0.0023 - val_recall: 0.0642 - val_fvalue: 0.0045\n",
            "Epoch 9/10\n",
            "3247806/3247806 [==============================] - 13s 4us/step - loss: 0.1370 - acc: 0.9615 - precision: 0.0010 - recall: 0.0807 - fvalue: 0.0020 - val_loss: 0.0540 - val_acc: 0.9824 - val_precision: 0.0011 - val_recall: 0.0701 - val_fvalue: 0.0022\n",
            "Epoch 10/10\n",
            "3247806/3247806 [==============================] - 13s 4us/step - loss: 0.1482 - acc: 0.9550 - precision: 6.5757e-04 - recall: 0.0807 - fvalue: 0.0013 - val_loss: 0.0493 - val_acc: 0.9849 - val_precision: 0.0013 - val_recall: 0.0730 - val_fvalue: 0.0026\n",
            "Done\n"
          ],
          "name": "stdout"
        }
      ]
    },
    {
      "cell_type": "markdown",
      "metadata": {
        "id": "kcHQ0JPQpsUT",
        "colab_type": "text"
      },
      "source": [
        "## Visualizing Results"
      ]
    },
    {
      "cell_type": "markdown",
      "metadata": {
        "id": "QJrD3jVCpsUU",
        "colab_type": "text"
      },
      "source": [
        "### Training History"
      ]
    },
    {
      "cell_type": "code",
      "metadata": {
        "id": "pAQ91fKlpsUU",
        "colab_type": "code",
        "colab": {}
      },
      "source": [
        "def loss_rate_plot(hist, ax, label='',legend=False):\n",
        "    ax.plot(hist.history['loss'])\n",
        "    ax.plot(hist.history['val_loss'])\n",
        "    if label=='':\n",
        "        ax.set_title(\"Loss Rate\", size=14)\n",
        "    else:\n",
        "        ax.set_title(\"Loss Rate (%s)\"%(label), size=14)\n",
        "    ax.set_ylabel('Loss')\n",
        "    ax.set_xlabel('Training interations')\n",
        "    if legend:\n",
        "        ax.legend(['Training', 'Validation'], loc='upper right')\n",
        "\n",
        "def accuracy_rate_plot(hist,ax,label='',legend=False):\n",
        "    ax.plot([j*100 for j in hist.history['acc']])\n",
        "    ax.plot([j*100 for j in hist.history['val_acc']])\n",
        "    if label=='':\n",
        "        ax.set_title(\"Accuracy\", size=14)\n",
        "    else:\n",
        "        ax.set_title(\"Accuracy (%s)\"%(label), size=14)\n",
        "    ax.set_ylabel('Accuracy %')\n",
        "    ax.set_xlabel('Training iterations')\n",
        "    if legend:\n",
        "        ax.legend(['Training','Validation'], loc='lower right')\n",
        "\n",
        "def precision_rate_plot(hist,ax,label='',legend=False):\n",
        "    ax.plot([j*100 for j in hist.history['precision']])\n",
        "    ax.plot([j*100 for j in hist.history['val_precision']])\n",
        "    if label=='':\n",
        "        ax.set_title(\"Precision\", size=14)\n",
        "    else:\n",
        "        ax.set_title(\"Precision (%s)\"%(label), size=14)\n",
        "    ax.set_ylabel('Precision %')\n",
        "    ax.set_xlabel('Training iterations')\n",
        "    if legend:\n",
        "        ax.legend(['Training','Validation'], loc='lower right')\n",
        "\n",
        "def recall_rate_plot(hist,ax,label='',legend=False):\n",
        "    ax.plot([j*100 for j in hist.history['recall']])\n",
        "    ax.plot([j*100 for j in hist.history['val_recall']])\n",
        "    if label=='':\n",
        "        ax.set_title(\"Recall\", size=14)\n",
        "    else:\n",
        "        ax.set_title(\"Recall (%s)\"%(label), size=14)\n",
        "    ax.set_ylabel('Recall %')\n",
        "    ax.set_xlabel('Training iterations')\n",
        "    if legend:\n",
        "        ax.legend(['Training','Validation'], loc='lower right')"
      ],
      "execution_count": 0,
      "outputs": []
    },
    {
      "cell_type": "code",
      "metadata": {
        "id": "piXRorMUpsUZ",
        "colab_type": "code",
        "outputId": "f0b2362e-e939-47c5-91eb-df73e9c3d392",
        "colab": {
          "base_uri": "https://localhost:8080/",
          "height": 865
        }
      },
      "source": [
        "for i in range(shuffle.get_n_splits()):\n",
        "    \n",
        "    fig, [[ax1,ax2],[ax3,ax4]] = plt.subplots(2,2, figsize=(8,6))\n",
        "\n",
        "    loss_rate_plot(fithists[i], ax1, legend=True, label=\"Fold %d\"%(i+1))\n",
        "    accuracy_rate_plot(fithists[i], ax2, label=\"Fold %d\"%(i+1))\n",
        "    precision_rate_plot(fithists[i], ax3, label=\"Fold %d\"%(i+1))\n",
        "    recall_rate_plot(fithists[i], ax4, label=\"Fold %d\"%(i+1))\n",
        "\n",
        "    fig.tight_layout()\n",
        "    \n",
        "plt.show()"
      ],
      "execution_count": 0,
      "outputs": [
        {
          "output_type": "display_data",
          "data": {
            "image/png": "iVBORw0KGgoAAAANSUhEUgAAAjgAAAGoCAYAAABL+58oAAAABHNCSVQICAgIfAhkiAAAAAlwSFlz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\nGNPgWIJjjDHGmAbn/wHZye3KDDoQSgAAAABJRU5ErkJggg==\n",
            "text/plain": [
              "<Figure size 576x432 with 4 Axes>"
            ]
          },
          "metadata": {
            "tags": []
          }
        },
        {
          "output_type": "display_data",
          "data": {
            "image/png": "iVBORw0KGgoAAAANSUhEUgAAAjgAAAGoCAYAAABL+58oAAAABHNCSVQICAgIfAhkiAAAAAlwSFlz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\nhYm9W9G5eUM6N29E5+YNSU2Mr8K/TmRYgmNMTdk