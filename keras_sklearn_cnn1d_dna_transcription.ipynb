{
 "cells": [
  {
   "cell_type": "markdown",
   "metadata": {
    "colab_type": "text",
    "id": "view-in-github"
   },
   "source": [
    "<a href=\"https://colab.research.google.com/github/charlesreid1/deep-learning-genomics/blob/master/keras_sklearn_cnn1d_dna_transcription.ipynb\" target=\"_parent\"><img src=\"https://colab.research.google.com/assets/colab-badge.svg\" alt=\"Open In Colab\"/></a>"
   ]
  },
  {
   "cell_type": "markdown",
   "metadata": {
    "colab_type": "text",
    "id": "JHAuCkB-Dyvx"
   },
   "source": [
    "# Keras and Sklearn for Deep Learning Genomics\n",
    "\n",
    "This notebook continues with the example from a prior notebook, namely, the problem of predicting transcription factor binding sites in DNA. This type of neural network operates on 1D sequence data (DNA nucleotides), so we build a 1D convolutional neural network to perform classification of DNA (is this string of nucleotides a transcription factor binding site or not).\n",
    "\n",
    "We construct several models in this notebook:\n",
    "\n",
    "* 1D CNN that does not incorporate chromatin data\n",
    "* 1D CNN that incorporates (un-transformed) chromatin data and uses sample weights\n",
    "* 1D CNN that incorporates (un-transformed) chromatin data and uses class weights\n",
    "\n",
    "We then perform manual cross-validation on each model and assemble statistics to assess the cross-validation results."
   ]
  },
  {
   "cell_type": "markdown",
   "metadata": {
    "colab_type": "text",
    "id": "bAl5v_fEEz8Y"
   },
   "source": [
    "## Import Libraries"
   ]
  },
  {
   "cell_type": "code",
   "execution_count": 132,
   "metadata": {
    "colab": {
     "base_uri": "https://localhost:8080/",
     "height": 34
    },
    "colab_type": "code",
    "id": "62b9p_xalIIH",
    "outputId": "730e6bac-4c23-4e7c-c175-bd97f6956a56"
   },
   "outputs": [
    {
     "data": {
      "text/plain": [
       "'/device:GPU:0'"
      ]
     },
     "execution_count": 132,
     "metadata": {
      "tags": []
     },
     "output_type": "execute_result"
    }
   ],
   "source": [
    "import tensorflow as tf\n",
    "tf.test.gpu_device_name()"
   ]
  },
  {
   "cell_type": "code",
   "execution_count": 0,
   "metadata": {
    "colab": {},
    "colab_type": "code",
    "id": "4gsmsa71Dv1k"
   },
   "outputs": [],
   "source": [
    "import os\n",
    "import math\n",
    "import numpy as np\n",
    "import numpy\n",
    "import matplotlib.pyplot as plt\n",
    "import seaborn as sns\n",
    "import pandas\n",
    "import joblib"
   ]
  },
  {
   "cell_type": "code",
   "execution_count": 0,
   "metadata": {
    "colab": {},
    "colab_type": "code",
    "id": "1fhj_7ZaEPij"
   },
   "outputs": [],
   "source": [
    "# sklearn\n",
    "from sklearn.metrics import roc_curve\n",
    "from sklearn.metrics import confusion_matrix\n",
    "from sklearn.utils.multiclass import unique_labels\n",
    "from sklearn.model_selection import cross_val_score\n",
    "from sklearn.preprocessing import LabelEncoder\n",
    "from sklearn.model_selection import StratifiedKFold, StratifiedShuffleSplit\n",
    "from sklearn.preprocessing import StandardScaler\n",
    "from sklearn.pipeline import Pipeline"
   ]
  },
  {
   "cell_type": "code",
   "execution_count": 0,
   "metadata": {
    "colab": {},
    "colab_type": "code",
    "id": "VN-bDjOlEQDB"
   },
   "outputs": [],
   "source": [
    "from keras.wrappers.scikit_learn import KerasClassifier\n",
    "from keras.models import Sequential, Model\n",
    "from keras.layers import Flatten, Embedding, Dense, Dropout, Input, Concatenate\n",
    "from keras.layers import Conv1D, GlobalAveragePooling1D, MaxPooling1D\n",
    "from keras.layers import LeakyReLU\n",
    "import keras"
   ]
  },
  {
   "cell_type": "code",
   "execution_count": 0,
   "metadata": {
    "colab": {},
    "colab_type": "code",
    "id": "aHkVmJYCEZfT"
   },
   "outputs": [],
   "source": [
    "seed = 1729\n",
    "numpy.random.seed(seed)"
   ]
  },
  {
   "cell_type": "markdown",
   "metadata": {
    "colab_type": "text",
    "id": "ZeBqpoaQcPvk"
   },
   "source": [
    "## Define Useful Keras Metrics"
   ]
  },
  {
   "cell_type": "code",
   "execution_count": 0,
   "metadata": {
    "colab": {},
    "colab_type": "code",
    "id": "UpthrvB3cST3"
   },
   "outputs": [],
   "source": [
    "# via https://github.com/keras-team/keras/issues/6507#issuecomment-322857357\n",
    "\n",
    "import keras.backend as K\n",
    "\n",
    "def precision(y_true, y_pred):\n",
    "    # Calculate the precision\n",
    "    # clip ensures we're between 0 and 1\n",
    "    # round ensures we're either 0 or 1\n",
    "    true_positives = K.sum(K.round(K.clip(y_true * y_pred, 0, 1)))\n",
    "    predicted_positives = K.sum(K.round(K.clip(y_pred, 0, 1)))\n",
    "    precision = true_positives / (predicted_positives + K.epsilon())\n",
    "    return precision\n",
    "\n",
    "def recall(y_true, y_pred):\n",
    "    # Calculate the recall\n",
    "    # clip ensures we're between 0 and 1\n",
    "    # round ensures we're either 0 or 1\n",
    "    true_positives = K.sum(K.round(K.clip(y_true * y_pred, 0, 1)))\n",
    "    possible_positives = K.sum(K.round(K.clip(y_true, 0, 1)))\n",
    "    recall = true_positives / (possible_positives + K.epsilon())\n",
    "    return recall\n",
    "\n",
    "def fvalue(y_true, y_pred):\n",
    "    # Calculate the F-value\n",
    "    # If there are no true positives, fix the F score at 0 like sklearn.\n",
    "    if K.sum(K.round(K.clip(y_true, 0, 1))) == 0:\n",
    "        return 0\n",
    "    p = precision(y_true,y_pred)\n",
    "    r = recall(y_true,y_pred)\n",
    "    fvalue = (2 * p * r)/(p + r + K.epsilon())\n",
    "    return fvalue\n"
   ]
  },
  {
   "cell_type": "markdown",
   "metadata": {
    "colab_type": "text",
    "id": "Yf8K8vRzEx3q"
   },
   "source": [
    "## Load Dataset"
   ]
  },
  {
   "cell_type": "code",
   "execution_count": 138,
   "metadata": {
    "colab": {
     "base_uri": "https://localhost:8080/",
     "height": 34
    },
    "colab_type": "code",
    "id": "nxrwVCIBEsNJ",
    "outputId": "72124115-6bb6-4490-ccda-3b6c214adff0"
   },
   "outputs": [
    {
     "name": "stdout",
     "output_type": "stream",
     "text": [
      "fatal: destination path 'DeepLearningLifeSciences' already exists and is not an empty directory.\n"
     ]
    }
   ],
   "source": [
    "!git clone https://github.com/deepchem/DeepLearningLifeSciences.git"
   ]
  },
  {
   "cell_type": "code",
   "execution_count": 0,
   "metadata": {
    "colab": {},
    "colab_type": "code",
    "id": "sEUJnDsbEtQa"
   },
   "outputs": [],
   "source": [
    "!ln -fs DeepLearningLifeSciences/Chapter06/{test*,train*,valid*} ."
   ]
  },
  {
   "cell_type": "code",
   "execution_count": 0,
   "metadata": {
    "colab": {},
    "colab_type": "code",
    "id": "KPileDhWZyu5"
   },
   "outputs": [],
   "source": [
    "!ln -fs DeepLearningLifeSciences/Chapter06/chromatin.txt"
   ]
  },
  {
   "cell_type": "markdown",
   "metadata": {
    "colab_type": "text",
    "id": "Y4svZCHZZ5Wn"
   },
   "source": [
    "In contrast to the prior example, which uses the already-provided splits of training, testing, and validation, we will load all of the data all at once into a single X and y pair and use sklearn to split the data into testing and training sets."
   ]
  },
  {
   "cell_type": "code",
   "execution_count": 199,
   "metadata": {
    "colab": {
     "base_uri": "https://localhost:8080/",
     "height": 191
    },
    "colab_type": "code",
    "id": "nSLjlrPBSiP_",
    "outputId": "18c1f1a7-8ff9-44cb-8ae7-bde939483e09"
   },
   "outputs": [
    {
     "name": "stdout",
     "output_type": "stream",
     "text": [
      "Shape of all data:\n",
      "\n",
      "X shape:\n",
      "(345271, 101, 4)\n",
      "chromatin shape:\n",
      "(345271,)\n",
      "y shape:\n",
      "(345271, 1)\n",
      "w shape:\n",
      "(345271, 1)\n"
     ]
    }
   ],
   "source": [
    "def load_all_data():\n",
    "    \n",
    "    # load chromatin accessibility data\n",
    "    accessibility = {}\n",
    "    for line in open('chromatin.txt','r'):\n",
    "        fields = line.split()\n",
    "        accessibility[fields[0]] = float(fields[1])\n",
    "    \n",
    "    # load training, validation, and testing sets\n",
    "    for i,label in enumerate(['train','valid','test']):\n",
    "        datadir = \"%s_dataset\"%(label)\n",
    "        base_filename = \"shard-0-%s.joblib\"\n",
    "        X_filename = os.path.join(datadir,base_filename%(\"X\"))\n",
    "        y_filename = os.path.join(datadir,base_filename%(\"y\"))\n",
    "        w_filename = os.path.join(datadir,base_filename%(\"w\"))\n",
    "        ids_filename = os.path.join(datadir,base_filename%(\"ids\"))\n",
    "        \n",
    "        this_X = joblib.load(X_filename)\n",
    "        this_y = joblib.load(y_filename)\n",
    "        this_w = joblib.load(w_filename)\n",
    "        this_ids = joblib.load(ids_filename)\n",
    "        this_chromatin = np.array([accessibility[k] for k in this_ids])\n",
    "        \n",
    "        # add X and chromatin data\n",
    "        if i>0:\n",
    "            X = np.concatenate([X,this_X])\n",
    "            chromatin = np.concatenate([chromatin,this_chromatin])\n",
    "            y = np.concatenate([y,this_y])\n",
    "            w = np.concatenate([w,this_w])\n",
    "            ids = np.concatenate([ids,this_ids])\n",
    "        else:\n",
    "            X = this_X\n",
    "            chromatin = this_chromatin\n",
    "            y = this_y\n",
    "            w = this_w\n",
    "            ids = this_ids\n",
    "        \n",
    "    return [X,chromatin], y, w, ids\n",
    "\n",
    "[X,chromatin], y, w, ids = load_all_data()\n",
    "\n",
    "print(\"Shape of all data:\\n\")\n",
    "\n",
    "print(\"X shape:\")\n",
    "print(np.shape(X))\n",
    "\n",
    "print(\"chromatin shape:\")\n",
    "print(np.shape(chromatin))\n",
    "\n",
    "print(\"y shape:\")\n",
    "print(np.shape(y))\n",
    "\n",
    "print(\"w shape:\")\n",
    "print(np.shape(w))"
   ]
  },
  {
   "cell_type": "markdown",
   "metadata": {
    "colab_type": "text",
    "id": "0iNXUOqHUSXN"
   },
   "source": [
    "## Stratified K-Fold Validation\n",
    "\n",
    "Now that we've loaded every data point into a single giant input list, we use scikit-learn to cut the data into training, testing, and validation parts.\n",
    "\n",
    "We use the \"normal\" kernel initializer, which initializes perceptron weights using normally-distributed random numbers.\n",
    "\n",
    "We create two functions below:\n",
    "\n",
    "* `create_baseline()` - creates a keras model that does not incorporate chromatin accessibility data\n",
    "* `create_chromatin()` - creates a keras model that utilizes chromatin accessibility data"
   ]
  },
  {
   "cell_type": "code",
   "execution_count": 0,
   "metadata": {
    "colab": {},
    "colab_type": "code",
    "id": "ESwAIdQmEoZg"
   },
   "outputs": [],
   "source": [
    "def create_baseline():\n",
    "    \"\"\"Create and return a baseline 1D convolutional neural net model.\n",
    "    This model does not incorporate chromatin accessibility data.\n",
    "    \"\"\"\n",
    "    # DNA sequence alphabet size\n",
    "    n_features = 4\n",
    "    seq_length = 101\n",
    "    convolution_window = 10\n",
    "    n_filters = 16\n",
    "    \n",
    "    # construct model\n",
    "    model = Sequential()\n",
    "    \n",
    "    # Layer 1\n",
    "    model.add(Conv1D(n_filters, convolution_window,\n",
    "                     activation='relu',\n",
    "                     padding='same',\n",
    "                     kernel_initializer='normal',\n",
    "                     input_shape=(seq_length, n_features)))\n",
    "    \n",
    "    model.add(Dropout(0.5))\n",
    "    \n",
    "    # Layer 2\n",
    "    model.add(Conv1D(n_filters, convolution_window,\n",
    "                     activation='relu', \n",
    "                     padding='same',\n",
    "                     kernel_initializer='normal'))\n",
    "    \n",
    "    model.add(Dropout(0.5))\n",
    "    \n",
    "    # Layer 3\n",
    "    model.add(Conv1D(n_filters, convolution_window,\n",
    "                     activation='relu', \n",
    "                     padding='same',\n",
    "                     kernel_initializer='normal'))\n",
    "    \n",
    "    model.add(Dropout(0.5))\n",
    "    \n",
    "    # Flatten\n",
    "    model.add(Flatten())\n",
    "    \n",
    "    # Shrink to 1 neuron for 1 class (binary) classification\n",
    "    model.add(Dense(1, kernel_initializer='normal', activation='sigmoid'))\n",
    "    \n",
    "    model.compile(loss='binary_crossentropy',\n",
    "                  optimizer='adam',\n",
    "                  sample_weight_mode=None,\n",
    "                  metrics=['accuracy',\n",
    "                           precision,\n",
    "                           recall,\n",
    "                           fvalue])\n",
    "    \n",
    "    return model"
   ]
  },
  {
   "cell_type": "code",
   "execution_count": 0,
   "metadata": {
    "colab": {},
    "colab_type": "code",
    "id": "8eI1zuvCaybP"
   },
   "outputs": [],
   "source": [
    "def create_chromatin():\n",
    "    \"\"\"Create and return a 1D convolutional neural net model.\n",
    "    This model incorporates chromatin accessibility data.\n",
    "    \"\"\"\n",
    "    # DNA sequence alphabet size\n",
    "    n_features = 4\n",
    "    seq_length = 101\n",
    "    convolution_window = 10\n",
    "    n_filters = 16\n",
    "    \n",
    "    # ----------------------------\n",
    "    # Sequence branch of network\n",
    "    # (1D DNA sequence)\n",
    "    \n",
    "    # Input\n",
    "    seq_in = Input(shape=(seq_length,n_features))\n",
    "    \n",
    "    # Fencepost pattern\n",
    "    seq = seq_in\n",
    "    \n",
    "    # Convolutional layers\n",
    "    for i in range(3):\n",
    "        seq = Conv1D(n_filters, convolution_window,\n",
    "                    activation='relu', padding='same')(seq)\n",
    "        seq = Dropout(0.5)(seq)\n",
    "    \n",
    "    # Flatten to 1D\n",
    "    seq = Flatten()(seq)\n",
    "    \n",
    "    # Assemble the sequential branch of network\n",
    "    seq = keras.Model(inputs=seq_in, outputs=seq)\n",
    "    \n",
    "    # ---------------------------\n",
    "    # Chromatin branch of network\n",
    "    \n",
    "    # Input\n",
    "    chrom_input = Input(shape=(1,))\n",
    "    \n",
    "    # ---------------------------\n",
    "    # Combine networks\n",
    "    fin = keras.layers.concatenate([seq.output, chrom_input])\n",
    "    fin = Dense(1,activation='sigmoid')(fin)\n",
    "    chrom_model = keras.Model(inputs=[seq.input,chrom_input], outputs=fin)\n",
    "    \n",
    "    # Compile model\n",
    "    chrom_model.compile(loss='binary_crossentropy',\n",
    "                       optimizer='adam',\n",
    "                       sample_weight_mode=None,\n",
    "                       metrics=['accuracy',\n",
    "                               precision,\n",
    "                               recall,\n",
    "                               fvalue])\n",
    "    \n",
    "    return chrom_model"
   ]
  },
  {
   "cell_type": "markdown",
   "metadata": {
    "colab_type": "text",
    "id": "EE_gYkVshnYE"
   },
   "source": [
    "## Performing Cross Validation Automatically with sklearn\n",
    "\n",
    "If we perform n-fold cross validation, we will create n different models with n different splits (for example 10-fold cross validation will create a new model from scratch and re-train it on all the data 10 times). So, turn off verbosity unless you want lots of output."
   ]
  },
  {
   "cell_type": "markdown",
   "metadata": {
    "colab_type": "text",
    "id": "0sDC2j3ehydG"
   },
   "source": [
    "We have already created our Keras model (above) in a function. \n",
    "\n",
    "**To perform cross-validation automatically with sklearn**, we need to create two things:\n",
    "\n",
    "* A [KerasClassifier](https://keras.io/scikit-learn-api/) object - this class is provided by the Keras library to wrap a Keras model in a way that scikit-learn knows how to use. This allows us to create a generic Keras model in a function (above) and have sklearn know how to call it to assemble new Keras models.\n",
    "\n",
    "* A [StratifiedKFold](https://scikit-learn.org/stable/modules/generated/sklearn.model_selection.StratifiedKFold.html) object to fold (or split) the data in k different ways, in a way that is stratified (meaning, the proportions of classes remains the same across folds). By randomizing how the items are split into training and testing sets, we can create k different versions of training and testing sets from the same data, train k different models, and collect statistics to find which model is best. \n",
    "\n",
    "* Alternatively, a [StratifiedShuffleSplit](https://scikit-learn.org/stable/modules/generated/sklearn.model_selection.StratifiedShuffleSplit.html#sklearn.model_selection.StratifiedShuffleSplit) object (similar to above, but gives more control over the amount of data in the training versus testing data sets)."
   ]
  },
  {
   "cell_type": "code",
   "execution_count": 0,
   "metadata": {
    "colab": {},
    "colab_type": "code",
    "id": "2dc7_AsHWB2Z"
   },
   "outputs": [],
   "source": [
    "n_epochs = 20\n",
    "n_fold = 2\n",
    "\n",
    "estimator = KerasClassifier(build_fn=create_baseline, \n",
    "                            epochs=n_epochs, \n",
    "                            batch_size = 1000,\n",
    "                            verbose=1)\n",
    "\n",
    "kfold = StratifiedKFold(n_splits=n_fold, \n",
    "                        shuffle=True, \n",
    "                        random_state=seed)\n",
    "\n",
    "shuffle = StratifiedShuffleSplit(n_splits=n_fold,\n",
    "                                 train_size = 0.7,\n",
    "                                 test_size = 0.3,\n",
    "                                 random_state = seed)\n",
    "\n",
    "# This function call takes a while, so it is just here for illustration\n",
    "if False:\n",
    "    # no weights used\n",
    "    results = cross_val_score(estimator, X, y, \n",
    "                              scoring=\"neg_mean_squared_error\",\n",
    "                              cv=kfold)\n",
    "\n",
    "    print(\"Results: %.2f%% (%.2f%%)\" % (results.mean()*100, results.std()*100))"
   ]
  },
  {
   "cell_type": "markdown",
   "metadata": {
    "colab_type": "text",
    "id": "swMoyz7MtHe8"
   },
   "source": [
    "The problem with this approach is that **we don't have a way of passing weights to sklearn**. The KerasClassifier class that wraps our convolutional neural net does not have any way to use weights because sklearn does not use weights information.\n",
    "\n",
    "This data set has a significant imbalance in positive versus negative examples, so **weights are important for this model**. Otherwise we end up with a neural network that sacrifices precision for accuracy.\n",
    "\n",
    "Keras can handle weights, but unfortunately sklearn cannot, so to perform cross-validation with weights, we must do cross-validation manually."
   ]
  },
  {
   "cell_type": "markdown",
   "metadata": {
    "colab_type": "text",
    "id": "KFM0RGTBtjse"
   },
   "source": [
    "## Performing Cross Validation Manually\n",
    "\n",
    "To perform cross validation and incorporate sample weights for imbalanced classes (many more negative examples than positive examples), we can't use weights with sklearn directly, so we do cross-validation manually.\n",
    "\n",
    "The [StratifiedKFold](https://sklearn.org/modules/generated/sklearn.model_selection.StratifiedKFold.html#sklearn.model_selection.StratifiedKFold) object can give us a set of k testing/training sets by using the `split()` method, which returns an iterator with the training/testing indices. This allows us to assemble all inputs (X and y, weights, labels, chromatin accessibility, etc.).\n",
    "\n",
    "The [StratifiedShuffleSplit](https://scikit-learn.org/stable/modules/generated/sklearn.model_selection.StratifiedShuffleSplit.html#sklearn.model_selection.StratifiedShuffleSplit) object also provides a split method.\n",
    "\n",
    "**Why use a stratified splitter?** A _stratified_ split maintains the same ratio of classes in the splits as are in the entire data set. We need to utilize a class that will perform a stratified split so we don't end up with splits that have zero positive instances in them (those would train the model to always make negative guesses).\n",
    "\n",
    "**Should we use StratifiedKFold or StratifiedShuffleSplit?** The `StratifiedKFold` object creates splits using the first N percent of the data. If our data set is already shuffled, that's fine, but if it is not, we could bias the model by presenting it with ordered data."
   ]
  },
  {
   "cell_type": "code",
   "execution_count": 145,
   "metadata": {
    "colab": {
     "base_uri": "https://localhost:8080/",
     "height": 121
    },
    "colab_type": "code",
    "id": "LJ97tZwfk3MB",
    "outputId": "d33ca930-01c8-4a56-82b8-f8fe7aadc24b"
   },
   "outputs": [
    {
     "name": "stdout",
     "output_type": "stream",
     "text": [
      "Training on fold 1:\n",
      "Done\n",
      "Training on fold 2:\n",
      "Done\n",
      "Training on fold 3:\n",
      "Done\n"
     ]
    }
   ],
   "source": [
    "n_epochs = 50\n",
    "n_fold = 3\n",
    "batch_size = 2048\n",
    "include_chromatin_data = True\n",
    "\n",
    "# we can use either of these,\n",
    "# but we'll opt for shuffle\n",
    "\n",
    "kfold = StratifiedKFold(n_splits=n_fold, \n",
    "                        shuffle=True, \n",
    "                        random_state=seed)\n",
    "\n",
    "shuffle = StratifiedShuffleSplit(n_splits=n_fold,\n",
    "                                 train_size = 0.7,\n",
    "                                 test_size = 0.3,\n",
    "                                 random_state = seed)\n",
    "\n",
    "models = []\n",
    "fithists = []\n",
    "\n",
    "for ifold, (train_ix, test_ix) in enumerate(shuffle.split(X,y)):\n",
    "    \n",
    "    X_train, X_test = X[train_ix], X[test_ix]\n",
    "    y_train, y_test = y[train_ix], y[test_ix]\n",
    "    w_train, w_test = np.squeeze(w[train_ix]), np.squeeze(w[test_ix])\n",
    "    chrom_train, chrom_test = np.squeeze(chromatin[train_ix]), np.squeeze(chromatin[test_ix])\n",
    "    \n",
    "    print(\"Training on fold %d...\"%(ifold+1))\n",
    "    \n",
    "    \n",
    "    # if we use the chromatin model, we need a list of inputs\n",
    "    \n",
    "    if include_chromatin_data:\n",
    "        model = create_chromatin()\n",
    "        hist = model.fit([X_train,chrom_train], y_train,\n",
    "                         sample_weight = w_train,\n",
    "                         batch_size = batch_size,\n",
    "                         epochs = n_epochs,\n",
    "                         verbose = 0,\n",
    "                         validation_data=([X_test,chrom_test],y_test,w_test))\n",
    "    else:\n",
    "        model = create_baseline()\n",
    "        hist = model.fit(X_train, y_train,\n",
    "                         sample_weight = w_train,\n",
    "                         batch_size = batch_size,\n",
    "                         epochs = n_epochs,\n",
    "                         verbose = 0,\n",
    "                         validation_data=(X_test,y_test,w_test))\n",
    "\n",
    "    models.append(model)\n",
    "    fithists.append(hist)\n",
    "    \n",
    "    print(\"Done\")\n",
    "    "
   ]
  },
  {
   "cell_type": "code",
   "execution_count": 146,
   "metadata": {
    "colab": {
     "base_uri": "https://localhost:8080/",
     "height": 312
    },
    "colab_type": "code",
    "id": "-pVERzb-gr4q",
    "outputId": "5787af65-d618-42f6-ca0e-1f032121b499"
   },
   "outputs": [
    {
     "name": "stdout",
     "output_type": "stream",
     "text": [
      "Model results (validation):\n",
      "\n",
      "\n",
      "Loss (Mean):      0.6158\n",
      "Loss (Std):       0.0452\n",
      "\n",
      "\n",
      "Accuracy (Mean):  77.22%\n",
      "Accuracy (Std):   23.06%\n",
      "\n",
      "\n",
      "Precision (Mean): 1.71%\n",
      "Precision (Std):  0.91%\n",
      "\n",
      "\n",
      "Recall (Mean):    53.38%\n",
      "Recall (Std):     14.93%\n"
     ]
    }
   ],
   "source": [
    "print(\"Model results (validation):\")\n",
    "print(\"\\n\")\n",
    "print(\"Loss (Mean):      %0.4f\"%(np.mean([h.history['val_loss'] for h in fithists])))\n",
    "print(\"Loss (Std):       %0.4f\"%(np.std([h.history['val_loss'] for h in fithists])))\n",
    "print(\"\\n\")\n",
    "print(\"Accuracy (Mean):  %0.2f%%\"%(100*np.mean([h.history['val_acc'] for h in fithists])))\n",
    "print(\"Accuracy (Std):   %0.2f%%\"%(100*np.std([h.history['val_acc'] for h in fithists])))\n",
    "print(\"\\n\")\n",
    "print(\"Precision (Mean): %0.2f%%\"%(100*np.mean([h.history['val_precision'] for h in fithists])))\n",
    "print(\"Precision (Std):  %0.2f%%\"%(100*np.std([h.history['val_precision'] for h in fithists])))\n",
    "print(\"\\n\")\n",
    "print(\"Recall (Mean):    %0.2f%%\"%(100*np.mean([h.history['val_recall'] for h in fithists])))\n",
    "print(\"Recall (Std):     %0.2f%%\"%(100*np.std([h.history['val_recall'] for h in fithists])))"
   ]
  },
  {
   "cell_type": "code",
   "execution_count": 0,
   "metadata": {
    "colab": {},
    "colab_type": "code",
    "id": "2cqF7SyFb_v7"
   },
   "outputs": [],
   "source": [
    "def loss_rate_plot(hist, ax, label='',legend=False):\n",
    "    ax.plot(hist.history['loss'])\n",
    "    ax.plot(hist.history['val_loss'])\n",
    "    if label=='':\n",
    "        ax.set_title(\"Loss Rate\", size=14)\n",
    "    else:\n",
    "        ax.set_title(\"Loss Rate (%s)\"%(label), size=14)\n",
    "    ax.set_ylabel('Loss')\n",
    "    ax.set_xlabel('Training interations')\n",
    "    if legend:\n",
    "        ax.legend(['Training', 'Validation'], loc='upper right')\n",
    "\n",
    "def accuracy_rate_plot(hist,ax,label='',legend=False):\n",
    "    ax.plot([j*100 for j in hist.history['acc']])\n",
    "    ax.plot([j*100 for j in hist.history['val_acc']])\n",
    "    if label=='':\n",
    "        ax.set_title(\"Accuracy\", size=14)\n",
    "    else:\n",
    "        ax.set_title(\"Accuracy (%s)\"%(label), size=14)\n",
    "    ax.set_ylabel('Accuracy %')\n",
    "    ax.set_xlabel('Training iterations')\n",
    "    if legend:\n",
    "        ax.legend(['Training','Validation'], loc='lower right')\n",
    "\n",
    "def precision_rate_plot(hist,ax,label='',legend=False):\n",
    "    ax.plot([j*100 for j in hist.history['precision']])\n",
    "    ax.plot([j*100 for j in hist.history['val_precision']])\n",
    "    if label=='':\n",
    "        ax.set_title(\"Precision\", size=14)\n",
    "    else:\n",
    "        ax.set_title(\"Precision (%s)\"%(label), size=14)\n",
    "    ax.set_ylabel('Precision %')\n",
    "    ax.set_xlabel('Training iterations')\n",
    "    if legend:\n",
    "        ax.legend(['Training','Validation'], loc='lower right')\n",
    "\n",
    "def recall_rate_plot(hist,ax,label='',legend=False):\n",
    "    ax.plot([j*100 for j in hist.history['recall']])\n",
    "    ax.plot([j*100 for j in hist.history['val_recall']])\n",
    "    if label=='':\n",
    "        ax.set_title(\"Recall\", size=14)\n",
    "    else:\n",
    "        ax.set_title(\"Recall (%s)\"%(label), size=14)\n",
    "    ax.set_ylabel('Recall %')\n",
    "    ax.set_xlabel('Training iterations')\n",
    "    if legend:\n",
    "        ax.legend(['Training','Validation'], loc='lower right')"
   ]
  },
  {
   "cell_type": "code",
   "execution_count": 154,
   "metadata": {
    "colab": {
     "base_uri": "https://localhost:8080/",
     "height": 1289
    },
    "colab_type": "code",
    "id": "EPdyOVmckA1y",
    "outputId": "e359511d-d081-4405-a2ba-63b0f9eb301d"
   },
   "outputs": [
    {
     "data": {
      "image/png": "iVBORw0KGgoAAAANSUhEUgAAAjgAAAGoCAYAAABL+58oAAAABHNCSVQICAgIfAhkiAAAAAlwSFlz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\nQmCC\n",
      "text/plain": [
       "<Figure size 576x432 with 4 Axes>"
      ]
     },
     "metadata": {
      "tags": []
     },
     "output_type": "display_data"
    },
    {
     "data": {
      "image/png": "iVBORw0KGgoAAAANSUhEUgAAAjgAAAGoCAYAAABL+58oAAAABHNCSVQICAgIfAhkiAAAAAlwSFlz\nAAALEgAACxIB0t1+/AAAADl0RVh0U29mdHdhcmUAbWF0cGxvdGxpYiB2ZXJzaW9uIDMuMC4zLCBo\ndHRwOi8vbWF0cGxvdGxpYi5vcmcvnQurowAAIABJREFUeJzsnXd8VUX2wL8nvTdC6CH00EmISC9i\nQSxYEMGCHdtPV13ddV3XtrprW8W1rg0VRUQQLAgKgtJ77zVACKRBSC8vb35/zH3JS++EhPl+Pvfz\ncmfmzp378u7cc885c44opTAYDAaDwWBoSrg09AAMBoPBYDAY6hoj4BgMBoPBYGhyGAHHYDAYDAZD\nk8MIOAaDwWAwGJocRsAxGAwGg8HQ5DACjsFgMBgMhiaHEXAMBoPBYCiBiNwmIkvquE8lIuMrqA+1\n2oys5XnWicj1temjKWAEHEOjRkSeFZFP67C/CGuCiamgTYzVJqIW5/EUkaMVncdgOJuISLSIFIjI\nyoYeS0MjIh7AS8DzTmXPWfd9ye2aszy2v4nIehFJE5EkEflRRHqVaPZP4GUROa+f8ef1xZ/LiMhn\nIvJTQ48Dij30HdsZEVkjIlfVoK9YEXm8jsYVBvwZeNGp7LNyJqF+dXHOKo7LXUReEZFtIpIpIidE\nZIaIhDvaKKVygdeAV87WuAyGSrgbeA/oJSLdG3owlpDRUIwHspVSf5Qo3wu0KrEtOMtjG4n+Pw0G\nLgJswGIRCXFq8zPgD1x+lsd2TmEEHEN1GIO+oS8E1gFzynhzOJvcDaxTSh0qUb6Y0pPQjrM4Lh8g\nGv0GGA2MA9oBC0XEzandV8BQEel5FsdmMJRCRLyBm4APgdnAXWW0aS0iX4lIiohkicgWERnlVD9W\nRNaKSLbV5kcR8bLqSr3YiMjvIvKO036spSX5VERS0fcHIvKyiOy1+o0VkVcd/VZ2bhF5RkRK3fsi\nslJE/lvBV3ITUNYLpk0pdbLElmv16SIi/xCRYyKSKyLbRWRcBedARC4QkY0ikiMim9Fza4UopS5T\nSk1TSu1QSm0HbgWaA0Oc2hSghZxJlfXXlDECTiNFRMJFZK6IpFvbdyLS1qm+nYh8LyKnrMloj4hM\ndKp/RkSOWDfiSRH5ogqnTbFu6D3A3wF3wHmC62Sd86SludgkIlc61f8OtAdec2hWnOoGi8gf1liP\ni8j7IhJQyXhuAn4sozy3jEnIZp3HU0SmikiCNamsEZGhFZ1ERMZY31+OiCwHulbUXil1Ril1iVLq\nG6XUXqXUOuBeoLu1OdqdAlZynk9ChnOC8cAR64E5HZgsIu6OShHxBf4AIoBrgN7AC071Y4AfgEVA\nf/S88AfVf8Y8BuwBYoCnrLJM4E70vfMAMBE9/1Tl3J8CkSIywKl9N7T245MKxjEU2FDNsf8JeAL4\nK/r7mQt8V572WET8gPnAIfT1Pgm8Xs1zgtbUuACnS5SvA0bUoL+mg1LKbOfgBnwG/FROnQuwGViF\nvjFigDXoG1KsNj+ib/i+QAe09mWMVXc9kAZcAYRbx/9fBWOJABQQY+27oyciBdzn1K4vcB/65u6M\nnoTygEirPgQ4hrZrtwRaWuW9gQy0uakL+i1mNTC7gjGFAHZgSFW/N6v+LeCEde3dgY+sc7cq51rb\nATnA20AkMAGIs9pEVOP/OdA6pm2J8peB5Q39ezPb+b0BvwOPW38LEAuMd6q/B0gHQss5fiUws4L+\nYx39lzjnOyXa/FiFsd4HHKjGuX8CPnDafwXYUEH7IOteHVWi/DmgwJovHNtOp/rjwDNlXOOXTvvK\n8b0CU4BUwM+p/harzchq/O9moZ8HriXKr7bmSLeG/n011OasLjc0HkYDfYBOSqlYABG5CThg1S1G\na0rmKKW2Wsccdjq+Pfoh/6tSKh84StXeVpaJiB3wRgtZh9E3FwDWubY6tX/J8tMZD7yolDolIgVA\nulLqpFO7J4BvlFL/cRSIyP3AZhEJU0olljGWcPREHF9G3RgRyXDaX66Uutx6C70fuFspNd86z31o\nO/aDwNNl9HU/+vt5WOlZY4+IdEU78VUJy5fgP+jJO65EdTxaqDIYGgQR6YzWWNwEoJRSIvIV2kw1\n22oWBWxTSiWX000U+uWitpSah0SvOnoE/dLkB7haW1XP/RHwuYg8in7hupWK719v6zOnjLqDwFin\n/XxrjAFAa7Sw5cyKEu2d6Y7+Tp3nqtUVjKsUIvIG+