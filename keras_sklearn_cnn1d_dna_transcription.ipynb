{
 "cells": [
  {
   "cell_type": "markdown",
   "metadata": {
    "colab_type": "text",
    "id": "view-in-github"
   },
   "source": [
    "<a href=\"https://colab.research.google.com/github/charlesreid1/deep-learning-genomics/blob/master/keras_sklearn_cnn1d_dna_transcription.ipynb\" target=\"_parent\"><img src=\"https://colab.research.google.com/assets/colab-badge.svg\" alt=\"Open In Colab\"/></a>"
   ]
  },
  {
   "cell_type": "markdown",
   "metadata": {
    "colab_type": "text",
    "id": "JHAuCkB-Dyvx"
   },
   "source": [
    "# Keras and Sklearn for Deep Learning Genomics\n",
    "\n",
    "This notebook continues with the example from a prior notebook, namely, the problem of predicting transcription factor binding sites in DNA. This type of neural network operates on 1D sequence data (DNA nucleotides), so we build a 1D convolutional neural network to perform classification of DNA (is this string of nucleotides a transcription factor binding site or not).\n",
    "\n",
    "We construct several models in this notebook:\n",
    "\n",
    "* 1D CNN that does not incorporate chromatin data\n",
    "* 1D CNN that incorporates (un-transformed) chromatin data and uses sample weights\n",
    "* 1D CNN that incorporates (un-transformed) chromatin data and uses class weights\n",
    "\n",
    "We then perform manual cross-validation on each model and assemble statistics to assess the cross-validation results."
   ]
  },
  {
   "cell_type": "markdown",
   "metadata": {
    "colab_type": "text",
    "id": "bAl5v_fEEz8Y"
   },
   "source": [
    "## Import Libraries"
   ]
  },
  {
   "cell_type": "code",
   "execution_count": 132,
   "metadata": {
    "colab": {
     "base_uri": "https://localhost:8080/",
     "height": 34
    },
    "colab_type": "code",
    "id": "62b9p_xalIIH",
    "outputId": "730e6bac-4c23-4e7c-c175-bd97f6956a56"
   },
   "outputs": [
    {
     "data": {
      "text/plain": [
       "'/device:GPU:0'"
      ]
     },
     "execution_count": 132,
     "metadata": {
      "tags": []
     },
     "output_type": "execute_result"
    }
   ],
   "source": [
    "import tensorflow as tf\n",
    "tf.test.gpu_device_name()"
   ]
  },
  {
   "cell_type": "code",
   "execution_count": 0,
   "metadata": {
    "colab": {},
    "colab_type": "code",
    "id": "4gsmsa71Dv1k"
   },
   "outputs": [],
   "source": [
    "import os\n",
    "import math\n",
    "import numpy as np\n",
    "import numpy\n",
    "import matplotlib.pyplot as plt\n",
    "import seaborn as sns\n",
    "import pandas\n",
    "import joblib"
   ]
  },
  {
   "cell_type": "code",
   "execution_count": 0,
   "metadata": {
    "colab": {},
    "colab_type": "code",
    "id": "1fhj_7ZaEPij"
   },
   "outputs": [],
   "source": [
    "# sklearn\n",
    "from sklearn.metrics import roc_curve\n",
    "from sklearn.metrics import confusion_matrix\n",
    "from sklearn.utils.multiclass import unique_labels\n",
    "from sklearn.model_selection import cross_val_score\n",
    "from sklearn.preprocessing import LabelEncoder\n",
    "from sklearn.model_selection import StratifiedKFold, StratifiedShuffleSplit\n",
    "from sklearn.preprocessing import StandardScaler\n",
    "from sklearn.pipeline import Pipeline"
   ]
  },
  {
   "cell_type": "code",
   "execution_count": 0,
   "metadata": {
    "colab": {},
    "colab_type": "code",
    "id": "VN-bDjOlEQDB"
   },
   "outputs": [],
   "source": [
    "from keras.wrappers.scikit_learn import KerasClassifier\n",
    "from keras.models import Sequential, Model\n",
    "from keras.layers import Flatten, Embedding, Dense, Dropout, Input, Concatenate\n",
    "from keras.layers import Conv1D, GlobalAveragePooling1D, MaxPooling1D\n",
    "from keras.layers import LeakyReLU\n",
    "import keras"
   ]
  },
  {
   "cell_type": "code",
   "execution_count": 0,
   "metadata": {
    "colab": {},
    "colab_type": "code",
    "id": "aHkVmJYCEZfT"
   },
   "outputs": [],
   "source": [
    "seed = 1729\n",
    "numpy.random.seed(seed)"
   ]
  },
  {
   "cell_type": "markdown",
   "metadata": {
    "colab_type": "text",
    "id": "ZeBqpoaQcPvk"
   },
   "source": [
    "## Define Useful Keras Metrics"
   ]
  },
  {
   "cell_type": "code",
   "execution_count": 0,
   "metadata": {
    "colab": {},
    "colab_type": "code",
    "id": "UpthrvB3cST3"
   },
   "outputs": [],
   "source": [
    "# via https://github.com/keras-team/keras/issues/6507#issuecomment-322857357\n",
    "\n",
    "import keras.backend as K\n",
    "\n",
    "def precision(y_true, y_pred):\n",
    "    # Calculate the precision\n",
    "    # clip ensures we're between 0 and 1\n",
    "    # round ensures we're either 0 or 1\n",
    "    true_positives = K.sum(K.round(K.clip(y_true * y_pred, 0, 1)))\n",
    "    predicted_positives = K.sum(K.round(K.clip(y_pred, 0, 1)))\n",
    "    precision = true_positives / (predicted_positives + K.epsilon())\n",
    "    return precision\n",
    "\n",
    "def recall(y_true, y_pred):\n",
    "    # Calculate the recall\n",
    "    # clip ensures we're between 0 and 1\n",
    "    # round ensures we're either 0 or 1\n",
    "    true_positives = K.sum(K.round(K.clip(y_true * y_pred, 0, 1)))\n",
    "    possible_positives = K.sum(K.round(K.clip(y_true, 0, 1)))\n",
    "    recall = true_positives / (possible_positives + K.epsilon())\n",
    "    return recall\n",
    "\n",
    "def fvalue(y_true, y_pred):\n",
    "    # Calculate the F-value\n",
    "    # If there are no true positives, fix the F score at 0 like sklearn.\n",
    "    if K.sum(K.round(K.clip(y_true, 0, 1))) == 0:\n",
    "        return 0\n",
    "    p = precision(y_true,y_pred)\n",
    "    r = recall(y_true,y_pred)\n",
    "    fvalue = (2 * p * r)/(p + r + K.epsilon())\n",
    "    return fvalue\n"
   ]
  },
  {
   "cell_type": "markdown",
   "metadata": {
    "colab_type": "text",
    "id": "Yf8K8vRzEx3q"
   },
   "source": [
    "## Load Dataset"
   ]
  },
  {
   "cell_type": "code",
   "execution_count": 138,
   "metadata": {
    "colab": {
     "base_uri": "https://localhost:8080/",
     "height": 34
    },
    "colab_type": "code",
    "id": "nxrwVCIBEsNJ",
    "outputId": "72124115-6bb6-4490-ccda-3b6c214adff0"
   },
   "outputs": [
    {
     "name": "stdout",
     "output_type": "stream",
     "text": [
      "fatal: destination path 'DeepLearningLifeSciences' already exists and is not an empty directory.\n"
     ]
    }
   ],
   "source": [
    "!git clone https://github.com/deepchem/DeepLearningLifeSciences.git"
   ]
  },
  {
   "cell_type": "code",
   "execution_count": 0,
   "metadata": {
    "colab": {},
    "colab_type": "code",
    "id": "sEUJnDsbEtQa"
   },
   "outputs": [],
   "source": [
    "!ln -fs DeepLearningLifeSciences/Chapter06/{test*,train*,valid*} ."
   ]
  },
  {
   "cell_type": "code",
   "execution_count": 0,
   "metadata": {
    "colab": {},
    "colab_type": "code",
    "id": "KPileDhWZyu5"
   },
   "outputs": [],
   "source": [
    "!ln -fs DeepLearningLifeSciences/Chapter06/chromatin.txt"
   ]
  },
  {
   "cell_type": "markdown",
   "metadata": {
    "colab_type": "text",
    "id": "Y4svZCHZZ5Wn"
   },
   "source": [
    "In contrast to the prior example, which uses the already-provided splits of training, testing, and validation, we will load all of the data all at once into a single X and y pair and use sklearn to split the data into testing and training sets."
   ]
  },
  {
   "cell_type": "code",
   "execution_count": 199,
   "metadata": {
    "colab": {
     "base_uri": "https://localhost:8080/",
     "height": 191
    },
    "colab_type": "code",
    "id": "nSLjlrPBSiP_",
    "outputId": "18c1f1a7-8ff9-44cb-8ae7-bde939483e09"
   },
   "outputs": [
    {
     "name": "stdout",
     "output_type": "stream",
     "text": [
      "Shape of all data:\n",
      "\n",
      "X shape:\n",
      "(345271, 101, 4)\n",
      "chromatin shape:\n",
      "(345271,)\n",
      "y shape:\n",
      "(345271, 1)\n",
      "w shape:\n",
      "(345271, 1)\n"
     ]
    }
   ],
   "source": [
    "def load_all_data():\n",
    "    \n",
    "    # load chromatin accessibility data\n",
    "    accessibility = {}\n",
    "    for line in open('chromatin.txt','r'):\n",
    "        fields = line.split()\n",
    "        accessibility[fields[0]] = float(fields[1])\n",
    "    \n",
    "    # load training, validation, and testing sets\n",
    "    for i,label in enumerate(['train','valid','test']):\n",
    "        datadir = \"%s_dataset\"%(label)\n",
    "        base_filename = \"shard-0-%s.joblib\"\n",
    "        X_filename = os.path.join(datadir,base_filename%(\"X\"))\n",
    "        y_filename = os.path.join(datadir,base_filename%(\"y\"))\n",
    "        w_filename = os.path.join(datadir,base_filename%(\"w\"))\n",
    "        ids_filename = os.path.join(datadir,base_filename%(\"ids\"))\n",
    "        \n",
    "        this_X = joblib.load(X_filename)\n",
    "        this_y = joblib.load(y_filename)\n",
    "        this_w = joblib.load(w_filename)\n",
    "        this_ids = joblib.load(ids_filename)\n",
    "        this_chromatin = np.array([accessibility[k] for k in this_ids])\n",
    "        \n",
    "        # add X and chromatin data\n",
    "        if i>0:\n",
    "            X = np.concatenate([X,this_X])\n",
    "            chromatin = np.concatenate([chromatin,this_chromatin])\n",
    "            y = np.concatenate([y,this_y])\n",
    "            w = np.concatenate([w,this_w])\n",
    "            ids = np.concatenate([ids,this_ids])\n",
    "        else:\n",
    "            X = this_X\n",
    "            chromatin = this_chromatin\n",
    "            y = this_y\n",
    "            w = this_w\n",
    "            ids = this_ids\n",
    "        \n",
    "    return [X,chromatin], y, w, ids\n",
    "\n",
    "[X,chromatin], y, w, ids = load_all_data()\n",
    "\n",
    "print(\"Shape of all data:\\n\")\n",
    "\n",
    "print(\"X shape:\")\n",
    "print(np.shape(X))\n",
    "\n",
    "print(\"chromatin shape:\")\n",
    "print(np.shape(chromatin))\n",
    "\n",
    "print(\"y shape:\")\n",
    "print(np.shape(y))\n",
    "\n",
    "print(\"w shape:\")\n",
    "print(np.shape(w))"
   ]
  },
  {
   "cell_type": "markdown",
   "metadata": {
    "colab_type": "text",
    "id": "0iNXUOqHUSXN"
   },
   "source": [
    "## Stratified K-Fold Validation\n",
    "\n",
    "Now that we've loaded every data point into a single giant input list, we use scikit-learn to cut the data into training, testing, and validation parts.\n",
    "\n",
    "We use the \"normal\" kernel initializer, which initializes perceptron weights using normally-distributed random numbers.\n",
    "\n",
    "We create two functions below:\n",
    "\n",
    "* `create_baseline()` - creates a keras model that does not incorporate chromatin accessibility data\n",
    "* `create_chromatin()` - creates a keras model that utilizes chromatin accessibility data"
   ]
  },
  {
   "cell_type": "code",
   "execution_count": 0,
   "metadata": {
    "colab": {},
    "colab_type": "code",
    "id": "ESwAIdQmEoZg"
   },
   "outputs": [],
   "source": [
    "def create_baseline():\n",
    "    \"\"\"Create and return a baseline 1D convolutional neural net model.\n",
    "    This model does not incorporate chromatin accessibility data.\n",
    "    \"\"\"\n",
    "    # DNA sequence alphabet size\n",
    "    n_features = 4\n",
    "    seq_length = 101\n",
    "    convolution_window = 10\n",
    "    n_filters = 16\n",
    "    \n",
    "    # construct model\n",
    "    model = Sequential()\n",
    "    \n",
    "    # Layer 1\n",
    "    model.add(Conv1D(n_filters, convolution_window,\n",
    "                     activation='relu',\n",
    "                     padding='same',\n",
    "                     kernel_initializer='normal',\n",
    "                     input_shape=(seq_length, n_features)))\n",
    "    \n",
    "    model.add(Dropout(0.5))\n",
    "    \n",
    "    # Layer 2\n",
    "    model.add(Conv1D(n_filters, convolution_window,\n",
    "                     activation='relu', \n",
    "                     padding='same',\n",
    "                     kernel_initializer='normal'))\n",
    "    \n",
    "    model.add(Dropout(0.5))\n",
    "    \n",
    "    # Layer 3\n",
    "    model.add(Conv1D(n_filters, convolution_window,\n",
    "                     activation='relu', \n",
    "                     padding='same',\n",
    "                     kernel_initializer='normal'))\n",
    "    \n",
    "    model.add(Dropout(0.5))\n",
    "    \n",
    "    # Flatten\n",
    "    model.add(Flatten())\n",
    "    \n",
    "    # Shrink to 1 neuron for 1 class (binary) classification\n",
    "    model.add(Dense(1, kernel_initializer='normal', activation='sigmoid'))\n",
    "    \n",
    "    model.compile(loss='binary_crossentropy',\n",
    "                  optimizer='adam',\n",
    "                  sample_weight_mode=None,\n",
    "                  metrics=['accuracy',\n",
    "                           precision,\n",
    "                           recall,\n",
    "                           fvalue])\n",
    "    \n",
    "    return model"
   ]
  },
  {
   "cell_type": "code",
   "execution_count": 0,
   "metadata": {
    "colab": {},
    "colab_type": "code",
    "id": "8eI1zuvCaybP"
   },
   "outputs": [],
   "source": [
    "def create_chromatin():\n",
    "    \"\"\"Create and return a 1D convolutional neural net model.\n",
    "    This model incorporates chromatin accessibility data.\n",
    "    \"\"\"\n",
    "    # DNA sequence alphabet size\n",
    "    n_features = 4\n",
    "    seq_length = 101\n",
    "    convolution_window = 10\n",
    "    n_filters = 16\n",
    "    \n",
    "    # ----------------------------\n",
    "    # Sequence branch of network\n",
    "    # (1D DNA sequence)\n",
    "    \n",
    "    # Input\n",
    "    seq_in = Input(shape=(seq_length,n_features))\n",
    "    \n",
    "    # Fencepost pattern\n",
    "    seq = seq_in\n",
    "    \n",
    "    # Convolutional layers\n",
    "    for i in range(3):\n",
    "        seq = Conv1D(n_filters, convolution_window,\n",
    "                    activation='relu', padding='same')(seq)\n",
    "        seq = Dropout(0.5)(seq)\n",
    "    \n",
    "    # Flatten to 1D\n",
    "    seq = Flatten()(seq)\n",
    "    \n",
    "    # Assemble the sequential branch of network\n",
    "    seq = keras.Model(inputs=seq_in, outputs=seq)\n",
    "    \n",
    "    # ---------------------------\n",
    "    # Chromatin branch of network\n",
    "    \n",
    "    # Input\n",
    "    chrom_input = Input(shape=(1,))\n",
    "    \n",
    "    # ---------------------------\n",
    "    # Combine networks\n",
    "    fin = keras.layers.concatenate([seq.output, chrom_input])\n",
    "    fin = Dense(1,activation='sigmoid')(fin)\n",
    "    chrom_model = keras.Model(inputs=[seq.input,chrom_input], outputs=fin)\n",
    "    \n",
    "    # Compile model\n",
    "    chrom_model.compile(loss='binary_crossentropy',\n",
    "                       optimizer='adam',\n",
    "                       sample_weight_mode=None,\n",
    "                       metrics=['accuracy',\n",
    "                               precision,\n",
    "                               recall,\n",
    "                               fvalue])\n",
    "    \n",
    "    return chrom_model"
   ]
  },
  {
   "cell_type": "markdown",
   "metadata": {
    "colab_type": "text",
    "id": "EE_gYkVshnYE"
   },
   "source": [
    "## Performing Cross Validation Automatically with sklearn\n",
    "\n",
    "If we perform n-fold cross validation, we will create n different models with n different splits (for example 10-fold cross validation will create a new model from scratch and re-train it on all the data 10 times). So, turn off verbosity unless you want lots of output."
   ]
  },
  {
   "cell_type": "markdown",
   "metadata": {
    "colab_type": "text",
    "id": "0sDC2j3ehydG"
   },
   "source": [
    "We have already created our Keras model (above) in a function. \n",
    "\n",
    "**To perform cross-validation automatically with sklearn**, we need to create two things:\n",
    "\n",
    "* A [KerasClassifier](https://keras.io/scikit-learn-api/) object - this class is provided by the Keras library to wrap a Keras model in a way that scikit-learn knows how to use. This allows us to create a generic Keras model in a function (above) and have sklearn know how to call it to assemble new Keras models.\n",
    "\n",
    "* A [StratifiedKFold](https://scikit-learn.org/stable/modules/generated/sklearn.model_selection.StratifiedKFold.html) object to fold (or split) the data in k different ways, in a way that is stratified (meaning, the proportions of classes remains the same across folds). By randomizing how the items are split into training and testing sets, we can create k different versions of training and testing sets from the same data, train k different models, and collect statistics to find which model is best. \n",
    "\n",
    "* Alternatively, a [StratifiedShuffleSplit](https://scikit-learn.org/stable/modules/generated/sklearn.model_selection.StratifiedShuffleSplit.html#sklearn.model_selection.StratifiedShuffleSplit) object (similar to above, but gives more control over the amount of data in the training versus testing data sets)."
   ]
  },
  {
   "cell_type": "code",
   "execution_count": 0,
   "metadata": {
    "colab": {},
    "colab_type": "code",
    "id": "2dc7_AsHWB2Z"
   },
   "outputs": [],
   "source": [
    "n_epochs = 20\n",
    "n_fold = 2\n",
    "\n",
    "estimator = KerasClassifier(build_fn=create_baseline, \n",
    "                            epochs=n_epochs, \n",
    "                            batch_size = 1000,\n",
    "                            verbose=1)\n",
    "\n",
    "kfold = StratifiedKFold(n_splits=n_fold, \n",
    "                        shuffle=True, \n",
    "                        random_state=seed)\n",
    "\n",
    "shuffle = StratifiedShuffleSplit(n_splits=n_fold,\n",
    "                                 train_size = 0.7,\n",
    "                                 test_size = 0.3,\n",
    "                                 random_state = seed)\n",
    "\n",
    "# This function call takes a while, so it is just here for illustration\n",
    "if False:\n",
    "    # no weights used\n",
    "    results = cross_val_score(estimator, X, y, \n",
    "                              scoring=\"neg_mean_squared_error\",\n",
    "                              cv=kfold)\n",
    "\n",
    "    print(\"Results: %.2f%% (%.2f%%)\" % (results.mean()*100, results.std()*100))"
   ]
  },
  {
   "cell_type": "markdown",
   "metadata": {
    "colab_type": "text",
    "id": "swMoyz7MtHe8"
   },
   "source": [
    "The problem with this approach is that **we don't have a way of passing weights to sklearn**. The KerasClassifier class that wraps our convolutional neural net does not have any way to use weights because sklearn does not use weights information.\n",
    "\n",
    "This data set has a significant imbalance in positive versus negative examples, so **weights are important for this model**. Otherwise we end up with a neural network that sacrifices precision for accuracy.\n",
    "\n",
    "Keras can handle weights, but unfortunately sklearn cannot, so to perform cross-validation with weights, we must do cross-validation manually."
   ]
  },
  {
   "cell_type": "markdown",
   "metadata": {
    "colab_type": "text",
    "id": "KFM0RGTBtjse"
   },
   "source": [
    "## Performing Cross Validation Manually\n",
    "\n",
    "To perform cross validation and incorporate sample weights for imbalanced classes (many more negative examples than positive examples), we can't use weights with sklearn directly, so we do cross-validation manually.\n",
    "\n",
    "The [StratifiedKFold](https://sklearn.org/modules/generated/sklearn.model_selection.StratifiedKFold.html#sklearn.model_selection.StratifiedKFold) object can give us a set of k testing/training sets by using the `split()` method, which returns an iterator with the training/testing indices. This allows us to assemble all inputs (X and y, weights, labels, chromatin accessibility, etc.).\n",
    "\n",
    "The [StratifiedShuffleSplit](https://scikit-learn.org/stable/modules/generated/sklearn.model_selection.StratifiedShuffleSplit.html#sklearn.model_selection.StratifiedShuffleSplit) object also provides a split method.\n",
    "\n",
    "**Why use a stratified splitter?** A _stratified_ split maintains the same ratio of classes in the splits as are in the entire data set. We need to utilize a class that will perform a stratified split so we don't end up with splits that have zero positive instances in them (those would train the model to always make negative guesses).\n",
    "\n",
    "**Should we use StratifiedKFold or StratifiedShuffleSplit?** The `StratifiedKFold` object creates splits using the first N percent of the data. If our data set is already shuffled, that's fine, but if it is not, we could bias the model by presenting it with ordered data."
   ]
  },
  {
   "cell_type": "code",
   "execution_count": 145,
   "metadata": {
    "colab": {
     "base_uri": "https://localhost:8080/",
     "height": 121
    },
    "colab_type": "code",
    "id": "LJ97tZwfk3MB",
    "outputId": "d33ca930-01c8-4a56-82b8-f8fe7aadc24b"
   },
   "outputs": [
    {
     "name": "stdout",
     "output_type": "stream",
     "text": [
      "Training on fold 1:\n",
      "Done\n",
      "Training on fold 2:\n",
      "Done\n",
      "Training on fold 3:\n",
      "Done\n"
     ]
    }
   ],
   "source": [
    "n_epochs = 50\n",
    "n_fold = 3\n",
    "batch_size = 2048\n",
    "include_chromatin_data = True\n",
    "\n",
    "# we can use either of these,\n",
    "# but we'll opt for shuffle\n",
    "\n",
    "kfold = StratifiedKFold(n_splits=n_fold, \n",
    "                        shuffle=True, \n",
    "                        random_state=seed)\n",
    "\n",
    "shuffle = StratifiedShuffleSplit(n_splits=n_fold,\n",
    "                                 train_size = 0.7,\n",
    "                                 test_size = 0.3,\n",
    "                                 random_state = seed)\n",
    "\n",
    "models = []\n",
    "fithists = []\n",
    "\n",
    "for ifold, (train_ix, test_ix) in enumerate(shuffle.split(X,y)):\n",
    "    \n",
    "    X_train, X_test = X[train_ix], X[test_ix]\n",
    "    y_train, y_test = y[train_ix], y[test_ix]\n",
    "    w_train, w_test = np.squeeze(w[train_ix]), np.squeeze(w[test_ix])\n",
    "    chrom_train, chrom_test = np.squeeze(chromatin[train_ix]), np.squeeze(chromatin[test_ix])\n",
    "    \n",
    "    print(\"Training on fold %d...\"%(ifold+1))\n",
    "    \n",
    "    \n",
    "    # if we use the chromatin model, we need a list of inputs\n",
    "    \n",
    "    if include_chromatin_data:\n",
    "        model = create_chromatin()\n",
    "        hist = model.fit([X_train,chrom_train], y_train,\n",
    "                         sample_weight = w_train,\n",
    "                         batch_size = batch_size,\n",
    "                         epochs = n_epochs,\n",
    "                         verbose = 0,\n",
    "                         validation_data=([X_test,chrom_test],y_test,w_test))\n",
    "    else:\n",
    "        model = create_baseline()\n",
    "        hist = model.fit(X_train, y_train,\n",
    "                         sample_weight = w_train,\n",
    "                         batch_size = batch_size,\n",
    "                         epochs = n_epochs,\n",
    "                         verbose = 0,\n",
    "                         validation_data=(X_test,y_test,w_test))\n",
    "\n",
    "    models.append(model)\n",
    "    fithists.append(hist)\n",
    "    \n",
    "    print(\"Done\")\n",
    "    "
   ]
  },
  {
   "cell_type": "code",
   "execution_count": 146,
   "metadata": {
    "colab": {
     "base_uri": "https://localhost:8080/",
     "height": 312
    },
    "colab_type": "code",
    "id": "-pVERzb-gr4q",
    "outputId": "5787af65-d618-42f6-ca0e-1f032121b499"
   },
   "outputs": [
    {
     "name": "stdout",
     "output_type": "stream",
     "text": [
      "Model results (validation):\n",
      "\n",
      "\n",
      "Loss (Mean):      0.6158\n",
      "Loss (Std):       0.0452\n",
      "\n",
      "\n",
      "Accuracy (Mean):  77.22%\n",
      "Accuracy (Std):   23.06%\n",
      "\n",
      "\n",
      "Precision (Mean): 1.71%\n",
      "Precision (Std):  0.91%\n",
      "\n",
      "\n",
      "Recall (Mean):    53.38%\n",
      "Recall (Std):     14.93%\n"
     ]
    }
   ],
   "source": [
    "print(\"Model results (validation):\")\n",
    "print(\"\\n\")\n",
    "print(\"Loss (Mean):      %0.4f\"%(np.mean([h.history['val_loss'] for h in fithists])))\n",
    "print(\"Loss (Std):       %0.4f\"%(np.std([h.history['val_loss'] for h in fithists])))\n",
    "print(\"\\n\")\n",
    "print(\"Accuracy (Mean):  %0.2f%%\"%(100*np.mean([h.history['val_acc'] for h in fithists])))\n",
    "print(\"Accuracy (Std):   %0.2f%%\"%(100*np.std([h.history['val_acc'] for h in fithists])))\n",
    "print(\"\\n\")\n",
    "print(\"Precision (Mean): %0.2f%%\"%(100*np.mean([h.history['val_precision'] for h in fithists])))\n",
    "print(\"Precision (Std):  %0.2f%%\"%(100*np.std([h.history['val_precision'] for h in fithists])))\n",
    "print(\"\\n\")\n",
    "print(\"Recall (Mean):    %0.2f%%\"%(100*np.mean([h.history['val_recall'] for h in fithists])))\n",
    "print(\"Recall (Std):     %0.2f%%\"%(100*np.std([h.history['val_recall'] for h in fithists])))"
   ]
  },
  {
   "cell_type": "code",
   "execution_count": 0,
   "metadata": {
    "colab": {},
    "colab_type": "code",
    "id": "2cqF7SyFb_v7"
   },
   "outputs": [],
   "source": [
    "def loss_rate_plot(hist, ax, label='',legend=False):\n",
    "    ax.plot(hist.history['loss'])\n",
    "    ax.plot(hist.history['val_loss'])\n",
    "    if label=='':\n",
    "        ax.set_title(\"Loss Rate\", size=14)\n",
    "    else:\n",
    "        ax.set_title(\"Loss Rate (%s)\"%(label), size=14)\n",
    "    ax.set_ylabel('Loss')\n",
    "    ax.set_xlabel('Training interations')\n",
    "    if legend:\n",
    "        ax.legend(['Training', 'Validation'], loc='upper right')\n",
    "\n",
    "def accuracy_rate_plot(hist,ax,label='',legend=False):\n",
    "    ax.plot([j*100 for j in hist.history['acc']])\n",
    "    ax.plot([j*100 for j in hist.history['val_acc']])\n",
    "    if label=='':\n",
    "        ax.set_title(\"Accuracy\", size=14)\n",
    "    else:\n",
    "        ax.set_title(\"Accuracy (%s)\"%(label), size=14)\n",
    "    ax.set_ylabel('Accuracy %')\n",
    "    ax.set_xlabel('Training iterations')\n",
    "    if legend:\n",
    "        ax.legend(['Training','Validation'], loc='lower right')\n",
    "\n",
    "def precision_rate_plot(hist,ax,label='',legend=False):\n",
    "    ax.plot([j*100 for j in hist.history['precision']])\n",
    "    ax.plot([j*100 for j in hist.history['val_precision']])\n",
    "    if label=='':\n",
    "        ax.set_title(\"Precision\", size=14)\n",
    "    else:\n",
    "        ax.set_title(\"Precision (%s)\"%(label), size=14)\n",
    "    ax.set_ylabel('Precision %')\n",
    "    ax.set_xlabel('Training iterations')\n",
    "    if legend:\n",
    "        ax.legend(['Training','Validation'], loc='lower right')\n",
    "\n",
    "def recall_rate_plot(hist,ax,label='',legend=False):\n",
    "    ax.plot([j*100 for j in hist.history['recall']])\n",
    "    ax.plot([j*100 for j in hist.history['val_recall']])\n",
    "    if label=='':\n",
    "        ax.set_title(\"Recall\", size=14)\n",
    "    else:\n",
    "        ax.set_title(\"Recall (%s)\"%(label), size=14)\n",
    "    ax.set_ylabel('Recall %')\n",
    "    ax.set_xlabel('Training iterations')\n",
    "    if legend:\n",
    "        ax.legend(['Training','Validation'], loc='lower right')"
   ]
  },
  {
   "cell_type": "code",
   "execution_count": 154,
   "metadata": {
    "colab": {
     "base_uri": "https://localhost:8080/",
     "height": 1289
    },
    "colab_type": "code",
    "id": "EPdyOVmckA1y",
    "outputId": "e359511d-d081-4405-a2ba-63b0f9eb301d"
   },
   "outputs": [
    {
     "data": {
      "image/png": "iVBORw0KGgoAAAANSUhEUgAAAjgAAAGoCAYAAABL+58oAAAABHNCSVQICAgIfAhkiAAAAAlwSFlz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\nOXdYR2JiDjFmxChLTNyhp4iDxeAYRpSYgmMYDZS0clWG+3